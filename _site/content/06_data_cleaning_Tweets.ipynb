{
 "cells": [
  {
   "cell_type": "markdown",
   "metadata": {
    "slideshow": {
     "slide_type": "slide"
    }
   },
   "source": [
    "***\n",
    "***\n",
    "# 数据清洗之推特数据\n",
    "***\n",
    "***\n",
    "\n",
    "王成军\n",
    "\n",
    "wangchengjun@nju.edu.cn\n",
    "\n",
    "计算传播网 http://computational-communication.com"
   ]
  },
  {
   "cell_type": "markdown",
   "metadata": {
    "slideshow": {
     "slide_type": "slide"
    }
   },
   "source": [
    "## 数据清洗（data cleaning）\n",
    "是数据分析的重要步骤，其主要目标是将混杂的数据清洗为可以被直接分析的数据，一般需要将数据转化为数据框（data frame）的样式。\n",
    "\n",
    "本章将以推特文本的清洗作为例子，介绍数据清洗的基本逻辑。\n",
    "\n",
    "- 清洗错误行\n",
    "- 正确分列\n",
    "- 提取所要分析的内容\n",
    "- 介绍通过按行、chunk的方式对大规模数据进行预处理\n",
    "\n",
    "\n"
   ]
  },
  {
   "cell_type": "markdown",
   "metadata": {
    "slideshow": {
     "slide_type": "slide"
    }
   },
   "source": [
    "# 1. 抽取tweets样本做实验\n",
    "此节学生略过"
   ]
  },
  {
   "cell_type": "code",
   "execution_count": 23,
   "metadata": {
    "slideshow": {
     "slide_type": "fragment"
    }
   },
   "outputs": [
    {
     "name": "stdout",
     "output_type": "stream",
     "text": [
      "2752\n"
     ]
    }
   ],
   "source": [
    "bigfile = open('/Users/chengjun/百度云同步盘/Writing/OWS/ows-raw.txt', 'r')\n",
    "chunkSize = 1000000\n",
    "chunk = bigfile.readlines(chunkSize)\n",
    "print(len(chunk))\n",
    "with open(\"/Users/chengjun/GitHub/cjc/data/ows_tweets_sample.txt\", 'w') as f:\n",
    "    for i in chunk:\n",
    "        f.write(i)  "
   ]
  },
  {
   "cell_type": "markdown",
   "metadata": {
    "slideshow": {
     "slide_type": "slide"
    }
   },
   "source": [
    "# Lazy Method for Reading Big File in Python?"
   ]
  },
  {
   "cell_type": "code",
   "execution_count": 6,
   "metadata": {
    "ExecuteTime": {
     "end_time": "2019-06-08T07:31:51.644484Z",
     "start_time": "2019-06-08T07:30:56.170308Z"
    },
    "slideshow": {
     "slide_type": "subslide"
    }
   },
   "outputs": [
    {
     "name": "stdout",
     "output_type": "stream",
     "text": [
      "0 262665\n",
      "1 525130\n",
      "2 787344\n",
      "3 1049351\n",
      "4 1312571\n",
      "5 1574666\n",
      "6 1835628\n",
      "7 2097136\n",
      "8 2358494\n",
      "9 2619723\n",
      "10 2880857\n",
      "11 3140945\n",
      "12 3404775\n",
      "13 3665565\n",
      "14 3927996\n",
      "15 4189419\n",
      "16 4449078\n",
      "17 4709001\n",
      "18 4969877\n",
      "19 5230937\n",
      "20 5492578\n",
      "21 5756613\n",
      "22 6022478\n",
      "23 6286119\n",
      "24 6549476\n",
      "25 6602141\n"
     ]
    }
   ],
   "source": [
    "# https://stackoverflow.com/questions/519633/lazy-method-for-reading-big-file-in-python?lq=1\n",
    "import csv\n",
    "bigfile = open('/Users/datalab/bigdata/cjc/ows-raw.txt', 'r')\n",
    "\n",
    "chunkSize = 10**8\n",
    "chunk = bigfile.readlines(chunkSize)\n",
    "num, num_lines = 0, 0\n",
    "while chunk:\n",
    "    lines = csv.reader((line.replace('\\x00','') for line in chunk), \n",
    "                       delimiter=',', quotechar='\"')\n",
    "    #do sth.\n",
    "    num_lines += len(list(lines))\n",
    "    print(num, num_lines)\n",
    "    num += 1\n",
    "    chunk = bigfile.readlines(chunkSize) # read another chunk"
   ]
  },
  {
   "cell_type": "markdown",
   "metadata": {
    "slideshow": {
     "slide_type": "subslide"
    }
   },
   "source": [
    "# 字节（Byte /bait/）\n",
    "\n",
    "计算机信息技术用于计量存储容量的一种计量单位，通常情况下一字节等于有八位， [1]  也表示一些计算机编程语言中的数据类型和语言字符。\n",
    "- 1B（byte，字节）= 8 bit；\n",
    "- 1KB=1000B；1MB=1000KB=1000×1000B。其中1000=10^3。\n",
    "- 1KB（kilobyte，千字节）=1000B= 10^3 B；\n",
    "- 1MB（Megabyte，兆字节，百万字节，简称“兆”）=1000KB= 10^6 B；\n",
    "- 1GB（Gigabyte，吉字节，十亿字节，又称“千兆”）=1000MB= 10^9 B；"
   ]
  },
  {
   "cell_type": "markdown",
   "metadata": {
    "slideshow": {
     "slide_type": "slide"
    }
   },
   "source": [
    "## 用Pandas的get_chunk功能来处理亿级数据\n",
    "\n",
    "> 只有在超过5TB数据量的规模下，Hadoop才是一个合理的技术选择。"
   ]
  },
  {
   "cell_type": "code",
   "execution_count": null,
   "metadata": {
    "slideshow": {
     "slide_type": "subslide"
    }
   },
   "outputs": [],
   "source": [
    "import pandas as pd\n",
    "\n",
    "f = open('../bigdata/OWS/ows-raw.txt',encoding='utf-8')\n",
    "reader = pd.read_table(f,  sep=',',  iterator=True, error_bad_lines=False) #跳过报错行\n",
    "loop = True\n",
    "chunkSize = 100000\n",
    "data = []\n",
    "\n",
    "while loop:\n",
    "    try:\n",
    "        chunk = reader.get_chunk(chunkSize)\n",
    "        dat = data_cleaning_funtion(chunk) # do sth.\n",
    "        data.append(dat) \n",
    "    except StopIteration:\n",
    "        loop = False\n",
    "        print(\"Iteration is stopped.\")\n",
    "\n",
    "df = pd.concat(data, ignore_index=True)"
   ]
  },
  {
   "cell_type": "markdown",
   "metadata": {
    "slideshow": {
     "slide_type": "slide"
    }
   },
   "source": [
    "# 2. 清洗错行的情况"
   ]
  },
  {
   "cell_type": "code",
   "execution_count": 7,
   "metadata": {
    "ExecuteTime": {
     "end_time": "2019-06-08T07:42:24.661108Z",
     "start_time": "2019-06-08T07:42:24.648304Z"
    },
    "slideshow": {
     "slide_type": "subslide"
    }
   },
   "outputs": [],
   "source": [
    "with open(\"../data/ows_tweets_sample.txt\", 'r') as f:\n",
    "    lines = f.readlines() "
   ]
  },
  {
   "cell_type": "code",
   "execution_count": 8,
   "metadata": {
    "ExecuteTime": {
     "end_time": "2019-06-08T07:42:28.452634Z",
     "start_time": "2019-06-08T07:42:28.441018Z"
    },
    "slideshow": {
     "slide_type": "subslide"
    }
   },
   "outputs": [
    {
     "data": {
      "text/plain": [
       "2753"
      ]
     },
     "execution_count": 8,
     "metadata": {},
     "output_type": "execute_result"
    }
   ],
   "source": [
    "# 总行数\n",
    "len(lines)"
   ]
  },
  {
   "cell_type": "code",
   "execution_count": 9,
   "metadata": {
    "ExecuteTime": {
     "end_time": "2019-06-08T07:42:32.821269Z",
     "start_time": "2019-06-08T07:42:32.816918Z"
    },
    "slideshow": {
     "slide_type": "subslide"
    }
   },
   "outputs": [
    {
     "data": {
      "text/plain": [
       "'121813245488140288,\"@HumanityCritic i\\'m worried that the #ows sells out to the hamsher-norquist spitefuck, and tries to unite with the teahad.\",http://a2.twimg.com/profile_images/627683576/flytits_normal.jpg,2011-10-06,5,5,\"2011-10-06 05:05:15\",N;,fucentarmal,27480502,en,HumanityCritic,230431,\"&lt;a href=&quot;http://www.tweetdeck.com&quot; rel=&quot;nofollow&quot;&gt;TweetDeck&lt;/a&gt;\"\\n'"
      ]
     },
     "execution_count": 9,
     "metadata": {},
     "output_type": "execute_result"
    }
   ],
   "source": [
    "# 查看第一行\n",
    "lines[15]"
   ]
  },
  {
   "cell_type": "code",
   "execution_count": 40,
   "metadata": {},
   "outputs": [
    {
     "name": "stdout",
     "output_type": "stream",
     "text": [
      "Help on built-in function split:\n",
      "\n",
      "split(...) method of builtins.str instance\n",
      "    S.split(sep=None, maxsplit=-1) -> list of strings\n",
      "    \n",
      "    Return a list of the words in S, using sep as the\n",
      "    delimiter string.  If maxsplit is given, at most maxsplit\n",
      "    splits are done. If sep is not specified or is None, any\n",
      "    whitespace string is a separator and empty strings are\n",
      "    removed from the result.\n",
      "\n"
     ]
    }
   ],
   "source": [
    "help(lines[1].split)"
   ]
  },
  {
   "cell_type": "markdown",
   "metadata": {
    "slideshow": {
     "slide_type": "subslide"
    }
   },
   "source": [
    "# 问题： 第一行是变量名\n",
    "> ## 1. 如何去掉换行符？\n",
    "> ## 2. 如何获取每一个变量名？\n"
   ]
  },
  {
   "cell_type": "code",
   "execution_count": 10,
   "metadata": {
    "ExecuteTime": {
     "end_time": "2019-06-08T07:43:39.363547Z",
     "start_time": "2019-06-08T07:43:39.358317Z"
    },
    "slideshow": {
     "slide_type": "subslide"
    }
   },
   "outputs": [
    {
     "data": {
      "text/plain": [
       "['\"Twitter ID\"',\n",
       " 'Text',\n",
       " '\"Profile Image URL\"',\n",
       " 'Day',\n",
       " 'Hour',\n",
       " 'Minute',\n",
       " '\"Created At\"',\n",
       " 'Geo',\n",
       " '\"From User\"',\n",
       " '\"From User ID\"',\n",
       " 'Language',\n",
       " '\"To User\"',\n",
       " '\"To User ID\"',\n",
       " 'Source']"
      ]
     },
     "execution_count": 10,
     "metadata": {},
     "output_type": "execute_result"
    }
   ],
   "source": [
    "varNames = lines[0].replace('\\n', '').split(',')\n",
    "varNames"
   ]
  },
  {
   "cell_type": "code",
   "execution_count": 11,
   "metadata": {
    "ExecuteTime": {
     "end_time": "2019-06-08T07:43:49.131388Z",
     "start_time": "2019-06-08T07:43:49.127319Z"
    },
    "slideshow": {
     "slide_type": "subslide"
    }
   },
   "outputs": [
    {
     "data": {
      "text/plain": [
       "14"
      ]
     },
     "execution_count": 11,
     "metadata": {},
     "output_type": "execute_result"
    }
   ],
   "source": [
    "len(varNames)"
   ]
  },
  {
   "cell_type": "code",
   "execution_count": 12,
   "metadata": {
    "ExecuteTime": {
     "end_time": "2019-06-08T07:43:53.979866Z",
     "start_time": "2019-06-08T07:43:53.975920Z"
    },
    "slideshow": {
     "slide_type": "subslide"
    }
   },
   "outputs": [
    {
     "data": {
      "text/plain": [
       "'121818600490283009,\"RT @chachiTHEgr8: RT @TheNewDeal: First they ignore you, then they laugh at you, then they fight you, then you win. - Gandhi #OccupyWallStreet #OWS #p2\",http://a0.twimg.com/profile_images/326662126/Photo_233_normal.jpg,2011-10-06,5,26,\"2011-10-06 05:26:32\",N;,k_l_h_j,382233343,en,,0,\"&lt;a href=&quot;http://twitter.com/#!/download/iphone&quot; rel=&quot;nofollow&quot;&gt;Twitter for iPhone&lt;/a&gt;\"\\n'"
      ]
     },
     "execution_count": 12,
     "metadata": {},
     "output_type": "execute_result"
    }
   ],
   "source": [
    "lines[1344]"
   ]
  },
  {
   "cell_type": "markdown",
   "metadata": {
    "slideshow": {
     "slide_type": "subslide"
    }
   },
   "source": [
    "# 如何来处理错误换行情况？"
   ]
  },
  {
   "cell_type": "code",
   "execution_count": 7,
   "metadata": {
    "ExecuteTime": {
     "end_time": "2018-04-28T10:57:03.746530Z",
     "start_time": "2018-04-28T10:57:03.727339Z"
    },
    "slideshow": {
     "slide_type": "subslide"
    }
   },
   "outputs": [],
   "source": [
    "with open(\"../data/ows_tweets_sample_clean.txt\", 'w') as f:\n",
    "    right_line = '' # 正确的行，它是一个空字符串\n",
    "    blocks = [] # 确认为正确的行会被添加到blocks里面\n",
    "    for line in lines:\n",
    "        right_line += line.replace('\\n', ' ')\n",
    "        line_length = len(right_line.split(','))\n",
    "        if line_length >= 14:\n",
    "            blocks.append(right_line)\n",
    "            right_line = '' \n",
    "    for i in blocks:\n",
    "        f.write(i + '\\n')"
   ]
  },
  {
   "cell_type": "code",
   "execution_count": 8,
   "metadata": {
    "ExecuteTime": {
     "end_time": "2018-04-28T10:57:07.915900Z",
     "start_time": "2018-04-28T10:57:07.911441Z"
    },
    "slideshow": {
     "slide_type": "subslide"
    }
   },
   "outputs": [
    {
     "data": {
      "text/plain": [
       "2627"
      ]
     },
     "execution_count": 8,
     "metadata": {},
     "output_type": "execute_result"
    }
   ],
   "source": [
    "len(blocks)"
   ]
  },
  {
   "cell_type": "code",
   "execution_count": 9,
   "metadata": {
    "ExecuteTime": {
     "end_time": "2018-04-28T10:57:16.586149Z",
     "start_time": "2018-04-28T10:57:16.582151Z"
    },
    "slideshow": {
     "slide_type": "subslide"
    }
   },
   "outputs": [
    {
     "data": {
      "text/plain": [
       "'121818879105310720,\"RT @Min_Reyes: RT @The99Percenters: New video to go viral. From We Are Change http://t.co/6Ff718jk Listen to the guy begging... #ows #cdnpoli\",http://a3.twimg.com/sticky/default_profile_images/default_profile_0_normal.png,2011-10-06,5,27,\"2011-10-06 05:27:38\",N;,MiyazakiMegu,260948518,en,,0,\"&lt;a href=&quot;http://www.tweetdeck.com&quot; rel=&quot;nofollow&quot;&gt;TweetDeck&lt;/a&gt;\" '"
      ]
     },
     "execution_count": 9,
     "metadata": {},
     "output_type": "execute_result"
    }
   ],
   "source": [
    "blocks[1344]"
   ]
  },
  {
   "cell_type": "markdown",
   "metadata": {
    "slideshow": {
     "slide_type": "subslide"
    }
   },
   "source": [
    "# 同时考虑分列符和引用符\n",
    "\n",
    "- 分列符🔥分隔符：sep, delimiter\n",
    "- 引用符☁️：quotechar\n"
   ]
  },
  {
   "cell_type": "code",
   "execution_count": 13,
   "metadata": {
    "ExecuteTime": {
     "end_time": "2019-06-08T07:51:20.459071Z",
     "start_time": "2019-06-08T07:51:20.453871Z"
    },
    "slideshow": {
     "slide_type": "fragment"
    }
   },
   "outputs": [
    {
     "data": {
      "text/plain": [
       "['121813245488140288',\n",
       " \"@HumanityCritic i'm worried that the #ows sells out to the hamsher-norquist spitefuck, and tries to unite with the teahad.\",\n",
       " 'http://a2.twimg.com/profile_images/627683576/flytits_normal.jpg,2011-10-06,5,5',\n",
       " '2011-10-06 05:05:15',\n",
       " 'N;,fucentarmal,27480502,en,HumanityCritic,230431',\n",
       " '&lt;a href=&quot;http://www.tweetdeck.com&quot; rel=&quot;nofollow&quot;&gt;TweetDeck&lt;/a&gt;\"\\n']"
      ]
     },
     "execution_count": 13,
     "metadata": {},
     "output_type": "execute_result"
    }
   ],
   "source": [
    "import re\n",
    "re.split(',\"|\",', lines[15])"
   ]
  },
  {
   "cell_type": "code",
   "execution_count": 14,
   "metadata": {
    "ExecuteTime": {
     "end_time": "2019-06-08T07:52:33.453629Z",
     "start_time": "2019-06-08T07:52:33.441462Z"
    },
    "slideshow": {
     "slide_type": "subslide"
    }
   },
   "outputs": [
    {
     "name": "stdout",
     "output_type": "stream",
     "text": [
      "line = 35  length = 6\n",
      "line = 36  length = 6\n",
      "line = 37  length = 6\n",
      "line = 38  length = 6\n",
      "line = 39  length = 6\n",
      "line = 40  length = 6\n",
      "line = 41  length = 2\n",
      "line = 42  length = 5\n",
      "line = 43  length = 6\n",
      "line = 44  length = 6\n",
      "line = 45  length = 6\n",
      "line = 46  length = 6\n",
      "line = 47  length = 6\n",
      "line = 48  length = 2\n",
      "line = 49  length = 5\n"
     ]
    }
   ],
   "source": [
    "import re\n",
    "\n",
    "with open(\"../data/ows_tweets_sample.txt\",'r') as f:\n",
    "    lines = f.readlines()\n",
    "    \n",
    "for i in range(35,50):\n",
    "    i_ = re.split(',\"|\",', lines[i])\n",
    "    print('line =',i,' length =', len(i_))\n"
   ]
  },
  {
   "cell_type": "code",
   "execution_count": 15,
   "metadata": {
    "ExecuteTime": {
     "end_time": "2019-06-08T07:54:54.976462Z",
     "start_time": "2019-06-08T07:54:54.944533Z"
    },
    "slideshow": {
     "slide_type": "subslide"
    }
   },
   "outputs": [],
   "source": [
    "with open(\"../data/ows_tweets_sample_clean4.txt\", 'w') as f:\n",
    "    right_line = '' # 正确的行，它是一个空字符串\n",
    "    blocks = [] # 确认为正确的行会被添加到blocks里面\n",
    "    for line in lines:\n",
    "        right_line += line.replace('\\n', ' ').replace('\\r', ' ')\n",
    "        #line_length = len(right_line.split(','))\n",
    "        i_ = re.split(',\"|\",', right_line)\n",
    "        line_length = len(i_)\n",
    "        if line_length >= 6:\n",
    "            blocks.append(right_line)\n",
    "            right_line = ''\n",
    "#     for i in blocks:\n",
    "#         f.write(i + '\\n')"
   ]
  },
  {
   "cell_type": "code",
   "execution_count": 16,
   "metadata": {
    "ExecuteTime": {
     "end_time": "2019-06-08T07:54:59.860355Z",
     "start_time": "2019-06-08T07:54:59.856381Z"
    },
    "slideshow": {
     "slide_type": "subslide"
    }
   },
   "outputs": [
    {
     "data": {
      "text/plain": [
       "2626"
      ]
     },
     "execution_count": 16,
     "metadata": {},
     "output_type": "execute_result"
    }
   ],
   "source": [
    "len(blocks)"
   ]
  },
  {
   "cell_type": "markdown",
   "metadata": {
    "slideshow": {
     "slide_type": "slide"
    }
   },
   "source": [
    "# 3. 读取数据、正确分列"
   ]
  },
  {
   "cell_type": "code",
   "execution_count": 18,
   "metadata": {
    "ExecuteTime": {
     "end_time": "2019-06-08T07:55:54.719495Z",
     "start_time": "2019-06-08T07:55:54.712843Z"
    },
    "slideshow": {
     "slide_type": "fragment"
    }
   },
   "outputs": [],
   "source": [
    "# 提示：你可能需要修改以下路径名\n",
    "with open(\"../data/ows_tweets_sample.txt\", 'r') as f:\n",
    "    chunk = f.readlines()"
   ]
  },
  {
   "cell_type": "code",
   "execution_count": 19,
   "metadata": {
    "ExecuteTime": {
     "end_time": "2019-06-08T07:55:57.501462Z",
     "start_time": "2019-06-08T07:55:57.497278Z"
    },
    "slideshow": {
     "slide_type": "subslide"
    }
   },
   "outputs": [
    {
     "data": {
      "text/plain": [
       "2753"
      ]
     },
     "execution_count": 19,
     "metadata": {},
     "output_type": "execute_result"
    }
   ],
   "source": [
    "len(chunk)"
   ]
  },
  {
   "cell_type": "code",
   "execution_count": 20,
   "metadata": {
    "ExecuteTime": {
     "end_time": "2019-06-08T07:56:00.549021Z",
     "start_time": "2019-06-08T07:56:00.544656Z"
    },
    "slideshow": {
     "slide_type": "fragment"
    }
   },
   "outputs": [
    {
     "data": {
      "text/plain": [
       "['\"Twitter ID\",Text,\"Profile Image URL\",Day,Hour,Minute,\"Created At\",Geo,\"From User\",\"From User ID\",Language,\"To User\",\"To User ID\",Source\\n',\n",
       " '121813144174727168,\"RT @AnonKitsu: ALERT!!!!!!!!!!COPS ARE KETTLING PROTESTERS IN PARK W HELICOPTERS AND PADDYWAGONS!!!! #OCCUPYWALLSTREET #OWS #OCCUPYNY PLEASE RT !!HELP!!!!\",http://a2.twimg.com/profile_images/1539375713/Twitter_normal.jpg,2011-10-06,5,4,\"2011-10-06 05:04:51\",N;,Anonops_Cop,401240477,en,,0,\"&lt;a href=&quot;http://twitter.com/&quot;&gt;web&lt;/a&gt;\"\\n',\n",
       " '121813146137657344,\"@jamiekilstein @allisonkilkenny Interesting interview (never aired, wonder why??) by Fox with #ows protester http://t.co/Fte55Kh7\",http://a2.twimg.com/profile_images/1574715503/Kate6_normal.jpg,2011-10-06,5,4,\"2011-10-06 05:04:51\",N;,KittyHybrid,34532053,en,jamiekilstein,2149053,\"&lt;a href=&quot;http://twitter.com/&quot;&gt;web&lt;/a&gt;\"\\n']"
      ]
     },
     "execution_count": 20,
     "metadata": {},
     "output_type": "execute_result"
    }
   ],
   "source": [
    "chunk[:3]"
   ]
  },
  {
   "cell_type": "code",
   "execution_count": 21,
   "metadata": {
    "ExecuteTime": {
     "end_time": "2019-06-08T07:56:05.677057Z",
     "start_time": "2019-06-08T07:56:05.656929Z"
    },
    "slideshow": {
     "slide_type": "slide"
    }
   },
   "outputs": [
    {
     "name": "stdout",
     "output_type": "stream",
     "text": [
      "2627\n"
     ]
    }
   ],
   "source": [
    "import csv\n",
    "lines_csv = csv.reader(chunk, delimiter=',', quotechar='\"') \n",
    "print(len(list(lines_csv)))\n",
    "# next(lines_csv)\n",
    "# next(lines_csv)"
   ]
  },
  {
   "cell_type": "code",
   "execution_count": 27,
   "metadata": {
    "ExecuteTime": {
     "end_time": "2018-04-29T01:12:38.678653Z",
     "start_time": "2018-04-29T01:12:38.611535Z"
    },
    "slideshow": {
     "slide_type": "skip"
    }
   },
   "outputs": [],
   "source": [
    "import re\n",
    "import csv\n",
    "\n",
    "from collections import defaultdict\n",
    "\n",
    "def extract_rt_user(tweet):\n",
    "    rt_patterns = re.compile(r\"(RT|via)((?:\\b\\W*@\\w+)+)\", re.IGNORECASE)\n",
    "    rt_user_name = rt_patterns.findall(tweet)\n",
    "    if rt_user_name:\n",
    "        rt_user_name = rt_user_name[0][1].strip(' @')\n",
    "    else:\n",
    "        rt_user_name = None\n",
    "    return rt_user_name\n",
    "\n",
    "rt_network = defaultdict(int)\n",
    "f = open(\"../data/ows_tweets_sample.txt\", 'r')\n",
    "chunk = f.readlines(100000)\n",
    "while chunk:   \n",
    "    #lines = csv.reader(chunk, delimiter=',', quotechar='\"') \n",
    "    lines = csv.reader((line.replace('\\x00','') for line in chunk), delimiter=',', quotechar='\"')\n",
    "    for line in lines:\n",
    "        tweet = line[1]\n",
    "        from_user = line[8]\n",
    "        rt_user = extract_rt_user(tweet)\n",
    "        rt_network[(from_user, rt_user)] += 1    \n",
    "    chunk = f.readlines(100000)"
   ]
  },
  {
   "cell_type": "code",
   "execution_count": 22,
   "metadata": {
    "ExecuteTime": {
     "end_time": "2019-06-08T07:56:22.886245Z",
     "start_time": "2019-06-08T07:56:22.198448Z"
    },
    "slideshow": {
     "slide_type": "slide"
    }
   },
   "outputs": [
    {
     "data": {
      "text/html": [
       "<div>\n",
       "<style scoped>\n",
       "    .dataframe tbody tr th:only-of-type {\n",
       "        vertical-align: middle;\n",
       "    }\n",
       "\n",
       "    .dataframe tbody tr th {\n",
       "        vertical-align: top;\n",
       "    }\n",
       "\n",
       "    .dataframe thead th {\n",
       "        text-align: right;\n",
       "    }\n",
       "</style>\n",
       "<table border=\"1\" class=\"dataframe\">\n",
       "  <thead>\n",
       "    <tr style=\"text-align: right;\">\n",
       "      <th></th>\n",
       "      <th>Twitter ID</th>\n",
       "      <th>Text</th>\n",
       "      <th>Profile Image URL</th>\n",
       "      <th>Day</th>\n",
       "      <th>Hour</th>\n",
       "      <th>Minute</th>\n",
       "      <th>Created At</th>\n",
       "      <th>Geo</th>\n",
       "      <th>From User</th>\n",
       "      <th>From User ID</th>\n",
       "      <th>Language</th>\n",
       "      <th>To User</th>\n",
       "      <th>To User ID</th>\n",
       "      <th>Source</th>\n",
       "    </tr>\n",
       "  </thead>\n",
       "  <tbody>\n",
       "    <tr>\n",
       "      <th>0</th>\n",
       "      <td>121813144174727168</td>\n",
       "      <td>RT @AnonKitsu: ALERT!!!!!!!!!!COPS ARE KETTLIN...</td>\n",
       "      <td>http://a2.twimg.com/profile_images/1539375713/...</td>\n",
       "      <td>2011-10-06</td>\n",
       "      <td>5</td>\n",
       "      <td>4</td>\n",
       "      <td>2011-10-06 05:04:51</td>\n",
       "      <td>N;</td>\n",
       "      <td>Anonops_Cop</td>\n",
       "      <td>401240477</td>\n",
       "      <td>en</td>\n",
       "      <td>NaN</td>\n",
       "      <td>0</td>\n",
       "      <td>&amp;lt;a href=&amp;quot;http://twitter.com/&amp;quot;&amp;gt;...</td>\n",
       "    </tr>\n",
       "    <tr>\n",
       "      <th>1</th>\n",
       "      <td>121813146137657344</td>\n",
       "      <td>@jamiekilstein @allisonkilkenny Interesting in...</td>\n",
       "      <td>http://a2.twimg.com/profile_images/1574715503/...</td>\n",
       "      <td>2011-10-06</td>\n",
       "      <td>5</td>\n",
       "      <td>4</td>\n",
       "      <td>2011-10-06 05:04:51</td>\n",
       "      <td>N;</td>\n",
       "      <td>KittyHybrid</td>\n",
       "      <td>34532053</td>\n",
       "      <td>en</td>\n",
       "      <td>jamiekilstein</td>\n",
       "      <td>2149053</td>\n",
       "      <td>&amp;lt;a href=&amp;quot;http://twitter.com/&amp;quot;&amp;gt;...</td>\n",
       "    </tr>\n",
       "    <tr>\n",
       "      <th>2</th>\n",
       "      <td>121813150000619521</td>\n",
       "      <td>@Seductivpancake Right! Those guys have a vict...</td>\n",
       "      <td>http://a1.twimg.com/profile_images/1241412831/...</td>\n",
       "      <td>2011-10-06</td>\n",
       "      <td>5</td>\n",
       "      <td>4</td>\n",
       "      <td>2011-10-06 05:04:52</td>\n",
       "      <td>N;</td>\n",
       "      <td>nerdsherpa</td>\n",
       "      <td>95067344</td>\n",
       "      <td>en</td>\n",
       "      <td>Seductivpancake</td>\n",
       "      <td>19695580</td>\n",
       "      <td>&amp;lt;a href=&amp;quot;http://www.echofon.com/&amp;quot;...</td>\n",
       "    </tr>\n",
       "  </tbody>\n",
       "</table>\n",
       "</div>"
      ],
      "text/plain": [
       "           Twitter ID                                               Text  \\\n",
       "0  121813144174727168  RT @AnonKitsu: ALERT!!!!!!!!!!COPS ARE KETTLIN...   \n",
       "1  121813146137657344  @jamiekilstein @allisonkilkenny Interesting in...   \n",
       "2  121813150000619521  @Seductivpancake Right! Those guys have a vict...   \n",
       "\n",
       "                                   Profile Image URL         Day  Hour  \\\n",
       "0  http://a2.twimg.com/profile_images/1539375713/...  2011-10-06     5   \n",
       "1  http://a2.twimg.com/profile_images/1574715503/...  2011-10-06     5   \n",
       "2  http://a1.twimg.com/profile_images/1241412831/...  2011-10-06     5   \n",
       "\n",
       "   Minute           Created At Geo    From User  From User ID Language  \\\n",
       "0       4  2011-10-06 05:04:51  N;  Anonops_Cop     401240477       en   \n",
       "1       4  2011-10-06 05:04:51  N;  KittyHybrid      34532053       en   \n",
       "2       4  2011-10-06 05:04:52  N;   nerdsherpa      95067344       en   \n",
       "\n",
       "           To User  To User ID  \\\n",
       "0              NaN           0   \n",
       "1    jamiekilstein     2149053   \n",
       "2  Seductivpancake    19695580   \n",
       "\n",
       "                                              Source  \n",
       "0  &lt;a href=&quot;http://twitter.com/&quot;&gt;...  \n",
       "1  &lt;a href=&quot;http://twitter.com/&quot;&gt;...  \n",
       "2  &lt;a href=&quot;http://www.echofon.com/&quot;...  "
      ]
     },
     "execution_count": 22,
     "metadata": {},
     "output_type": "execute_result"
    }
   ],
   "source": [
    "import pandas as pd\n",
    "df = pd.read_csv(\"../data/ows_tweets_sample.txt\",\n",
    "                 sep = ',', quotechar='\"')\n",
    "df[:3]"
   ]
  },
  {
   "cell_type": "code",
   "execution_count": 23,
   "metadata": {
    "ExecuteTime": {
     "end_time": "2019-06-08T07:57:21.705488Z",
     "start_time": "2019-06-08T07:57:21.701307Z"
    },
    "slideshow": {
     "slide_type": "subslide"
    }
   },
   "outputs": [
    {
     "data": {
      "text/plain": [
       "2626"
      ]
     },
     "execution_count": 23,
     "metadata": {},
     "output_type": "execute_result"
    }
   ],
   "source": [
    "len(df)"
   ]
  },
  {
   "cell_type": "code",
   "execution_count": 24,
   "metadata": {
    "ExecuteTime": {
     "end_time": "2019-06-08T07:57:25.595447Z",
     "start_time": "2019-06-08T07:57:25.588512Z"
    },
    "slideshow": {
     "slide_type": "fragment"
    }
   },
   "outputs": [
    {
     "data": {
      "text/plain": [
       "'RT @AnonKitsu: ALERT!!!!!!!!!!COPS ARE KETTLING PROTESTERS IN PARK W HELICOPTERS AND PADDYWAGONS!!!! #OCCUPYWALLSTREET #OWS #OCCUPYNY PLEASE RT !!HELP!!!!'"
      ]
     },
     "execution_count": 24,
     "metadata": {},
     "output_type": "execute_result"
    }
   ],
   "source": [
    "df.Text[0]"
   ]
  },
  {
   "cell_type": "code",
   "execution_count": 25,
   "metadata": {
    "ExecuteTime": {
     "end_time": "2018-04-28T11:06:31.097919Z",
     "start_time": "2018-04-28T11:06:31.092038Z"
    },
    "slideshow": {
     "slide_type": "subslide"
    }
   },
   "outputs": [
    {
     "data": {
      "text/plain": [
       "0       Anonops_Cop\n",
       "1       KittyHybrid\n",
       "2        nerdsherpa\n",
       "3        hamudistan\n",
       "4           kl_knox\n",
       "5     vickycrampton\n",
       "6    burgerbuilders\n",
       "7          neverfox\n",
       "8       davidgaliel\n",
       "9           AnonOws\n",
       "Name: From User, dtype: object"
      ]
     },
     "execution_count": 25,
     "metadata": {},
     "output_type": "execute_result"
    }
   ],
   "source": [
    "df['From User'][:10]"
   ]
  },
  {
   "cell_type": "markdown",
   "metadata": {
    "slideshow": {
     "slide_type": "slide"
    }
   },
   "source": [
    "# 4. 统计数量\n",
    "### 统计发帖数量所对应的人数的分布\n",
    "> 人数在发帖数量方面的分布情况"
   ]
  },
  {
   "cell_type": "code",
   "execution_count": 26,
   "metadata": {
    "ExecuteTime": {
     "end_time": "2019-06-08T07:59:11.081963Z",
     "start_time": "2019-06-08T07:59:11.076747Z"
    },
    "slideshow": {
     "slide_type": "subslide"
    }
   },
   "outputs": [],
   "source": [
    "from collections import defaultdict\n",
    "data_dict = defaultdict(int)\n",
    "for i in df['From User']:\n",
    "    data_dict[i] +=1 "
   ]
  },
  {
   "cell_type": "code",
   "execution_count": 27,
   "metadata": {
    "ExecuteTime": {
     "end_time": "2019-06-08T07:59:11.737607Z",
     "start_time": "2019-06-08T07:59:11.706495Z"
    },
    "slideshow": {
     "slide_type": "fragment"
    }
   },
   "outputs": [
    {
     "data": {
      "text/plain": [
       "[('MiranHosny', 1),\n",
       " ('BradMarston', 1),\n",
       " ('Sir_Richard_311', 1),\n",
       " ('elChepi', 1),\n",
       " ('jboy', 1)]"
      ]
     },
     "execution_count": 27,
     "metadata": {},
     "output_type": "execute_result"
    }
   ],
   "source": [
    "list(data_dict.items())[:5]\n",
    "#data_dict"
   ]
  },
  {
   "cell_type": "code",
   "execution_count": 28,
   "metadata": {
    "ExecuteTime": {
     "end_time": "2019-06-08T07:59:23.202541Z",
     "start_time": "2019-06-08T07:59:22.945172Z"
    },
    "slideshow": {
     "slide_type": "slide"
    }
   },
   "outputs": [],
   "source": [
    "%matplotlib inline\n",
    "import matplotlib.pyplot as plt"
   ]
  },
  {
   "cell_type": "markdown",
   "metadata": {
    "slideshow": {
     "slide_type": "subslide"
    }
   },
   "source": [
    "### 安装微软雅黑字体\n",
    "为了在绘图时正确显示中文，需要安装/data/文件夹中的微软雅黑字体（msyh.ttf）\n",
    "\n",
    "详见[common questions](0.common_questions.ipynb)"
   ]
  },
  {
   "cell_type": "code",
   "execution_count": 29,
   "metadata": {
    "ExecuteTime": {
     "end_time": "2019-06-08T07:59:28.182593Z",
     "start_time": "2019-06-08T07:59:27.976785Z"
    },
    "slideshow": {
     "slide_type": "slide"
    }
   },
   "outputs": [
    {
     "data": {
      "image/png": "[encoded data removed]",
      "text/plain": [
       "<Figure size 432x288 with 1 Axes>"
      ]
     },
     "metadata": {},
     "output_type": "display_data"
    }
   ],
   "source": [
    "plt.hist(data_dict.values())\n",
    "#plt.yscale('log')\n",
    "#plt.xscale('log')\n",
    "plt.xlabel(u'发帖数', fontsize = 20)\n",
    "plt.ylabel(u'人数', fontsize = 20)\n",
    "plt.show()"
   ]
  },
  {
   "cell_type": "code",
   "execution_count": 30,
   "metadata": {
    "ExecuteTime": {
     "end_time": "2019-06-08T07:59:53.302817Z",
     "start_time": "2019-06-08T07:59:52.510526Z"
    },
    "slideshow": {
     "slide_type": "slide"
    }
   },
   "outputs": [
    {
     "data": {
      "image/png": "[encoded data removed]",
      "text/plain": [
       "<Figure size 432x288 with 1 Axes>"
      ]
     },
     "metadata": {},
     "output_type": "display_data"
    }
   ],
   "source": [
    "tweet_dict = defaultdict(int)\n",
    "for i in data_dict.values():\n",
    "    tweet_dict[i] += 1\n",
    " \n",
    "plt.loglog(tweet_dict.keys(), tweet_dict.values(), 'ro')#linewidth=2)  \n",
    "plt.xlabel(u'推特数', fontsize=20)\n",
    "plt.ylabel(u'人数', fontsize=20 )\n",
    "plt.show()"
   ]
  },
  {
   "cell_type": "code",
   "execution_count": 31,
   "metadata": {
    "ExecuteTime": {
     "end_time": "2019-06-08T08:00:01.767550Z",
     "start_time": "2019-06-08T08:00:00.760854Z"
    },
    "slideshow": {
     "slide_type": "slide"
    }
   },
   "outputs": [],
   "source": [
    "import numpy as np\n",
    "import statsmodels.api as sm\n",
    "\n",
    "def powerPlot(d_value, d_freq, color, marker):\n",
    "    d_freq = [i + 1 for i in d_freq]\n",
    "    d_prob = [float(i)/sum(d_freq) for i in d_freq]\n",
    "    #d_rank = ss.rankdata(d_value).astype(int)\n",
    "    x = np.log(d_value)\n",
    "    y = np.log(d_prob)\n",
    "    xx = sm.add_constant(x, prepend=True)\n",
    "    res = sm.OLS(y,xx).fit()\n",
    "    constant,beta = res.params\n",
    "    r2 = res.rsquared\n",
    "    plt.plot(d_value, d_prob, linestyle = '',\\\n",
    "             color = color, marker = marker)\n",
    "    plt.plot(d_value, np.exp(constant+x*beta),\"red\")\n",
    "    plt.xscale('log'); plt.yscale('log')\n",
    "    plt.text(max(d_value)/2,max(d_prob)/10,\n",
    "             r'$\\beta$ = ' + str(round(beta,2)) +'\\n' + r'$R^2$ = ' + str(round(r2, 2)), fontsize = 20)"
   ]
  },
  {
   "cell_type": "code",
   "execution_count": 31,
   "metadata": {
    "ExecuteTime": {
     "end_time": "2018-04-28T11:13:27.176717Z",
     "start_time": "2018-04-28T11:13:26.420464Z"
    },
    "slideshow": {
     "slide_type": "subslide"
    }
   },
   "outputs": [
    {
     "data": {
      "image/png": "[encoded data removed]",
      "text/plain": [
       "<Figure size 432x288 with 1 Axes>"
      ]
     },
     "metadata": {},
     "output_type": "display_data"
    }
   ],
   "source": [
    "histo, bin_edges = np.histogram(list(data_dict.values()), 15)\n",
    "bin_center = 0.5*(bin_edges[1:] + bin_edges[:-1])\n",
    "powerPlot(bin_center,histo, 'r', '^')\n",
    "#lg=plt.legend(labels = [u'Tweets', u'Fit'], loc=3, fontsize=20)\n",
    "plt.ylabel(u'概率', fontsize=20)\n",
    "plt.xlabel(u'推特数', fontsize=20) \n",
    "plt.show()"
   ]
  },
  {
   "cell_type": "code",
   "execution_count": 32,
   "metadata": {
    "ExecuteTime": {
     "end_time": "2018-04-28T11:14:19.219105Z",
     "start_time": "2018-04-28T11:14:19.171044Z"
    },
    "slideshow": {
     "slide_type": "slide"
    }
   },
   "outputs": [],
   "source": [
    "import statsmodels.api as sm\n",
    "from collections import defaultdict\n",
    "import numpy as np\n",
    "\n",
    "def powerPlot2(data):\n",
    "    d = sorted(data, reverse = True )\n",
    "    d_table = defaultdict(int)\n",
    "    for k in d:\n",
    "        d_table[k] += 1\n",
    "    d_value = sorted(d_table)\n",
    "    d_value = [i+1 for i in d_value]\n",
    "    d_freq = [d_table[i]+1 for i in d_value]\n",
    "    d_prob = [float(i)/sum(d_freq) for i in d_freq]\n",
    "    x = np.log(d_value)\n",
    "    y = np.log(d_prob)\n",
    "    xx = sm.add_constant(x, prepend=True)\n",
    "    res = sm.OLS(y,xx).fit()\n",
    "    constant,beta = res.params\n",
    "    r2 = res.rsquared\n",
    "    plt.plot(d_value, d_prob, 'ro')\n",
    "    plt.plot(d_value, np.exp(constant+x*beta),\"red\")\n",
    "    plt.xscale('log'); plt.yscale('log')\n",
    "    plt.text(max(d_value)/2,max(d_prob)/5,\n",
    "             'Beta = ' + str(round(beta,2)) +'\\n' + 'R squared = ' + str(round(r2, 2)))\n",
    "    plt.title('Distribution')\n",
    "    plt.ylabel('P(K)')\n",
    "    plt.xlabel('K')\n",
    "    plt.show()\n",
    "    "
   ]
  },
  {
   "cell_type": "code",
   "execution_count": 33,
   "metadata": {
    "ExecuteTime": {
     "end_time": "2018-04-28T11:14:26.818914Z",
     "start_time": "2018-04-28T11:14:26.499569Z"
    },
    "slideshow": {
     "slide_type": "subslide"
    }
   },
   "outputs": [
    {
     "data": {
      "image/png": "[encoded data removed]",
      "text/plain": [
       "<Figure size 432x288 with 1 Axes>"
      ]
     },
     "metadata": {},
     "output_type": "display_data"
    }
   ],
   "source": [
    "powerPlot2(data_dict.values())"
   ]
  },
  {
   "cell_type": "code",
   "execution_count": 34,
   "metadata": {
    "ExecuteTime": {
     "end_time": "2018-04-28T11:14:50.947967Z",
     "start_time": "2018-04-28T11:14:50.933308Z"
    },
    "slideshow": {
     "slide_type": "subslide"
    }
   },
   "outputs": [],
   "source": [
    "import powerlaw\n",
    "def plotPowerlaw(data,ax,col,xlab):\n",
    "    fit = powerlaw.Fit(data,xmin=2)\n",
    "    #fit = powerlaw.Fit(data)\n",
    "    fit.plot_pdf(color = col, linewidth = 2)\n",
    "    a,x = (fit.power_law.alpha,fit.power_law.xmin)\n",
    "    fit.power_law.plot_pdf(color = col, linestyle = 'dotted', ax = ax, \\\n",
    "                            label = r\"$\\alpha = %d \\:\\:, x_{min} = %d$\" % (a,x))\n",
    "    ax.set_xlabel(xlab, fontsize = 20)\n",
    "    ax.set_ylabel('$Probability$', fontsize = 20)\n",
    "    plt.legend(loc = 0, frameon = False)"
   ]
  },
  {
   "cell_type": "code",
   "execution_count": 35,
   "metadata": {
    "ExecuteTime": {
     "end_time": "2018-04-28T11:14:53.968210Z",
     "start_time": "2018-04-28T11:14:53.962880Z"
    },
    "slideshow": {
     "slide_type": "subslide"
    }
   },
   "outputs": [],
   "source": [
    "from collections import defaultdict\n",
    "data_dict = defaultdict(int)\n",
    "\n",
    "for i in df['From User']:\n",
    "    data_dict[i] += 1"
   ]
  },
  {
   "cell_type": "code",
   "execution_count": 36,
   "metadata": {
    "ExecuteTime": {
     "end_time": "2018-04-28T11:14:57.469192Z",
     "start_time": "2018-04-28T11:14:56.922983Z"
    },
    "slideshow": {
     "slide_type": "subslide"
    }
   },
   "outputs": [
    {
     "data": {
      "image/png": "[encoded data removed]",
      "text/plain": [
       "<Figure size 432x288 with 1 Axes>"
      ]
     },
     "metadata": {},
     "output_type": "display_data"
    }
   ],
   "source": [
    "import matplotlib.cm as cm\n",
    "cmap = cm.get_cmap('rainbow_r',6)\n",
    "\n",
    "fig = plt.figure(figsize=(6, 4),facecolor='white')\n",
    "ax = fig.add_subplot(1, 1, 1)\n",
    "plotPowerlaw(list(data_dict.values()), ax,cmap(1), \n",
    "             '$Tweets$')"
   ]
  },
  {
   "cell_type": "markdown",
   "metadata": {
    "slideshow": {
     "slide_type": "slide"
    }
   },
   "source": [
    "# 5. 清洗tweets文本"
   ]
  },
  {
   "cell_type": "code",
   "execution_count": 1,
   "metadata": {
    "ExecuteTime": {
     "end_time": "2019-04-01T03:46:46.498846Z",
     "start_time": "2019-04-01T03:46:46.496236Z"
    },
    "slideshow": {
     "slide_type": "subslide"
    }
   },
   "outputs": [],
   "source": [
    "tweet = '''RT @AnonKitsu: ALERT!!!!!!!!!!COPS ARE KETTLING PROTESTERS IN PARK W HELICOPTERS AND PADDYWAGONS!!!! \n",
    "            #OCCUPYWALLSTREET #OWS #OCCUPYNY PLEASE @chengjun @mili http://computational-communication.com \n",
    "            http://ccc.nju.edu.cn RT !!HELP!!!!'''"
   ]
  },
  {
   "cell_type": "code",
   "execution_count": 32,
   "metadata": {
    "ExecuteTime": {
     "end_time": "2019-06-08T08:02:19.500334Z",
     "start_time": "2019-06-08T08:02:19.259536Z"
    },
    "slideshow": {
     "slide_type": "subslide"
    }
   },
   "outputs": [],
   "source": [
    "import re\n",
    "\n",
    "import twitter_text\n",
    "# https://github.com/dryan/twitter-text-py/issues/21\n",
    "#Macintosh HD ▸ 用户 ▸ datalab ▸ 应用程序 ▸ anaconda ▸ lib ▸ python3.5 ▸ site-packages"
   ]
  },
  {
   "cell_type": "markdown",
   "metadata": {
    "slideshow": {
     "slide_type": "subslide"
    }
   },
   "source": [
    "# 安装twitter_text\n",
    "\n",
    "[twitter-text-py](https://github.com/dryan/twitter-text-py/issues/21) could not be used for python 3\n",
    "\n",
    "\n",
    "> ### <del>pip install twitter-text</del>\n",
    "\n",
    "Glyph debug the problem, and make [a new repo of twitter-text-py3](https://github.com/glyph/twitter-text-py).\n",
    "\n",
    "> ## pip install twitter-text\n"
   ]
  },
  {
   "cell_type": "markdown",
   "metadata": {
    "slideshow": {
     "slide_type": "subslide"
    }
   },
   "source": [
    "# 无法正常安装的同学\n",
    "## 可以在spyder中打开terminal安装\n",
    "\n",
    "pip install twitter-text"
   ]
  },
  {
   "cell_type": "code",
   "execution_count": 35,
   "metadata": {
    "ExecuteTime": {
     "end_time": "2019-06-08T08:04:37.675542Z",
     "start_time": "2019-06-08T08:04:37.668241Z"
    },
    "slideshow": {
     "slide_type": "subslide"
    }
   },
   "outputs": [
    {
     "data": {
      "text/plain": [
       "'AnonKitsu: @who'"
      ]
     },
     "execution_count": 35,
     "metadata": {},
     "output_type": "execute_result"
    }
   ],
   "source": [
    "import re\n",
    "\n",
    "tweet = '''RT @AnonKitsu: @who ALERT!!!!!!!!!!COPS ARE KETTLING PROTESTERS IN PARK W HELICOPTERS AND PADDYWAGONS!!!! \n",
    "            #OCCUPYWALLSTREET #OWS #OCCUPYNY PLEASE @chengjun @mili http://computational-communication.com \n",
    "            http://ccc.nju.edu.cn RT !!HELP!!!!'''\n",
    "\n",
    "rt_patterns = re.compile(r\"(RT|via)((?:\\b\\W*@\\w+)+)\", \\\n",
    "                         re.IGNORECASE)\n",
    "rt_user_name = rt_patterns.findall(tweet)[0][1].strip(' @')#.split(':')[0]\n",
    "rt_user_name"
   ]
  },
  {
   "cell_type": "code",
   "execution_count": 28,
   "metadata": {
    "ExecuteTime": {
     "end_time": "2019-04-01T03:59:45.727956Z",
     "start_time": "2019-04-01T03:59:45.720369Z"
    },
    "slideshow": {
     "slide_type": "subslide"
    }
   },
   "outputs": [
    {
     "data": {
      "text/plain": [
       "'AnonKitsu'"
      ]
     },
     "execution_count": 28,
     "metadata": {},
     "output_type": "execute_result"
    }
   ],
   "source": [
    "import re\n",
    "\n",
    "tweet = '''RT @AnonKitsu: @who ALERT!!!!!!!!!!COPS ARE KETTLING PROTESTERS IN PARK W HELICOPTERS AND PADDYWAGONS!!!! \n",
    "            #OCCUPYWALLSTREET #OWS #OCCUPYNY PLEASE @chengjun @mili http://computational-communication.com \n",
    "            http://ccc.nju.edu.cn RT !!HELP!!!!'''\n",
    "\n",
    "rt_patterns = re.compile(r\"(RT|via)((?:\\b\\W*@\\w+)+)\", \\\n",
    "                         re.IGNORECASE)\n",
    "rt_user_name = rt_patterns.findall(tweet)[0][1].strip(' @').split(':')[0]\n",
    "rt_user_name"
   ]
  },
  {
   "cell_type": "code",
   "execution_count": 36,
   "metadata": {
    "ExecuteTime": {
     "end_time": "2019-06-08T08:05:00.196880Z",
     "start_time": "2019-06-08T08:05:00.188010Z"
    },
    "scrolled": true,
    "slideshow": {
     "slide_type": "subslide"
    }
   },
   "outputs": [
    {
     "name": "stdout",
     "output_type": "stream",
     "text": [
      "[]\n",
      "None\n"
     ]
    }
   ],
   "source": [
    "import re\n",
    "\n",
    "tweet = '''@chengjun:@who ALERT!!!!!!!!!!COPS ARE KETTLING PROTESTERS IN PARK W HELICOPTERS AND PADDYWAGONS!!!! \n",
    "            #OCCUPYWALLSTREET #OWS #OCCUPYNY PLEASE @chengjun @mili http://computational-communication.com \n",
    "            http://ccc.nju.edu.cn RT !!HELP!!!!'''\n",
    "\n",
    "rt_patterns = re.compile(r\"(RT|via)((?:\\b\\W*@\\w+)+)\", re.IGNORECASE)\n",
    "rt_user_name = rt_patterns.findall(tweet)\n",
    "print(rt_user_name)\n",
    "\n",
    "if rt_user_name:\n",
    "    print('it exits.')\n",
    "else:\n",
    "    print('None')"
   ]
  },
  {
   "cell_type": "code",
   "execution_count": 37,
   "metadata": {
    "ExecuteTime": {
     "end_time": "2019-06-08T08:05:27.804540Z",
     "start_time": "2019-06-08T08:05:27.795572Z"
    },
    "slideshow": {
     "slide_type": "subslide"
    }
   },
   "outputs": [],
   "source": [
    "import re\n",
    "\n",
    "def extract_rt_user(tweet):\n",
    "    rt_patterns = re.compile(r\"(RT|via)((?:\\b\\W*@\\w+)+)\", re.IGNORECASE)\n",
    "    rt_user_name = rt_patterns.findall(tweet)\n",
    "    if rt_user_name:\n",
    "        rt_user_name = rt_user_name[0][1].strip(' @').split(':')[0]\n",
    "    else:\n",
    "        rt_user_name = None\n",
    "    return rt_user_name"
   ]
  },
  {
   "cell_type": "code",
   "execution_count": 38,
   "metadata": {
    "ExecuteTime": {
     "end_time": "2019-06-08T08:05:31.592897Z",
     "start_time": "2019-06-08T08:05:31.587624Z"
    },
    "slideshow": {
     "slide_type": "subslide"
    }
   },
   "outputs": [
    {
     "data": {
      "text/plain": [
       "'chengjun'"
      ]
     },
     "execution_count": 38,
     "metadata": {},
     "output_type": "execute_result"
    }
   ],
   "source": [
    "tweet = '''RT @chengjun: ALERT!!!!!!!!!!COPS ARE KETTLING PROTESTERS IN PARK W HELICOPTERS AND PADDYWAGONS!!!! \n",
    "            #OCCUPYWALLSTREET #OWS #OCCUPYNY PLEASE @chengjun @mili http://computational-communication.com \n",
    "            http://ccc.nju.edu.cn RT !!HELP!!!!'''\n",
    "\n",
    "extract_rt_user(tweet)    "
   ]
  },
  {
   "cell_type": "code",
   "execution_count": 39,
   "metadata": {
    "ExecuteTime": {
     "end_time": "2019-06-08T08:05:42.978825Z",
     "start_time": "2019-06-08T08:05:42.975151Z"
    },
    "slideshow": {
     "slide_type": "subslide"
    }
   },
   "outputs": [
    {
     "name": "stdout",
     "output_type": "stream",
     "text": [
      "None\n"
     ]
    }
   ],
   "source": [
    "tweet = '''@chengjun: ALERT!!!!!!!!!!COPS ARE KETTLING PROTESTERS IN PARK W HELICOPTERS AND PADDYWAGONS!!!! \n",
    "            #OCCUPYWALLSTREET #OWS #OCCUPYNY PLEASE @chengjun @mili http://computational-communication.com \n",
    "            http://ccc.nju.edu.cn RT !!HELP!!!!'''\n",
    "\n",
    "print(extract_rt_user(tweet) )"
   ]
  },
  {
   "cell_type": "code",
   "execution_count": 40,
   "metadata": {
    "ExecuteTime": {
     "end_time": "2019-06-08T08:06:01.060683Z",
     "start_time": "2019-06-08T08:06:01.032491Z"
    },
    "slideshow": {
     "slide_type": "slide"
    }
   },
   "outputs": [
    {
     "data": {
      "text/plain": [
       "[('RT @AnonKitsu: ALERT!!!!!!!!!!COPS ARE KETTLING PROTESTERS IN PARK W HELICOPTERS AND PADDYWAGONS!!!! #OCCUPYWALLSTREET #OWS #OCCUPYNY PLEASE RT !!HELP!!!!',\n",
       "  'Anonops_Cop'),\n",
       " ('@jamiekilstein @allisonkilkenny Interesting interview (never aired, wonder why??) by Fox with #ows protester http://t.co/Fte55Kh7',\n",
       "  'KittyHybrid'),\n",
       " (\"@Seductivpancake Right! Those guys have a victory condition: regime change. #ows doesn't seem to have a goal I can figure out.\",\n",
       "  'nerdsherpa')]"
      ]
     },
     "execution_count": 40,
     "metadata": {},
     "output_type": "execute_result"
    }
   ],
   "source": [
    "import csv\n",
    "\n",
    "with open(\"../data/ows_tweets_sample.txt\", 'r') as f:\n",
    "    chunk = f.readlines()\n",
    "    \n",
    "rt_network = []\n",
    "lines = csv.reader(chunk[1:], delimiter=',', quotechar='\"')\n",
    "tweet_user_data = [(i[1], i[8]) for i in lines]\n",
    "tweet_user_data[:3]"
   ]
  },
  {
   "cell_type": "code",
   "execution_count": 41,
   "metadata": {
    "ExecuteTime": {
     "end_time": "2019-06-08T08:07:37.624179Z",
     "start_time": "2019-06-08T08:07:37.588574Z"
    },
    "slideshow": {
     "slide_type": "subslide"
    }
   },
   "outputs": [
    {
     "data": {
      "text/plain": [
       "[(('OccupyNCGBORO', 'angela0328'), 1),\n",
       " (('evlance', 'KeithOlbermann'), 1),\n",
       " (('Lusho0487', 'anonops'), 1)]"
      ]
     },
     "execution_count": 41,
     "metadata": {},
     "output_type": "execute_result"
    }
   ],
   "source": [
    "from collections import defaultdict\n",
    "\n",
    "rt_network = []\n",
    "rt_dict = defaultdict(int)\n",
    "for k, i  in enumerate(tweet_user_data):\n",
    "    tweet,user = i\n",
    "    rt_user = extract_rt_user(tweet)\n",
    "    if rt_user:\n",
    "        rt_network.append((user, rt_user)) #(rt_user,'  ', user, end = '\\n')\n",
    "        rt_dict[(user, rt_user)] += 1\n",
    "#rt_network[:5]\n",
    "list(rt_dict.items())[:3]"
   ]
  },
  {
   "cell_type": "markdown",
   "metadata": {
    "slideshow": {
     "slide_type": "subslide"
    }
   },
   "source": [
    "# 获得清洗过的推特文本\n",
    "\n",
    "不含人名、url、各种符号（如RT @等）"
   ]
  },
  {
   "cell_type": "code",
   "execution_count": 42,
   "metadata": {
    "ExecuteTime": {
     "end_time": "2019-06-08T08:08:42.317807Z",
     "start_time": "2019-06-08T08:08:42.309193Z"
    },
    "slideshow": {
     "slide_type": "fragment"
    }
   },
   "outputs": [],
   "source": [
    "def extract_tweet_text(tweet, at_names, urls):\n",
    "    for i in at_names:\n",
    "        tweet = tweet.replace(i, '')\n",
    "    for j in urls:\n",
    "        tweet = tweet.replace(j, '')\n",
    "    marks = ['RT @', '@', '&quot;', '#', '\\n', '\\t', '  ']\n",
    "    for k in marks:\n",
    "        tweet = tweet.replace(k, '')\n",
    "    return tweet"
   ]
  },
  {
   "cell_type": "code",
   "execution_count": 43,
   "metadata": {
    "ExecuteTime": {
     "end_time": "2019-06-08T08:09:07.984224Z",
     "start_time": "2019-06-08T08:09:07.973948Z"
    },
    "scrolled": true,
    "slideshow": {
     "slide_type": "subslide"
    }
   },
   "outputs": [
    {
     "name": "stdout",
     "output_type": "stream",
     "text": [
      "['AnonKitsu', 'chengjun', 'mili'] ['http://computational-communication.com', 'http://ccc.nju.edu.cn'] ['OCCUPYWALLSTREET', 'OWS', 'OCCUPYNY'] AnonKitsu -------->\n"
     ]
    }
   ],
   "source": [
    "import twitter_text\n",
    "\n",
    "tweet = '''RT @AnonKitsu: ALERT!!!!!!!!!!COPS ARE KETTLING PROTESTERS IN PARK W HELICOPTERS AND PADDYWAGONS!!!! \n",
    "            #OCCUPYWALLSTREET #OWS #OCCUPYNY PLEASE @chengjun @mili http://computational-communication.com \n",
    "            http://ccc.nju.edu.cn RT !!HELP!!!!'''\n",
    "\n",
    "ex = twitter_text.Extractor(tweet)\n",
    "at_names = ex.extract_mentioned_screen_names()\n",
    "urls = ex.extract_urls()\n",
    "hashtags = ex.extract_hashtags()\n",
    "rt_user = extract_rt_user(tweet)\n",
    "#tweet_text = extract_tweet_text(tweet, at_names, urls)\n",
    "\n",
    "print(at_names, urls, hashtags, rt_user,'-------->')#, tweet_text)"
   ]
  },
  {
   "cell_type": "code",
   "execution_count": 44,
   "metadata": {
    "ExecuteTime": {
     "end_time": "2019-06-08T08:10:11.740636Z",
     "start_time": "2019-06-08T08:10:11.722855Z"
    },
    "slideshow": {
     "slide_type": "subslide"
    }
   },
   "outputs": [],
   "source": [
    "import csv\n",
    "\n",
    "lines = csv.reader(chunk,delimiter=',', quotechar='\"')\n",
    "tweets = [i[1] for i in lines]"
   ]
  },
  {
   "cell_type": "code",
   "execution_count": 45,
   "metadata": {
    "ExecuteTime": {
     "end_time": "2019-06-08T08:10:16.517097Z",
     "start_time": "2019-06-08T08:10:16.506944Z"
    },
    "slideshow": {
     "slide_type": "subslide"
    }
   },
   "outputs": [
    {
     "name": "stdout",
     "output_type": "stream",
     "text": [
      "[] [] [] None\n",
      "['AnonKitsu'] [] ['OCCUPYWALLSTREET', 'OWS', 'OCCUPYNY'] AnonKitsu\n",
      "['jamiekilstein', 'allisonkilkenny'] ['http://t.co/Fte55Kh7'] ['ows'] None\n",
      "['Seductivpancake'] [] ['ows'] None\n",
      "['bembel'] ['http://j.mp/rhHavq'] ['OccupyWallStreet', 'OWS'] bembel\n"
     ]
    }
   ],
   "source": [
    "for tweet in tweets[:5]:\n",
    "    ex = twitter_text.Extractor(tweet)\n",
    "    at_names = ex.extract_mentioned_screen_names()\n",
    "    urls = ex.extract_urls()\n",
    "    hashtags = ex.extract_hashtags()\n",
    "    rt_user = extract_rt_user(tweet)\n",
    "    #tweet_text = extract_tweet_text(tweet, at_names, urls)\n",
    "\n",
    "    print(at_names, urls, hashtags, rt_user)\n",
    "    #print(tweet_text)"
   ]
  },
  {
   "cell_type": "markdown",
   "metadata": {
    "collapsed": true,
    "slideshow": {
     "slide_type": "slide"
    }
   },
   "source": [
    "# 思考：\n",
    "\n",
    "### 提取出raw tweets中的rtuser与user的转发网络\n",
    "\n",
    "## 格式：\n",
    "rt_user1, user1, 3\n",
    "\n",
    "rt_user2, user3, 2\n",
    "\n",
    "rt_user2, user4, 1\n",
    "\n",
    "...\n",
    "\n",
    "数据保存为csv格式"
   ]
  },
  {
   "cell_type": "markdown",
   "metadata": {
    "slideshow": {
     "slide_type": "subslide"
    }
   },
   "source": [
    "# 阅读文献"
   ]
  },
  {
   "cell_type": "code",
   "execution_count": null,
   "metadata": {
    "collapsed": true
   },
   "outputs": [],
   "source": []
  }
 ],
 "metadata": {
  "celltoolbar": "Slideshow",
  "kernelspec": {
   "display_name": "Python 3",
   "language": "python",
   "name": "python3"
  },
  "language_info": {
   "codemirror_mode": {
    "name": "ipython",
    "version": 3
   },
   "file_extension": ".py",
   "mimetype": "text/x-python",
   "name": "python",
   "nbconvert_exporter": "python",
   "pygments_lexer": "ipython3",
   "version": "3.7.3"
  },
  "latex_envs": {
   "LaTeX_envs_menu_present": true,
   "autoclose": false,
   "autocomplete": true,
   "bibliofile": "biblio.bib",
   "cite_by": "apalike",
   "current_citInitial": 1,
   "eqLabelWithNumbers": true,
   "eqNumInitial": 0,
   "hotkeys": {
    "equation": "Ctrl-E",
    "itemize": "Ctrl-I"
   },
   "labels_anchors": false,
   "latex_user_defs": false,
   "report_style_numbering": false,
   "user_envs_cfg": false
  },
  "toc": {
   "base_numbering": 1,
   "nav_menu": {},
   "number_sections": false,
   "sideBar": false,
   "skip_h1_title": false,
   "title_cell": "Table of Contents",
   "title_sidebar": "Contents",
   "toc_cell": false,
   "toc_position": {
    "height": "1260px",
    "left": "1835px",
    "top": "224px",
    "width": "512px"
   },
   "toc_section_display": false,
   "toc_window_display": true
  }
 },
 "nbformat": 4,
 "nbformat_minor": 1
}
