{
 "cells": [
  {
   "cell_type": "markdown",
   "metadata": {
    "ExecuteTime": {
     "end_time": "2019-04-07T02:19:02.272939Z",
     "start_time": "2019-04-07T02:19:02.268259Z"
    },
    "slideshow": {
     "slide_type": "slide"
    }
   },
   "source": [
    "***\n",
    "***\n",
    "\n",
    "# Introduction to Neural Network\n",
    "\n",
    "\n",
    "***\n",
    "***"
   ]
  },
  {
   "cell_type": "markdown",
   "metadata": {
    "ExecuteTime": {
     "end_time": "2019-04-07T05:41:09.971531Z",
     "start_time": "2019-04-07T05:41:09.967172Z"
    },
    "slideshow": {
     "slide_type": "subslide"
    }
   },
   "source": [
    "\n",
    "<img src= 'img/neuralnetwork/playground.png' width= \"700px\">\n",
    "\n",
    "http://playground.tensorflow.org/"
   ]
  },
  {
   "cell_type": "markdown",
   "metadata": {
    "ExecuteTime": {
     "end_time": "2019-04-07T09:37:45.438709Z",
     "start_time": "2019-04-07T09:37:45.434406Z"
    },
    "slideshow": {
     "slide_type": "subslide"
    }
   },
   "source": [
    "- Deep Learning http://www.deeplearningbook.org\n",
    "    - An MIT Press book by Ian Goodfellow, Yoshua Bengio and Aaron Courville\n",
    "\n",
    "- Neural Networks and Deep Learning http://neuralnetworksanddeeplearning.com/index.html\n",
    "\n",
    "    - A free online book explaining the core ideas behind artificial neural networks and deep learning. [Code](https://github.com/mnielsen/neural-networks-and-deep-learning). By [Michael Nielsen](http://michaelnielsen.org/) / Dec 2017"
   ]
  },
  {
   "cell_type": "markdown",
   "metadata": {
    "slideshow": {
     "slide_type": "slide"
    }
   },
   "source": [
    "## House Price\n",
    "\n",
    "Let’s start with a simple example. \n",
    "- Say you’re helping a friend who wants to buy a house.\n",
    "\n",
    "- She was quoted $400,000 for a 2000 sq ft house (185 meters). \n",
    "\n",
    "Is this a good price or not?"
   ]
  },
  {
   "cell_type": "markdown",
   "metadata": {
    "slideshow": {
     "slide_type": "subslide"
    }
   },
   "source": [
    "So you ask your friends who have bought houses in that same neighborhoods, and you end up with three data points:\n",
    "\n",
    "\n",
    "\n",
    "| Area (sq ft) (x)  |  Price (y)   |  \n",
    "| -------------|:-------------:|\n",
    "|2,104|399,900|\n",
    "|1,600|329,900|\n",
    "|2,400|369,000|"
   ]
  },
  {
   "cell_type": "markdown",
   "metadata": {
    "slideshow": {
     "slide_type": "subslide"
    }
   },
   "source": [
    "\n",
    "$$y = f(X) = W X$$\n",
    "\n",
    "- Calculating the prediction is simple multiplication.\n",
    "- But before that, we need to think about the weight we’ll be multiplying by. \n",
    "- “training” a neural network just means finding the weights we use to calculate the prediction.\n"
   ]
  },
  {
   "cell_type": "markdown",
   "metadata": {
    "slideshow": {
     "slide_type": "subslide"
    }
   },
   "source": [
    "A simple predictive model (“regression model”)\n",
    "- takes an input, \n",
    "- does a calculation, \n",
    "- and gives an output \n",
    "\n"
   ]
  },
  {
   "cell_type": "markdown",
   "metadata": {
    "slideshow": {
     "slide_type": "subslide"
    }
   },
   "source": [
    "<img src= 'img/neuralnetwork/data_points_graph_animated.gif' width= \"700px\">"
   ]
  },
  {
   "cell_type": "markdown",
   "metadata": {
    "ExecuteTime": {
     "end_time": "2019-04-07T03:15:14.317623Z",
     "start_time": "2019-04-07T03:15:14.313438Z"
    },
    "slideshow": {
     "slide_type": "subslide"
    }
   },
   "source": [
    "Model Evaluation\n",
    "- If we apply our model to the three data points we have, how good of a job would it do?"
   ]
  },
  {
   "cell_type": "markdown",
   "metadata": {
    "slideshow": {
     "slide_type": "subslide"
    }
   },
   "source": [
    "\n",
    "<img src= 'img/neuralnetwork/data_points_error_animated.gif' width= \"700px\">"
   ]
  },
  {
   "cell_type": "markdown",
   "metadata": {
    "slideshow": {
     "slide_type": "subslide"
    }
   },
   "source": [
    "\n",
    "<img src= 'img/neuralnetwork/model_evaluation.png' width= \"500px\">"
   ]
  },
  {
   "cell_type": "markdown",
   "metadata": {
    "slideshow": {
     "slide_type": "subslide"
    }
   },
   "source": [
    "**Loss Function (also, cost function)**\n",
    "\n",
    "- For each point, the error is measured by the difference between the **actual value** and the **predicted value**, raised to the power of 2. \n",
    "- This is called **Mean Square Error**. "
   ]
  },
  {
   "cell_type": "markdown",
   "metadata": {
    "slideshow": {
     "slide_type": "subslide"
    }
   },
   "source": [
    "\n",
    "<img src= 'img/neuralnetwork/lines_and_errors_animated.gif' width= \"700px\">"
   ]
  },
  {
   "cell_type": "markdown",
   "metadata": {
    "slideshow": {
     "slide_type": "subslide"
    }
   },
   "source": [
    "- We can't improve much on the model by varying the weight any more. \n",
    "- But if we add a bias (intercept) we can find values that improve the model.\n",
    "\n",
    "<img src= 'img/neuralnetwork/NNs_bias_2.png' width= \"500px\">\n",
    "\n",
    "$$y = 0.1 X + 150$$"
   ]
  },
  {
   "cell_type": "markdown",
   "metadata": {
    "slideshow": {
     "slide_type": "subslide"
    }
   },
   "source": [
    "**Gradient Descent**\n",
    "\n",
    "- Automatically get the correct weight and bias values \n",
    "- minimize the loss function.\n",
    "\n",
    "<img src= 'img/neuralnetwork/gd.png' width= \"700px\">\n",
    "\n"
   ]
  },
  {
   "cell_type": "markdown",
   "metadata": {
    "slideshow": {
     "slide_type": "subslide"
    }
   },
   "source": [
    "\n",
    "<img src= 'img/neuralnetwork/NNs_2_variables.png' width= \"500px\">\n",
    "\n"
   ]
  },
  {
   "cell_type": "markdown",
   "metadata": {
    "slideshow": {
     "slide_type": "subslide"
    }
   },
   "source": [
    "\n",
    "<img src= 'img/neuralnetwork/softmax-regression-scalargraph.png' width= \"500px\">\n",
    "\n"
   ]
  },
  {
   "cell_type": "markdown",
   "metadata": {
    "slideshow": {
     "slide_type": "subslide"
    }
   },
   "source": [
    "## softmax\n",
    "\n",
    "The softmax function, also known as softargmax or normalized exponential function, is a function that takes as input a vector of K real numbers, and normalizes it into a probability distribution consisting of K probabilities. \n",
    "\n",
    "$$softmax = \\frac{e^x}{\\sum e^x}$$\n"
   ]
  },
  {
   "cell_type": "code",
   "execution_count": 128,
   "metadata": {
    "ExecuteTime": {
     "end_time": "2019-04-07T13:57:33.466056Z",
     "start_time": "2019-04-07T13:57:33.459580Z"
    },
    "slideshow": {
     "slide_type": "subslide"
    }
   },
   "outputs": [
    {
     "data": {
      "text/plain": [
       "array([0.02364054, 0.06426166, 0.1746813 , 0.474833  , 0.02364054,\n",
       "       0.06426166, 0.1746813 ])"
      ]
     },
     "execution_count": 128,
     "metadata": {},
     "output_type": "execute_result"
    }
   ],
   "source": [
    "def softmax(s):\n",
    "    return np.exp(s) / np.sum(np.exp(s), axis=0)\n",
    "\n",
    "softmax([1.0, 2.0, 3.0, 4.0, 1.0, 2.0, 3.0])"
   ]
  },
  {
   "cell_type": "markdown",
   "metadata": {
    "slideshow": {
     "slide_type": "subslide"
    }
   },
   "source": [
    "\n",
    "That is, prior to applying softmax, some vector components could be negative, or greater than one; and might not sum to 1; but after applying softmax, each component will be in the interval (0,1), and the components will add up to 1, so that they can be interpreted as probabilities. \n",
    "\n",
    "Furthermore, the larger input components will correspond to larger probabilities. \n",
    "\n",
    "Softmax is often used in neural networks, to map the non-normalized output of a network to a probability distribution over predicted output classes."
   ]
  },
  {
   "cell_type": "markdown",
   "metadata": {
    "slideshow": {
     "slide_type": "subslide"
    }
   },
   "source": [
    "## Activation Function\n"
   ]
  },
  {
   "cell_type": "code",
   "execution_count": 12,
   "metadata": {
    "ExecuteTime": {
     "end_time": "2019-04-07T03:59:39.599371Z",
     "start_time": "2019-04-07T03:59:39.593104Z"
    },
    "code_folding": [],
    "slideshow": {
     "slide_type": "subslide"
    }
   },
   "outputs": [
    {
     "data": {
      "text/plain": [
       "0.6224593312018546"
      ]
     },
     "execution_count": 12,
     "metadata": {},
     "output_type": "execute_result"
    }
   ],
   "source": [
    "import numpy as np\n",
    "def sigmoid(x):\n",
    "    return 1/(1 + np.exp(-x))\n",
    "\n",
    "sigmoid(0.5)"
   ]
  },
  {
   "cell_type": "code",
   "execution_count": 13,
   "metadata": {
    "ExecuteTime": {
     "end_time": "2019-04-07T04:01:24.575040Z",
     "start_time": "2019-04-07T04:01:24.567328Z"
    },
    "slideshow": {
     "slide_type": "subslide"
    }
   },
   "outputs": [
    {
     "data": {
      "text/plain": [
       "0.5"
      ]
     },
     "execution_count": 13,
     "metadata": {},
     "output_type": "execute_result"
    }
   ],
   "source": [
    "# Naive scalar relu implementation. \n",
    "# In the real world, most calculations are done on vectors\n",
    "def relu(x):\n",
    "    if x < 0:\n",
    "        return 0\n",
    "    else:\n",
    "        return x\n",
    "\n",
    "relu(0.5)"
   ]
  },
  {
   "cell_type": "markdown",
   "metadata": {},
   "source": [
    "# WHAT IS PYTORCH?\n",
    "\n",
    "It’s a Python-based scientific computing package targeted at two sets of audiences:\n",
    "\n",
    "- A replacement for NumPy to use the power of GPUs\n",
    "- a deep learning research platform that provides maximum flexibility and speed"
   ]
  },
  {
   "cell_type": "code",
   "execution_count": 1,
   "metadata": {
    "ExecuteTime": {
     "end_time": "2019-06-15T03:13:38.257567Z",
     "start_time": "2019-06-15T03:13:37.133622Z"
    },
    "slideshow": {
     "slide_type": "slide"
    }
   },
   "outputs": [],
   "source": [
    "%matplotlib inline\n",
    "import matplotlib.pyplot as plt\n",
    "import torch\n",
    "from torch import nn, optim\n",
    "from torch.autograd import Variable\n",
    "import numpy as np"
   ]
  },
  {
   "cell_type": "code",
   "execution_count": 2,
   "metadata": {
    "ExecuteTime": {
     "end_time": "2019-06-15T03:13:54.278106Z",
     "start_time": "2019-06-15T03:13:54.075090Z"
    },
    "slideshow": {
     "slide_type": "subslide"
    }
   },
   "outputs": [
    {
     "data": {
      "image/png": "[encoded data removed]",
      "text/plain": [
       "<Figure size 432x288 with 1 Axes>"
      ]
     },
     "metadata": {},
     "output_type": "display_data"
    }
   ],
   "source": [
    "x_train = np.array([[2104],[1600],[2400]], dtype=np.float32)\n",
    "y_train = np.array([[399.900], [329.900], [369.000]], dtype=np.float32)\n",
    "\n",
    "# x_train = np.array([[3.3], [4.4], [5.5], [6.71], [6.93], [4.168],\n",
    "#                     [9.779], [6.182], [7.59], [2.167], [7.042],\n",
    "#                     [10.791], [5.313], [7.997], [3.1]], dtype=np.float32)\n",
    "\n",
    "# y_train = np.array([[1.7], [2.76], [2.09], [3.19], [1.694], [1.573],\n",
    "#                     [3.366], [2.596], [2.53], [1.221], [2.827],\n",
    "#                     [3.465], [1.65], [2.904], [1.3]], dtype=np.float32)\n",
    "\n",
    "plt.plot(x_train, y_train, 'r.')\n",
    "plt.show()"
   ]
  },
  {
   "cell_type": "code",
   "execution_count": 3,
   "metadata": {
    "ExecuteTime": {
     "end_time": "2019-06-15T03:14:07.411792Z",
     "start_time": "2019-06-15T03:14:07.401767Z"
    }
   },
   "outputs": [],
   "source": [
    "x_train = torch.from_numpy(x_train)\n",
    "y_train = torch.from_numpy(y_train)"
   ]
  },
  {
   "cell_type": "markdown",
   "metadata": {
    "ExecuteTime": {
     "end_time": "2019-04-07T04:47:17.479477Z",
     "start_time": "2019-04-07T04:47:17.468259Z"
    }
   },
   "source": [
    "`nn.Linear`\n",
    "\n",
    "Applies a linear transformation to the incoming data: $y = xA^T + b$"
   ]
  },
  {
   "cell_type": "code",
   "execution_count": 4,
   "metadata": {
    "ExecuteTime": {
     "end_time": "2019-06-15T03:14:36.493688Z",
     "start_time": "2019-06-15T03:14:36.471235Z"
    }
   },
   "outputs": [],
   "source": [
    "# Linear Regression Model\n",
    "class LinearRegression(nn.Module):\n",
    "    def __init__(self):\n",
    "        super(LinearRegression, self).__init__()\n",
    "        self.linear = nn.Linear(1, 1)  # input and output is 1 dimension\n",
    "\n",
    "    def forward(self, x):\n",
    "        out = self.linear(x)\n",
    "        return out\n",
    "\n",
    "model = LinearRegression()"
   ]
  },
  {
   "cell_type": "code",
   "execution_count": 5,
   "metadata": {
    "ExecuteTime": {
     "end_time": "2019-06-15T03:15:35.560781Z",
     "start_time": "2019-06-15T03:15:35.556997Z"
    }
   },
   "outputs": [],
   "source": [
    "# Define Loss and Optimizatioin function\n",
    "criterion = nn.MSELoss()\n",
    "optimizer = optim.SGD(model.parameters(), lr=1e-9)#1e-4)"
   ]
  },
  {
   "cell_type": "code",
   "execution_count": 6,
   "metadata": {
    "ExecuteTime": {
     "end_time": "2019-06-15T03:16:37.107844Z",
     "start_time": "2019-06-15T03:16:36.876061Z"
    }
   },
   "outputs": [
    {
     "name": "stdout",
     "output_type": "stream",
     "text": [
      "Epoch[50/1000], loss: 346492.500000\n",
      "Epoch[100/1000], loss: 148748.437500\n",
      "Epoch[150/1000], loss: 64518.070312\n",
      "Epoch[200/1000], loss: 28639.699219\n",
      "Epoch[250/1000], loss: 13357.108398\n",
      "Epoch[300/1000], loss: 6847.381348\n",
      "Epoch[350/1000], loss: 4074.527344\n",
      "Epoch[400/1000], loss: 2893.413086\n",
      "Epoch[450/1000], loss: 2390.306152\n",
      "Epoch[500/1000], loss: 2176.009766\n",
      "Epoch[550/1000], loss: 2084.726562\n",
      "Epoch[600/1000], loss: 2045.842651\n",
      "Epoch[650/1000], loss: 2029.282349\n",
      "Epoch[700/1000], loss: 2022.227905\n",
      "Epoch[750/1000], loss: 2019.222412\n",
      "Epoch[800/1000], loss: 2017.942139\n",
      "Epoch[850/1000], loss: 2017.397949\n",
      "Epoch[900/1000], loss: 2017.164795\n",
      "Epoch[950/1000], loss: 2017.066162\n",
      "Epoch[1000/1000], loss: 2017.023682\n"
     ]
    }
   ],
   "source": [
    "num_epochs = 1000\n",
    "for epoch in range(num_epochs):\n",
    "    inputs = Variable(x_train)\n",
    "    target = Variable(y_train)\n",
    "\n",
    "    # forward\n",
    "    out = model(inputs)\n",
    "    loss = criterion(out, target)\n",
    "    # backward\n",
    "    optimizer.zero_grad()\n",
    "    loss.backward()\n",
    "    optimizer.step()\n",
    "\n",
    "    if (epoch+1) % 50 == 0:\n",
    "        print('Epoch[{}/{}], loss: {:.6f}'\n",
    "              .format(epoch+1, num_epochs, loss.data.item()))\n"
   ]
  },
  {
   "cell_type": "markdown",
   "metadata": {},
   "source": [
    "$$\n",
    "\\ell(x, y) = L = \\{l_1,\\dots,l_N\\}^\\top, \\quad\n",
    "        l_n = \\left( x_n - y_n \\right)^2,\n",
    "$$\n",
    "    where :`N` is the batch size. "
   ]
  },
  {
   "cell_type": "code",
   "execution_count": 109,
   "metadata": {
    "ExecuteTime": {
     "end_time": "2019-04-07T05:26:38.112863Z",
     "start_time": "2019-04-07T05:26:38.108523Z"
    }
   },
   "outputs": [
    {
     "data": {
      "text/plain": [
       "LinearRegression(\n",
       "  (linear): Linear(in_features=1, out_features=1, bias=True)\n",
       ")"
      ]
     },
     "execution_count": 109,
     "metadata": {},
     "output_type": "execute_result"
    }
   ],
   "source": [
    "model.eval()"
   ]
  },
  {
   "cell_type": "code",
   "execution_count": 7,
   "metadata": {
    "ExecuteTime": {
     "end_time": "2019-06-15T03:16:56.606092Z",
     "start_time": "2019-06-15T03:16:56.379390Z"
    }
   },
   "outputs": [
    {
     "data": {
      "image/png": "[encoded data removed]",
      "text/plain": [
       "<Figure size 432x288 with 1 Axes>"
      ]
     },
     "metadata": {},
     "output_type": "display_data"
    }
   ],
   "source": [
    "predict = model(Variable(x_train))\n",
    "predict = predict.data.numpy()\n",
    "plt.plot(x_train.numpy(), y_train.numpy(), 'ro', label='Original data')\n",
    "plt.plot(x_train.numpy(), predict, 'b-s', label='Fitting Line')\n",
    "plt.xlabel('X', fontsize= 20)\n",
    "plt.ylabel('y', fontsize= 20)\n",
    "plt.legend()\n",
    "plt.show()"
   ]
  },
  {
   "cell_type": "markdown",
   "metadata": {},
   "source": [
    "使用pytorch建立卷积神经网络并处理MNIST数据。\n",
    "https://computational-communication.com/pytorch-mnist/"
   ]
  }
 ],
 "metadata": {
  "celltoolbar": "Slideshow",
  "kernelspec": {
   "display_name": "Python [default]",
   "language": "python",
   "name": "python3"
  },
  "language_info": {
   "codemirror_mode": {
    "name": "ipython",
    "version": 3
   },
   "file_extension": ".py",
   "mimetype": "text/x-python",
   "name": "python",
   "nbconvert_exporter": "python",
   "pygments_lexer": "ipython3",
   "version": "3.5.4"
  },
  "latex_envs": {
   "LaTeX_envs_menu_present": true,
   "autoclose": false,
   "autocomplete": true,
   "bibliofile": "biblio.bib",
   "cite_by": "apalike",
   "current_citInitial": 1,
   "eqLabelWithNumbers": true,
   "eqNumInitial": 1,
   "hotkeys": {
    "equation": "Ctrl-E",
    "itemize": "Ctrl-I"
   },
   "labels_anchors": false,
   "latex_user_defs": false,
   "report_style_numbering": false,
   "user_envs_cfg": false
  },
  "toc": {
   "base_numbering": 1,
   "nav_menu": {},
   "number_sections": false,
   "sideBar": true,
   "skip_h1_title": false,
   "title_cell": "Table of Contents",
   "title_sidebar": "Contents",
   "toc_cell": false,
   "toc_position": {},
   "toc_section_display": true,
   "toc_window_display": false
  }
 },
 "nbformat": 4,
 "nbformat_minor": 2
}
