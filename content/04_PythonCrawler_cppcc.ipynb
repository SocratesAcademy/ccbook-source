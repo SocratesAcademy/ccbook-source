{
 "cells": [
  {
   "cell_type": "markdown",
   "metadata": {},
   "source": [
    "# 抓取江苏省政协十年提案"
   ]
  },
  {
   "cell_type": "markdown",
   "metadata": {},
   "source": [
    "打开http://www.jszx.gov.cn/zxta/2019ta/\n",
    "\n",
    "- 点击下一页，url不变!\n",
    "\n",
    "> 所以数据的更新是使用js推送的\n",
    "- 分析network中的内容，发现proposalList.jsp\n",
    "    - 查看它的header，并发现了form_data\n",
    "    \n",
    "<img src = './img/form_data.png'>\n",
    "\n",
    "http://www.jszx.gov.cn/zxta/2019ta/"
   ]
  },
  {
   "cell_type": "code",
   "execution_count": 1,
   "metadata": {
    "ExecuteTime": {
     "end_time": "2019-10-10T01:38:35.751604Z",
     "start_time": "2019-10-10T01:38:35.464535Z"
    }
   },
   "outputs": [],
   "source": [
    "import requests\n",
    "from bs4 import BeautifulSoup"
   ]
  },
  {
   "cell_type": "code",
   "execution_count": 2,
   "metadata": {
    "ExecuteTime": {
     "end_time": "2019-10-10T01:38:44.359398Z",
     "start_time": "2019-10-10T01:38:44.270556Z"
    }
   },
   "outputs": [],
   "source": [
    "form_data = {'year':2019,\n",
    "        'pagenum':1,\n",
    "        'pagesize':20\n",
    "}\n",
    "url = 'http://www.jszx.gov.cn/wcm/zxweb/proposalList.jsp'\n",
    "content = requests.get(url, form_data)\n",
    "content.encoding = 'utf-8'\n",
    "js = content.json()"
   ]
  },
  {
   "cell_type": "code",
   "execution_count": 3,
   "metadata": {
    "ExecuteTime": {
     "end_time": "2019-10-10T01:38:52.271556Z",
     "start_time": "2019-10-10T01:38:52.262613Z"
    }
   },
   "outputs": [
    {
     "data": {
      "text/plain": [
       "'424'"
      ]
     },
     "execution_count": 3,
     "metadata": {},
     "output_type": "execute_result"
    }
   ],
   "source": [
    "js['data']['totalcount']"
   ]
  },
  {
   "cell_type": "code",
   "execution_count": 4,
   "metadata": {
    "ExecuteTime": {
     "end_time": "2019-10-10T01:39:00.241237Z",
     "start_time": "2019-10-10T01:39:00.238570Z"
    }
   },
   "outputs": [],
   "source": [
    "dat = js['data']['list']\n",
    "pagenum = js['data']['pagecount']"
   ]
  },
  {
   "cell_type": "code",
   "execution_count": 5,
   "metadata": {
    "ExecuteTime": {
     "end_time": "2019-10-10T01:39:16.463805Z",
     "start_time": "2019-10-10T01:39:11.445898Z"
    }
   },
   "outputs": [
    {
     "name": "stdout",
     "output_type": "stream",
     "text": [
      "2\n",
      "3\n",
      "4\n",
      "5\n",
      "6\n",
      "7\n",
      "8\n",
      "9\n",
      "10\n",
      "11\n",
      "12\n",
      "13\n",
      "14\n",
      "15\n",
      "16\n",
      "17\n",
      "18\n",
      "19\n",
      "20\n",
      "21\n",
      "22\n"
     ]
    }
   ],
   "source": [
    "for i in range(2, pagenum+1):\n",
    "    print(i)\n",
    "    form_data['pagenum'] = i\n",
    "    content = requests.get(url, form_data)\n",
    "    content.encoding = 'utf-8'\n",
    "    js = content.json()\n",
    "    for j in js['data']['list']:\n",
    "        dat.append(j)"
   ]
  },
  {
   "cell_type": "code",
   "execution_count": 6,
   "metadata": {
    "ExecuteTime": {
     "end_time": "2019-10-10T01:39:23.103499Z",
     "start_time": "2019-10-10T01:39:23.100188Z"
    }
   },
   "outputs": [
    {
     "data": {
      "text/plain": [
       "424"
      ]
     },
     "execution_count": 6,
     "metadata": {},
     "output_type": "execute_result"
    }
   ],
   "source": [
    "len(dat)"
   ]
  },
  {
   "cell_type": "code",
   "execution_count": 7,
   "metadata": {
    "ExecuteTime": {
     "end_time": "2019-10-10T01:39:31.057027Z",
     "start_time": "2019-10-10T01:39:31.053393Z"
    }
   },
   "outputs": [
    {
     "data": {
      "text/plain": [
       "{'personnel_name': '邹正',\n",
       " 'pkid': '18b1b347f9e34badb8934c2acec80e9e',\n",
       " 'proposal_number': '0001',\n",
       " 'publish_time': '2019-01-12 16:04:48',\n",
       " 'reason': '关于完善城市环卫公厕指引系统的建议',\n",
       " 'rownum': 1,\n",
       " 'type': '城乡建设',\n",
       " 'year': '2019'}"
      ]
     },
     "execution_count": 7,
     "metadata": {},
     "output_type": "execute_result"
    }
   ],
   "source": [
    "dat[0]"
   ]
  },
  {
   "cell_type": "code",
   "execution_count": 8,
   "metadata": {
    "ExecuteTime": {
     "end_time": "2019-10-10T01:39:40.176411Z",
     "start_time": "2019-10-10T01:39:39.125256Z"
    }
   },
   "outputs": [
    {
     "data": {
      "text/html": [
       "<div>\n",
       "<style scoped>\n",
       "    .dataframe tbody tr th:only-of-type {\n",
       "        vertical-align: middle;\n",
       "    }\n",
       "\n",
       "    .dataframe tbody tr th {\n",
       "        vertical-align: top;\n",
       "    }\n",
       "\n",
       "    .dataframe thead th {\n",
       "        text-align: right;\n",
       "    }\n",
       "</style>\n",
       "<table border=\"1\" class=\"dataframe\">\n",
       "  <thead>\n",
       "    <tr style=\"text-align: right;\">\n",
       "      <th></th>\n",
       "      <th>personnel_name</th>\n",
       "      <th>pkid</th>\n",
       "      <th>proposal_number</th>\n",
       "      <th>publish_time</th>\n",
       "      <th>reason</th>\n",
       "      <th>rownum</th>\n",
       "      <th>type</th>\n",
       "      <th>year</th>\n",
       "    </tr>\n",
       "  </thead>\n",
       "  <tbody>\n",
       "    <tr>\n",
       "      <th>0</th>\n",
       "      <td>邹正</td>\n",
       "      <td>18b1b347f9e34badb8934c2acec80e9e</td>\n",
       "      <td>0001</td>\n",
       "      <td>2019-01-12 16:04:48</td>\n",
       "      <td>关于完善城市环卫公厕指引系统的建议</td>\n",
       "      <td>1</td>\n",
       "      <td>城乡建设</td>\n",
       "      <td>2019</td>\n",
       "    </tr>\n",
       "    <tr>\n",
       "      <th>1</th>\n",
       "      <td>省政协学习委员会</td>\n",
       "      <td>da43aae2378244faa961dd1224d1343e</td>\n",
       "      <td>0002</td>\n",
       "      <td>2019-01-12 16:04:48</td>\n",
       "      <td>关于加强老小区光纤化改造的建议</td>\n",
       "      <td>2</td>\n",
       "      <td>城乡建设</td>\n",
       "      <td>2019</td>\n",
       "    </tr>\n",
       "    <tr>\n",
       "      <th>2</th>\n",
       "      <td>许文前</td>\n",
       "      <td>c0a1626a1bb744ebb0852cf25b21fb0a</td>\n",
       "      <td>0004</td>\n",
       "      <td>2019-01-12 15:42:19</td>\n",
       "      <td>加强科技创新，推动制造业转型升级</td>\n",
       "      <td>3</td>\n",
       "      <td>工业商贸</td>\n",
       "      <td>2019</td>\n",
       "    </tr>\n",
       "    <tr>\n",
       "      <th>3</th>\n",
       "      <td>段绪强</td>\n",
       "      <td>ce60d71296764cfe997d62bb2c0990af</td>\n",
       "      <td>0005</td>\n",
       "      <td>2019-01-12 16:21:46</td>\n",
       "      <td>关于落实金融政策、促进民营企业高质量发展的建议</td>\n",
       "      <td>4</td>\n",
       "      <td>财税金融</td>\n",
       "      <td>2019</td>\n",
       "    </tr>\n",
       "    <tr>\n",
       "      <th>4</th>\n",
       "      <td>侯建军</td>\n",
       "      <td>8b5fb5a7d86547899835a12af398ffc7</td>\n",
       "      <td>0006</td>\n",
       "      <td>2019-01-12 15:42:19</td>\n",
       "      <td>关于主基地航空公司协同东部机场集团发展的建议</td>\n",
       "      <td>5</td>\n",
       "      <td>工业商贸</td>\n",
       "      <td>2019</td>\n",
       "    </tr>\n",
       "  </tbody>\n",
       "</table>\n",
       "</div>"
      ],
      "text/plain": [
       "  personnel_name                              pkid proposal_number  \\\n",
       "0             邹正  18b1b347f9e34badb8934c2acec80e9e            0001   \n",
       "1       省政协学习委员会  da43aae2378244faa961dd1224d1343e            0002   \n",
       "2            许文前  c0a1626a1bb744ebb0852cf25b21fb0a            0004   \n",
       "3            段绪强  ce60d71296764cfe997d62bb2c0990af            0005   \n",
       "4            侯建军  8b5fb5a7d86547899835a12af398ffc7            0006   \n",
       "\n",
       "          publish_time                   reason  rownum  type  year  \n",
       "0  2019-01-12 16:04:48        关于完善城市环卫公厕指引系统的建议       1  城乡建设  2019  \n",
       "1  2019-01-12 16:04:48          关于加强老小区光纤化改造的建议       2  城乡建设  2019  \n",
       "2  2019-01-12 15:42:19         加强科技创新，推动制造业转型升级       3  工业商贸  2019  \n",
       "3  2019-01-12 16:21:46  关于落实金融政策、促进民营企业高质量发展的建议       4  财税金融  2019  \n",
       "4  2019-01-12 15:42:19   关于主基地航空公司协同东部机场集团发展的建议       5  工业商贸  2019  "
      ]
     },
     "execution_count": 8,
     "metadata": {},
     "output_type": "execute_result"
    }
   ],
   "source": [
    "import pandas as pd\n",
    "\n",
    "df = pd.DataFrame(dat)\n",
    "df.head()"
   ]
  },
  {
   "cell_type": "code",
   "execution_count": 9,
   "metadata": {
    "ExecuteTime": {
     "end_time": "2019-10-10T01:39:49.950879Z",
     "start_time": "2019-10-10T01:39:49.941246Z"
    }
   },
   "outputs": [
    {
     "data": {
      "text/plain": [
       "type\n",
       "农林水利     3\n",
       "医卫体育    45\n",
       "城乡建设    25\n",
       "工业商贸    34\n",
       "政治建设    15\n",
       "教育事业    58\n",
       "文化宣传    34\n",
       "法制建设    24\n",
       "社会事业    75\n",
       "科学技术    24\n",
       "经济发展    47\n",
       "统战综合     4\n",
       "财税金融    12\n",
       "资源环境    24\n",
       "dtype: int64"
      ]
     },
     "execution_count": 9,
     "metadata": {},
     "output_type": "execute_result"
    }
   ],
   "source": [
    "df.groupby('type').size()"
   ]
  },
  {
   "cell_type": "markdown",
   "metadata": {},
   "source": [
    "## 抓取提案内容\n",
    "http://www.jszx.gov.cn/zxta/2019ta/index_61.html?pkid=18b1b347f9e34badb8934c2acec80e9e"
   ]
  },
  {
   "cell_type": "code",
   "execution_count": 10,
   "metadata": {
    "ExecuteTime": {
     "end_time": "2019-10-10T01:40:17.900495Z",
     "start_time": "2019-10-10T01:40:17.896621Z"
    }
   },
   "outputs": [],
   "source": [
    "url_base = 'http://www.jszx.gov.cn/wcm/zxweb/proposalInfo.jsp?pkid='\n",
    "urls = [url_base + i  for i in df['pkid']]"
   ]
  },
  {
   "cell_type": "code",
   "execution_count": 11,
   "metadata": {
    "ExecuteTime": {
     "end_time": "2019-10-10T01:41:01.068932Z",
     "start_time": "2019-10-10T01:40:37.241768Z"
    }
   },
   "outputs": [
    {
     "name": "stdout",
     "output_type": "stream",
     "text": [
      "423"
     ]
    }
   ],
   "source": [
    "import sys\n",
    "def flushPrint(www):\n",
    "    sys.stdout.write('\\r')\n",
    "    sys.stdout.write('%s' % www)\n",
    "    sys.stdout.flush()\n",
    "    \n",
    "text = []\n",
    "for k, i in enumerate(urls):\n",
    "    flushPrint(k)\n",
    "    content = requests.get(i)\n",
    "    content.encoding = 'utf-8'\n",
    "    js = content.json()\n",
    "    js = js['data']['binfo']['_content']\n",
    "    soup = BeautifulSoup(js, 'html.parser') \n",
    "    text.append(soup.text)"
   ]
  },
  {
   "cell_type": "code",
   "execution_count": 12,
   "metadata": {
    "ExecuteTime": {
     "end_time": "2019-10-10T01:41:02.945741Z",
     "start_time": "2019-10-10T01:41:02.942079Z"
    }
   },
   "outputs": [
    {
     "data": {
      "text/plain": [
       "424"
      ]
     },
     "execution_count": 12,
     "metadata": {},
     "output_type": "execute_result"
    }
   ],
   "source": [
    "len(text)"
   ]
  },
  {
   "cell_type": "code",
   "execution_count": 13,
   "metadata": {
    "ExecuteTime": {
     "end_time": "2019-10-10T01:41:11.704331Z",
     "start_time": "2019-10-10T01:41:11.700986Z"
    }
   },
   "outputs": [],
   "source": [
    "df['content'] = text"
   ]
  },
  {
   "cell_type": "code",
   "execution_count": 14,
   "metadata": {
    "ExecuteTime": {
     "end_time": "2019-10-10T01:41:19.726270Z",
     "start_time": "2019-10-10T01:41:19.715176Z"
    }
   },
   "outputs": [
    {
     "data": {
      "text/html": [
       "<div>\n",
       "<style scoped>\n",
       "    .dataframe tbody tr th:only-of-type {\n",
       "        vertical-align: middle;\n",
       "    }\n",
       "\n",
       "    .dataframe tbody tr th {\n",
       "        vertical-align: top;\n",
       "    }\n",
       "\n",
       "    .dataframe thead th {\n",
       "        text-align: right;\n",
       "    }\n",
       "</style>\n",
       "<table border=\"1\" class=\"dataframe\">\n",
       "  <thead>\n",
       "    <tr style=\"text-align: right;\">\n",
       "      <th></th>\n",
       "      <th>personnel_name</th>\n",
       "      <th>pkid</th>\n",
       "      <th>proposal_number</th>\n",
       "      <th>publish_time</th>\n",
       "      <th>reason</th>\n",
       "      <th>rownum</th>\n",
       "      <th>type</th>\n",
       "      <th>year</th>\n",
       "      <th>content</th>\n",
       "    </tr>\n",
       "  </thead>\n",
       "  <tbody>\n",
       "    <tr>\n",
       "      <th>0</th>\n",
       "      <td>邹正</td>\n",
       "      <td>18b1b347f9e34badb8934c2acec80e9e</td>\n",
       "      <td>0001</td>\n",
       "      <td>2019-01-12 16:04:48</td>\n",
       "      <td>关于完善城市环卫公厕指引系统的建议</td>\n",
       "      <td>1</td>\n",
       "      <td>城乡建设</td>\n",
       "      <td>2019</td>\n",
       "      <td>调研情况：    2015 年 4 月 1 日，习近平总书记首次提出要坚持不懈地推进“厕所革...</td>\n",
       "    </tr>\n",
       "    <tr>\n",
       "      <th>1</th>\n",
       "      <td>省政协学习委员会</td>\n",
       "      <td>da43aae2378244faa961dd1224d1343e</td>\n",
       "      <td>0002</td>\n",
       "      <td>2019-01-12 16:04:48</td>\n",
       "      <td>关于加强老小区光纤化改造的建议</td>\n",
       "      <td>2</td>\n",
       "      <td>城乡建设</td>\n",
       "      <td>2019</td>\n",
       "      <td>调研情况：近期，省政协学习委员会组织部分委员对我省信息通信业发展情况进行考察调研，总的感到，...</td>\n",
       "    </tr>\n",
       "    <tr>\n",
       "      <th>2</th>\n",
       "      <td>许文前</td>\n",
       "      <td>c0a1626a1bb744ebb0852cf25b21fb0a</td>\n",
       "      <td>0004</td>\n",
       "      <td>2019-01-12 15:42:19</td>\n",
       "      <td>加强科技创新，推动制造业转型升级</td>\n",
       "      <td>3</td>\n",
       "      <td>工业商贸</td>\n",
       "      <td>2019</td>\n",
       "      <td>调研情况：   早在2012年，美国国会的一份报告就声称，华为和中兴通讯可能涉嫌从事威胁美国...</td>\n",
       "    </tr>\n",
       "    <tr>\n",
       "      <th>3</th>\n",
       "      <td>段绪强</td>\n",
       "      <td>ce60d71296764cfe997d62bb2c0990af</td>\n",
       "      <td>0005</td>\n",
       "      <td>2019-01-12 16:21:46</td>\n",
       "      <td>关于落实金融政策、促进民营企业高质量发展的建议</td>\n",
       "      <td>4</td>\n",
       "      <td>财税金融</td>\n",
       "      <td>2019</td>\n",
       "      <td>调研情况：2018年，国家支持民营企业融资所出台的政策众多、且力度空前。这在一定程度上提振了...</td>\n",
       "    </tr>\n",
       "    <tr>\n",
       "      <th>4</th>\n",
       "      <td>侯建军</td>\n",
       "      <td>8b5fb5a7d86547899835a12af398ffc7</td>\n",
       "      <td>0006</td>\n",
       "      <td>2019-01-12 15:42:19</td>\n",
       "      <td>关于主基地航空公司协同东部机场集团发展的建议</td>\n",
       "      <td>5</td>\n",
       "      <td>工业商贸</td>\n",
       "      <td>2019</td>\n",
       "      <td>调研情况：2018年初，在呈报的题为《关于大力发展江苏民航补齐综合交通运输体系短板的几点建议...</td>\n",
       "    </tr>\n",
       "  </tbody>\n",
       "</table>\n",
       "</div>"
      ],
      "text/plain": [
       "  personnel_name                              pkid proposal_number  \\\n",
       "0             邹正  18b1b347f9e34badb8934c2acec80e9e            0001   \n",
       "1       省政协学习委员会  da43aae2378244faa961dd1224d1343e            0002   \n",
       "2            许文前  c0a1626a1bb744ebb0852cf25b21fb0a            0004   \n",
       "3            段绪强  ce60d71296764cfe997d62bb2c0990af            0005   \n",
       "4            侯建军  8b5fb5a7d86547899835a12af398ffc7            0006   \n",
       "\n",
       "          publish_time                   reason  rownum  type  year  \\\n",
       "0  2019-01-12 16:04:48        关于完善城市环卫公厕指引系统的建议       1  城乡建设  2019   \n",
       "1  2019-01-12 16:04:48          关于加强老小区光纤化改造的建议       2  城乡建设  2019   \n",
       "2  2019-01-12 15:42:19         加强科技创新，推动制造业转型升级       3  工业商贸  2019   \n",
       "3  2019-01-12 16:21:46  关于落实金融政策、促进民营企业高质量发展的建议       4  财税金融  2019   \n",
       "4  2019-01-12 15:42:19   关于主基地航空公司协同东部机场集团发展的建议       5  工业商贸  2019   \n",
       "\n",
       "                                             content  \n",
       "0  调研情况：    2015 年 4 月 1 日，习近平总书记首次提出要坚持不懈地推进“厕所革...  \n",
       "1  调研情况：近期，省政协学习委员会组织部分委员对我省信息通信业发展情况进行考察调研，总的感到，...  \n",
       "2  调研情况：   早在2012年，美国国会的一份报告就声称，华为和中兴通讯可能涉嫌从事威胁美国...  \n",
       "3  调研情况：2018年，国家支持民营企业融资所出台的政策众多、且力度空前。这在一定程度上提振了...  \n",
       "4  调研情况：2018年初，在呈报的题为《关于大力发展江苏民航补齐综合交通运输体系短板的几点建议...  "
      ]
     },
     "execution_count": 14,
     "metadata": {},
     "output_type": "execute_result"
    }
   ],
   "source": [
    "df.head()"
   ]
  },
  {
   "cell_type": "code",
   "execution_count": 15,
   "metadata": {
    "ExecuteTime": {
     "end_time": "2019-10-10T01:41:33.470909Z",
     "start_time": "2019-10-10T01:41:33.468514Z"
    }
   },
   "outputs": [],
   "source": [
    "#df.to_csv('../data/jszx2019.csv', index = False)"
   ]
  }
 ],
 "metadata": {
  "kernelspec": {
   "display_name": "Python 3",
   "language": "python",
   "name": "python3"
  },
  "language_info": {
   "codemirror_mode": {
    "name": "ipython",
    "version": 3
   },
   "file_extension": ".py",
   "mimetype": "text/x-python",
   "name": "python",
   "nbconvert_exporter": "python",
   "pygments_lexer": "ipython3",
   "version": "3.7.3"
  },
  "latex_envs": {
   "LaTeX_envs_menu_present": true,
   "autoclose": false,
   "autocomplete": true,
   "bibliofile": "biblio.bib",
   "cite_by": "apalike",
   "current_citInitial": 1,
   "eqLabelWithNumbers": true,
   "eqNumInitial": 1,
   "hotkeys": {
    "equation": "Ctrl-E",
    "itemize": "Ctrl-I"
   },
   "labels_anchors": false,
   "latex_user_defs": false,
   "report_style_numbering": false,
   "user_envs_cfg": false
  },
  "toc": {
   "base_numbering": 1,
   "nav_menu": {},
   "number_sections": false,
   "sideBar": true,
   "skip_h1_title": false,
   "title_cell": "Table of Contents",
   "title_sidebar": "Contents",
   "toc_cell": false,
   "toc_position": {},
   "toc_section_display": true,
   "toc_window_display": false
  }
 },
 "nbformat": 4,
 "nbformat_minor": 2
}
