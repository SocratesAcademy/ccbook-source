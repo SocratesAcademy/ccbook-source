{
 "cells": [
  {
   "cell_type": "markdown",
   "metadata": {
    "slideshow": {
     "slide_type": "slide"
    }
   },
   "source": [
    "\n",
    "***\n",
    "***\n",
    "# 致谢\n",
    "\n",
    "***\n",
    "***\n",
    "\n"
   ]
  },
  {
   "cell_type": "markdown",
   "metadata": {
    "slideshow": {
     "slide_type": "subslide"
    }
   },
   "source": [
    "首先，我需要感谢周葆华和祝建华两位老师。本书起源于王成军在2016年开始为复旦大学开设的[《计算新闻传播学》](https://github.com/computational-class/cjc)新媒体硕士课程。最初的课程框架由香港城市大学祝建华老师、复旦大学周葆华两位老师和王成军三个人商定，旨在为新闻传播学院的学生提供关于计算传播学应用的基本架构，内容注重计算思维的训练和实战应用，体现了实用性和案例化教学的特点。按照数据分析的流程分为数据收集、数据清洗、统计分析、机器学习（神经网络）、文本挖掘、推荐系统、网络科学、可视化等多个模块。其后，王成军在南京大学开设名为[《大数据挖掘与分析》](https://github.com/computational-class/bigdata)课程，基本上遵循相同的框架。同时，需要感谢参与此课程的所有同学，因为与同学们的互动，本书所使用的案例得以不断更新。\n",
    "\n",
    "\n",
    "其次，我想感谢Anaconda Python和Jupyter项目。本书及其相关课程遵循可计算化的思路，采用Python作为编程工具，所有课程内容，包括文字、图片、代码等，均通过Jupyter Notebook展示。Jupyter Notebook是数据科学和计算社会科学的必备工具，它使得程序运行的结果被非常好地记录下来，确保了数据分析结果更容易被复制出来，利于传播和展示。借助于[RISE](https://computational-class.github.io/ccbook/0_slides.html)，所有的Jupyter Notebook还可以非常方便地在本地以幻灯片的形式展示。为更好地方便教学、交流以及更新课程内容，特将课程相关的Jupyter notebook通过[Jupyter Book](https://github.com/jupyter/jupyter-book)整理为在线图书的形式。我在给学生上课的时候经常鼓吹Jupyter Notebook的高明之处，尤其是支持Markdown的写作体验非常好，因此可以用来写书。但是，我之前从来没有认真尝试过真正这样做。Jupyter Book终于让我的这个愿望成真。综上，笔者非常感谢Jupyter项目：一方面，如果没有Jupyter Notebook就很难有相关的课程；另一方面，如果没有Jupyter Book项目的成熟，将课程内容整理为在线电子图书也是一个巨大的工程。\n",
    "\n",
    "另外，我想感谢Github平台对于本书和相关课程起到了非常重要的作用。为便于教学，课程中使用的所有Jupyter Notebook形式的代码、数据、图片均通过Github完整的记录下来并对所有人开放。借助于nbviewer平台，读者可以非常便利地查看所有的Jupyter Notebook，并在幻灯片和代码两种模式中自由切换。当然，实现这一结果的基础是所有的Jupyter Notebook存储在Github平台上。本书的电子版本也通过[Github Pages](https://github.com/computational-class/ccbook)展现。每次更新的结果，均通过Github进行更新。每年开设两次相关课程使得本书所涉及到的内容可以迅速迭代。”苟日新，又日新“。聚沙成塔，集腋成裘，古人诚不我欺也。\n",
    "\n",
    "最后，需要声明的是，本在线书籍中不少应用内容来源于多本其它重要书籍，并非笔者独创。因本书内容驳杂，而个人能力有限，难免存在诸多谬误；对于其中涉及的错误，笔者皆愿意承担。\n",
    "\n",
    "王成军\n",
    "\n",
    "2019年10月11日\n",
    "\n",
    "\n",
    "\n"
   ]
  },
  {
   "cell_type": "code",
   "execution_count": null,
   "metadata": {},
   "outputs": [],
   "source": []
  }
 ],
 "metadata": {
  "celltoolbar": "Slideshow",
  "kernelspec": {
   "display_name": "Python 3",
   "language": "python",
   "name": "python3"
  },
  "language_info": {
   "codemirror_mode": {
    "name": "ipython",
    "version": 3
   },
   "file_extension": ".py",
   "mimetype": "text/x-python",
   "name": "python",
   "nbconvert_exporter": "python",
   "pygments_lexer": "ipython3",
   "version": "3.7.3"
  },
  "latex_envs": {
   "LaTeX_envs_menu_present": true,
   "autoclose": false,
   "autocomplete": true,
   "bibliofile": "reference.bib",
   "cite_by": "number",
   "current_citInitial": 1,
   "eqLabelWithNumbers": true,
   "eqNumInitial": 0,
   "hotkeys": {
    "equation": "Ctrl-E",
    "itemize": "Ctrl-I"
   },
   "labels_anchors": false,
   "latex_user_defs": false,
   "report_style_numbering": false,
   "user_envs_cfg": false
  },
  "nteract": {
   "version": "0.15.0"
  },
  "toc": {
   "base_numbering": 1,
   "nav_menu": {},
   "number_sections": false,
   "sideBar": false,
   "skip_h1_title": false,
   "title_cell": "Table of Contents",
   "title_sidebar": "Contents",
   "toc_cell": false,
   "toc_position": {
    "height": "780px",
    "left": "1292px",
    "top": "122.667px",
    "width": "341px"
   },
   "toc_section_display": false,
   "toc_window_display": false
  }
 },
 "nbformat": 4,
 "nbformat_minor": 1
}
