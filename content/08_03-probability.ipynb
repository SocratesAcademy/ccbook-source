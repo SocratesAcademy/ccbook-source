{
 "cells": [
  {
   "cell_type": "markdown",
   "metadata": {
    "slideshow": {
     "slide_type": "slide"
    }
   },
   "source": [
    "# Probability\n",
    "\n",
    "\n",
    "\n",
    "Probability is a way to quantify the uncertainty associated with events chosen from a some universe of events. \n",
    "\n",
    "> The laws of probability, so true in general, so fallacious in particular.\n",
    "—Edward Gibbon\n"
   ]
  },
  {
   "cell_type": "markdown",
   "metadata": {
    "slideshow": {
     "slide_type": "subslide"
    }
   },
   "source": [
    "<img align=\"left\" width = 100px style=\"padding-right:5px;\" src=\"./img/stats/bear.png\">\n",
    "\n",
    "P(E) means “the probability of the event E.”\n",
    "\n",
    "We’ll use probability theory to build and evaluate models. "
   ]
  },
  {
   "cell_type": "markdown",
   "metadata": {
    "slideshow": {
     "slide_type": "slide"
    }
   },
   "source": [
    "# Dependence and Independence\n",
    "Roughly speaking, we say that two events E and F are dependent if knowing something about whether E happens gives us information about whether F happens (and vice versa). Otherwise they are independent."
   ]
  },
  {
   "cell_type": "markdown",
   "metadata": {
    "slideshow": {
     "slide_type": "subslide"
    }
   },
   "source": [
    "When two events E and F are independent, then by definition we have:\n",
    "\n",
    "$$P(E,F) =P(E)P(F)$$"
   ]
  },
  {
   "cell_type": "markdown",
   "metadata": {
    "slideshow": {
     "slide_type": "slide"
    }
   },
   "source": [
    "# Conditional Probability"
   ]
  },
  {
   "cell_type": "markdown",
   "metadata": {
    "slideshow": {
     "slide_type": "fragment"
    }
   },
   "source": [
    "we define the probability of E conditional on F as:\n",
    "\n",
    "$$ P(E \\mid F) = \\frac{P(E,F)} {P(F)} $$\n"
   ]
  },
  {
   "cell_type": "markdown",
   "metadata": {
    "slideshow": {
     "slide_type": "subslide"
    }
   },
   "source": [
    "We often rewrite this as:\n",
    "\n",
    "$$ P(E,F) = P(E \\mid F) P(F) $$\n"
   ]
  },
  {
   "cell_type": "markdown",
   "metadata": {
    "slideshow": {
     "slide_type": "subslide"
    }
   },
   "source": [
    "When E and F are independent:\n",
    "\n",
    "$$ P(E \\mid F)=P(E)$$\n",
    "\n",
    "F occurred gives us no additional information about whether E occurred."
   ]
  },
  {
   "cell_type": "markdown",
   "metadata": {
    "slideshow": {
     "slide_type": "slide"
    }
   },
   "source": [
    "- Each child is equally likely to be a boy or a girl.\n",
    "- The gender of the second child is independent of the gender of the first child"
   ]
  },
  {
   "cell_type": "markdown",
   "metadata": {
    "slideshow": {
     "slide_type": "subslide"
    }
   },
   "source": [
    "- the event “no girls” has probability 1/4, \n",
    "- the event “one girl, one boy” has probability 1/2, \n",
    "- the event “two girls” has probability 1/4."
   ]
  },
  {
   "cell_type": "markdown",
   "metadata": {
    "slideshow": {
     "slide_type": "subslide"
    }
   },
   "source": [
    "$$P(B, G) = P(B)$$\n",
    "\n",
    "The event B and G (“both children are girls and the older child is a girl”) is just the event B. \n",
    "\n",
    "- Once you know that both children are girls, it’s necessarily true that the older child is a girl.\n",
    "\n"
   ]
  },
  {
   "cell_type": "markdown",
   "metadata": {
    "slideshow": {
     "slide_type": "subslide"
    }
   },
   "source": [
    "The probability of the event “both children are girls” (B) conditional on the event “the older child is a girl” (G)\n",
    "\n",
    "$$P(B \\mid G) =\\frac{P(B,G)}{P(G)} =\\frac{P(B)}{P(G)} =1/2$$"
   ]
  },
  {
   "cell_type": "markdown",
   "metadata": {
    "slideshow": {
     "slide_type": "subslide"
    }
   },
   "source": [
    "The probability of the event “both children are girls” conditional on the event “at least one of the children is a girl” (L). \n",
    "\n",
    "$$P(B \\mid L) =\\frac{P(B,L)}{P(L)} =\\frac{P(B)}{P(L)} =1/3$$"
   ]
  },
  {
   "cell_type": "code",
   "execution_count": 1,
   "metadata": {
    "ExecuteTime": {
     "end_time": "2019-06-08T13:42:48.671645Z",
     "start_time": "2019-06-08T13:42:48.252847Z"
    },
    "slideshow": {
     "slide_type": "subslide"
    }
   },
   "outputs": [],
   "source": [
    "from collections import Counter\n",
    "import math, random\n",
    "import matplotlib.pyplot as plt # pyplot\n",
    "\n",
    "def random_kid():\n",
    "    return random.choice([\"boy\", \"girl\"])"
   ]
  },
  {
   "cell_type": "code",
   "execution_count": 2,
   "metadata": {
    "ExecuteTime": {
     "end_time": "2019-06-08T13:42:49.384392Z",
     "start_time": "2019-06-08T13:42:49.378557Z"
    },
    "slideshow": {
     "slide_type": "fragment"
    }
   },
   "outputs": [
    {
     "data": {
      "text/plain": [
       "'girl'"
      ]
     },
     "execution_count": 2,
     "metadata": {},
     "output_type": "execute_result"
    }
   ],
   "source": [
    "random_kid()"
   ]
  },
  {
   "cell_type": "code",
   "execution_count": 3,
   "metadata": {
    "ExecuteTime": {
     "end_time": "2018-11-06T12:55:50.323518Z",
     "start_time": "2018-11-06T12:55:50.245413Z"
    },
    "slideshow": {
     "slide_type": "subslide"
    }
   },
   "outputs": [
    {
     "name": "stdout",
     "output_type": "stream",
     "text": [
      "P(both | older): 0.4906832298136646\n",
      "P(both | either):  0.33271913661489866\n"
     ]
    }
   ],
   "source": [
    "both_girls = 0\n",
    "older_girl = 0\n",
    "either_girl = 0\n",
    "\n",
    "random.seed(100)\n",
    "for _ in range(10000):\n",
    "    younger = random_kid()\n",
    "    older = random_kid()\n",
    "    if older == \"girl\":\n",
    "        older_girl += 1\n",
    "    if older == \"girl\" and younger == \"girl\":\n",
    "        both_girls += 1\n",
    "    if older == \"girl\" or younger == \"girl\":\n",
    "        either_girl += 1\n",
    "\n",
    "print(\"P(both | older):\", both_girls / older_girl)      # 0.514 ~ 1/2\n",
    "print(\"P(both | either): \", both_girls / either_girl)   # 0.342 ~ 1/3\n"
   ]
  },
  {
   "cell_type": "markdown",
   "metadata": {
    "slideshow": {
     "slide_type": "slide"
    }
   },
   "source": [
    "# Bayes’s Theorem"
   ]
  },
  {
   "cell_type": "markdown",
   "metadata": {
    "slideshow": {
     "slide_type": "subslide"
    }
   },
   "source": [
    "Using the definition of conditional probability twice tells us that:\n",
    "\n",
    "$$P(E \\mid F) =\\frac{P(E,F)}{P(F)} =\\frac{P(F \\mid E)P(E)}{P(F)}$$"
   ]
  },
  {
   "cell_type": "markdown",
   "metadata": {
    "ExecuteTime": {
     "end_time": "2018-09-18T05:36:44.679119Z",
     "start_time": "2018-09-18T05:36:44.673586Z"
    },
    "slideshow": {
     "slide_type": "subslide"
    }
   },
   "source": [
    "The complement of an event is the \"opposite\" of that event. \n",
    "- We write $E{}'$ for “not E” (i.e., “E doesn’t happen”),"
   ]
  },
  {
   "cell_type": "markdown",
   "metadata": {
    "slideshow": {
     "slide_type": "subslide"
    }
   },
   "source": [
    "The event F can be split into the two mutually exclusive events:\n",
    "- “F and E”\n",
    "- “F and not E.” "
   ]
  },
  {
   "cell_type": "markdown",
   "metadata": {
    "slideshow": {
     "slide_type": "fragment"
    }
   },
   "source": [
    "$$P(F) =P(F,E) +P(F,E{}')$$"
   ]
  },
  {
   "cell_type": "markdown",
   "metadata": {
    "slideshow": {
     "slide_type": "subslide"
    }
   },
   "source": [
    "<img align=\"left\" width = 150px style=\"padding-right:5px;\" src=\"./img/stats/bear.png\">\n",
    "\n",
    "**Bayes’s Theorem** \n",
    "\n",
    "$ P(E \\mid F) = \\frac{P(F \\mid E) P(E)}{ P(F \\mid E) P(E) + P(F E{}') P(E{}') }$"
   ]
  },
  {
   "cell_type": "markdown",
   "metadata": {
    "slideshow": {
     "slide_type": "subslide"
    }
   },
   "source": [
    "** Why data scientists are smarter than doctors. **\n",
    "\n",
    "- **What does a positive test mean? ** 检查结果为阳性究竟意味着什么？\n",
    "- **How many people who test positive actually have the disease?** 检查结果为阳性的人真的得病的概率有多大？\n",
    "\n",
    "<img align=\"left\" width = 150px style=\"padding-right:10px;\" src=\"./img/stats/bird.png\">\n",
    "\n",
    "Imagine a certain disease that affects 1 in every 10,000 people. \n",
    "\n",
    "And imagine that there is a test for this disease that gives the correct result (“diseased” if you have the disease, “nondiseased” if you don’t) **99% of the time**.\n",
    "\n",
    "\n"
   ]
  },
  {
   "cell_type": "markdown",
   "metadata": {
    "slideshow": {
     "slide_type": "subslide"
    }
   },
   "source": [
    "Let’s use \n",
    "- T for the event “your test is positive” and \n",
    "- D for the event “you have the disease.” \n",
    "\n",
    "Then Bayes’s Theorem says that the probability that you have the disease, conditional on testing positive, is:\n",
    "\n",
    "$$ P(D \\mid T) = \\frac{P(T \\mid D) P(D)}{ P(T \\mid D) P(D) + P(T D{}') P(D{}') }$$"
   ]
  },
  {
   "cell_type": "markdown",
   "metadata": {
    "slideshow": {
     "slide_type": "subslide"
    }
   },
   "source": [
    "Here we know that \n",
    "\n",
    "-  the probability that someone with the disease tests positive, $P(T \\mid D) = 0.99$. \n",
    "- the probability that any given person has the disease, $P(D) = 1/10,000 = 0.0001$. \n",
    "- the probability that someone without the disease tests positive, $P(T \\mid D{}') = 0.01$. \n",
    "- the probability that any given person doesn’t have the disease, $P(D{}')= 0.9999$. \n",
    "\n",
    "Question: Can you compute the probability of $P(D \\mid T)$?\n",
    "\n",
    "Joke: most doctors will guess that $P(D \\mid T)$ is approximately 2."
   ]
  },
  {
   "cell_type": "markdown",
   "metadata": {
    "slideshow": {
     "slide_type": "subslide"
    }
   },
   "source": [
    "If you substitute these numbers into Bayes’s Theorem, you find\n",
    "$P(D \\mid T) =0.98 \\% $\n",
    "\n",
    "<img align=\"left\" width = 200px style=\"padding-right:10px;\" src=\"./img/stats/bird.png\">\n",
    "\n",
    "That is, the people who test positive actually have the disease is less than 1% !!!\n",
    "\n",
    "> This assumes that people take the test more or less at random. If only people with certain symptoms take the test we would instead have to condition on the event “positive test and symptoms” and the number would likely be a lot higher."
   ]
  },
  {
   "cell_type": "markdown",
   "metadata": {
    "slideshow": {
     "slide_type": "subslide"
    }
   },
   "source": [
    "A more intuitive way to see this is to imagine a population of 1 million people. \n",
    "- You’d expect 100 of them to have the disease, and 99 of those 100 to test positive. \n",
    "- On the other hand, you’d expect 999,900 of them not to have the disease, and 9,999 of those to test positive. \n",
    "- Which means that you’d expect only 99 out of (99 + 9999) positive testers to actually have the disease."
   ]
  },
  {
   "cell_type": "markdown",
   "metadata": {
    "slideshow": {
     "slide_type": "slide"
    }
   },
   "source": [
    "# Random Variables\n",
    "\n",
    "A random variable is a variable whose possible values have an **associated probability distribution**. \n",
    "- The associated distribution gives the probabilities that the variable realizes each of its possible values. \n",
    "\n",
    "    - The coin flip variable equals 0 with probability 0.5 and 1 with probability 0.5. \n",
    "    - The range(10) variable has a distribution that assigns probability 0.1 to each of the numbers from 0 to 9."
   ]
  },
  {
   "cell_type": "markdown",
   "metadata": {
    "ExecuteTime": {
     "end_time": "2018-09-19T05:44:01.159416Z",
     "start_time": "2018-09-19T05:44:01.154946Z"
    },
    "slideshow": {
     "slide_type": "subslide"
    }
   },
   "source": [
    "**The expected value of a random variable** is the average of its values weighted by their probabilities. \n",
    "- the range(10) variable has an expected value of 4.5."
   ]
  },
  {
   "cell_type": "markdown",
   "metadata": {
    "slideshow": {
     "slide_type": "slide"
    }
   },
   "source": [
    "# Continuous Distributions\n",
    "    "
   ]
  },
  {
   "cell_type": "markdown",
   "metadata": {
    "slideshow": {
     "slide_type": "subslide"
    }
   },
   "source": [
    "**Discrete distribution** associates positive probability with discrete outcomes. \n",
    "- A coin flip\n",
    "\n",
    "Often we’ll want to model distributions across `a continuum of outcomes`. \n",
    "- **The uniform distribution** puts equal weight on `all the numbers between 0 and 1`."
   ]
  },
  {
   "cell_type": "markdown",
   "metadata": {
    "slideshow": {
     "slide_type": "subslide"
    }
   },
   "source": [
    "> Because there are infinitely many numbers between 0 and 1, this means that the weight it assigns to individual points must necessarily be zero. \n",
    "\n",
    "The continuous distribution can be described with a **probability density function** (pdf)\n",
    "- the probability of seeing a value in a certain interval equals the integral of the density function over the interval."
   ]
  },
  {
   "cell_type": "code",
   "execution_count": 4,
   "metadata": {
    "ExecuteTime": {
     "end_time": "2018-11-06T12:55:50.637034Z",
     "start_time": "2018-11-06T12:55:50.631283Z"
    },
    "slideshow": {
     "slide_type": "subslide"
    }
   },
   "outputs": [
    {
     "data": {
      "text/plain": [
       "1"
      ]
     },
     "execution_count": 4,
     "metadata": {},
     "output_type": "execute_result"
    }
   ],
   "source": [
    "def uniform_pdf(x):\n",
    "    return 1 if x >= 0 and x < 1 else 0\n",
    "\n",
    "uniform_pdf(0.5)"
   ]
  },
  {
   "cell_type": "markdown",
   "metadata": {
    "slideshow": {
     "slide_type": "fragment"
    }
   },
   "source": [
    "The probability that a random variable following that distribution is between 0.2 and 0.3 is 1/10"
   ]
  },
  {
   "cell_type": "markdown",
   "metadata": {
    "slideshow": {
     "slide_type": "subslide"
    }
   },
   "source": [
    "**The cumulative distribution function (cdf)** gives the probability that a random variable is less than or equal to a certain value."
   ]
  },
  {
   "cell_type": "code",
   "execution_count": 5,
   "metadata": {
    "ExecuteTime": {
     "end_time": "2018-11-06T12:55:50.812280Z",
     "start_time": "2018-11-06T12:55:50.804074Z"
    },
    "slideshow": {
     "slide_type": "subslide"
    }
   },
   "outputs": [
    {
     "data": {
      "text/plain": [
       "0.8"
      ]
     },
     "execution_count": 5,
     "metadata": {},
     "output_type": "execute_result"
    }
   ],
   "source": [
    "def uniform_cdf(x):\n",
    "    \"returns the probability that a uniform random variable is less than x\"\n",
    "    if x < 0:   return 0    # uniform random is never less than 0\n",
    "    elif x < 1: return x    # e.g. P(X < 0.4) = 0.4\n",
    "    else:       return 1    # uniform random is always less than 1\n",
    "\n",
    "    \n",
    "uniform_cdf(0.8)"
   ]
  },
  {
   "cell_type": "code",
   "execution_count": 6,
   "metadata": {
    "ExecuteTime": {
     "end_time": "2018-11-06T12:55:50.820414Z",
     "start_time": "2018-11-06T12:55:50.815127Z"
    },
    "slideshow": {
     "slide_type": "fragment"
    }
   },
   "outputs": [
    {
     "data": {
      "text/plain": [
       "0.09999999999999998"
      ]
     },
     "execution_count": 6,
     "metadata": {},
     "output_type": "execute_result"
    }
   ],
   "source": [
    "uniform_cdf(0.3) - uniform_cdf(0.2)"
   ]
  },
  {
   "cell_type": "code",
   "execution_count": 7,
   "metadata": {
    "ExecuteTime": {
     "end_time": "2018-11-06T12:55:51.460759Z",
     "start_time": "2018-11-06T12:55:50.824076Z"
    },
    "slideshow": {
     "slide_type": "subslide"
    }
   },
   "outputs": [
    {
     "data": {
      "image/png": "[encoded data removed]",
      "text/plain": [
       "<Figure size 432x288 with 1 Axes>"
      ]
     },
     "metadata": {},
     "output_type": "display_data"
    }
   ],
   "source": [
    "x = [(i-10)*10/100 for i in range(31)]\n",
    "y = [uniform_cdf(i) for i in x]\n",
    "\n",
    "plt.plot(x, y)\n",
    "plt.title('The uniform cdf')\n",
    "plt.xlabel('$x$')\n",
    "plt.ylabel('$CDF$')\n",
    "plt.show()"
   ]
  },
  {
   "cell_type": "markdown",
   "metadata": {
    "slideshow": {
     "slide_type": "slide"
    }
   },
   "source": [
    "# The Normal Distribution\n",
    "The normal distribution is the king of distributions. \n",
    "\n",
    "- It is the classic bell curve–shaped distribution\n",
    "- It is completely determined by two parameters: its mean **μ** (mu) and its standard deviation **σ** (sigma). \n",
    "    - The mean indicates where the bell is centered\n",
    "    - the standard deviation how “wide” it is."
   ]
  },
  {
   "cell_type": "markdown",
   "metadata": {
    "slideshow": {
     "slide_type": "subslide"
    }
   },
   "source": [
    "The probability density of the normal distribution is\n",
    "\n",
    "$$\n",
    "f(x \\mid \\mu, \\sigma^2) = \\frac{1}{\\sqrt{2\\pi\\sigma^2} } e^{ -\\frac{(x-\\mu)^2}{2\\sigma^2} }\n",
    "$$\n",
    "\n",
    "where\n",
    "* $\\mu$ is the mean or expectation of the distribution (and also its median and mode),\n",
    "* $\\sigma$ is the standard deviation, and\n",
    "* $\\sigma^2$ is the variance."
   ]
  },
  {
   "cell_type": "markdown",
   "metadata": {
    "slideshow": {
     "slide_type": "subslide"
    }
   },
   "source": [
    "<img align=\"middle\" width = 800px style=\"padding-right:10px;\" src=\"./img/stats/bellcurve.png\">\n",
    "\n",
    "Image source: http://www.moserware.com/2010/03/computing-your-skill.html"
   ]
  },
  {
   "cell_type": "code",
   "execution_count": 8,
   "metadata": {
    "ExecuteTime": {
     "end_time": "2018-11-06T12:55:51.470256Z",
     "start_time": "2018-11-06T12:55:51.462890Z"
    },
    "slideshow": {
     "slide_type": "subslide"
    }
   },
   "outputs": [
    {
     "data": {
      "text/plain": [
       "1.4867195147342979e-06"
      ]
     },
     "execution_count": 8,
     "metadata": {},
     "output_type": "execute_result"
    }
   ],
   "source": [
    "def normal_pdf(x, mu=0, sigma=1):\n",
    "    sqrt_two_pi = math.sqrt(2 * math.pi)\n",
    "    return (math.exp(-(x-mu) ** 2 / 2 / sigma ** 2) / (sqrt_two_pi * sigma))\n",
    "\n",
    "normal_pdf(5)"
   ]
  },
  {
   "cell_type": "code",
   "execution_count": 30,
   "metadata": {
    "ExecuteTime": {
     "end_time": "2018-11-06T13:06:23.157384Z",
     "start_time": "2018-11-06T13:06:22.898250Z"
    },
    "code_folding": [],
    "slideshow": {
     "slide_type": "subslide"
    }
   },
   "outputs": [
    {
     "data": {
      "image/png": "[encoded data removed]",
      "text/plain": [
       "<Figure size 432x288 with 1 Axes>"
      ]
     },
     "metadata": {},
     "output_type": "display_data"
    }
   ],
   "source": [
    "def plot_normal_pdfs(plt):\n",
    "    xs = [x / 10.0 for x in range(-50, 50)]\n",
    "    plt.plot(xs,[normal_pdf(x,sigma=1) for x in xs],'-',label='mu=0,sigma=1')\n",
    "    plt.plot(xs,[normal_pdf(x,sigma=2) for x in xs],'--',label='mu=0,sigma=2')\n",
    "    plt.plot(xs,[normal_pdf(x,sigma=0.5) for x in xs],':',label='mu=0,sigma=0.5')\n",
    "    plt.plot(xs,[normal_pdf(x,mu=-1)   for x in xs],'-.',label='mu=-1,sigma=1')\n",
    "    plt.xlabel('Z', fontsize = 20)\n",
    "    plt.ylabel('Probability', fontsize = 20)\n",
    "    plt.legend()\n",
    "    plt.show()\n",
    "\n",
    "plot_normal_pdfs(plt)    "
   ]
  },
  {
   "cell_type": "code",
   "execution_count": 10,
   "metadata": {
    "ExecuteTime": {
     "end_time": "2018-11-06T12:55:51.719006Z",
     "start_time": "2018-11-06T12:55:51.715398Z"
    },
    "slideshow": {
     "slide_type": "subslide"
    }
   },
   "outputs": [],
   "source": [
    "def normal_cdf(x, mu=0,sigma=1):\n",
    "    return (1 + math.erf((x - mu) / math.sqrt(2) / sigma)) / 2"
   ]
  },
  {
   "cell_type": "code",
   "execution_count": 29,
   "metadata": {
    "ExecuteTime": {
     "end_time": "2018-11-06T13:06:09.752801Z",
     "start_time": "2018-11-06T13:06:09.521900Z"
    },
    "code_folding": [],
    "slideshow": {
     "slide_type": "subslide"
    }
   },
   "outputs": [
    {
     "data": {
      "image/png": "[encoded data removed]",
      "text/plain": [
       "<Figure size 432x288 with 1 Axes>"
      ]
     },
     "metadata": {},
     "output_type": "display_data"
    }
   ],
   "source": [
    "def plot_normal_cdfs(plt):\n",
    "    xs = [x / 10.0 for x in range(-50, 50)]\n",
    "    plt.plot(xs,[normal_cdf(x,sigma=1) for x in xs],'-',label='mu=0,sigma=1')\n",
    "    plt.plot(xs,[normal_cdf(x,sigma=2) for x in xs],'--',label='mu=0,sigma=2')\n",
    "    plt.plot(xs,[normal_cdf(x,sigma=0.5) for x in xs],':',label='mu=0,sigma=0.5')\n",
    "    plt.plot(xs,[normal_cdf(x,mu=-1) for x in xs],'-.',label='mu=-1,sigma=1')\n",
    "    plt.xlabel('Z', fontsize = 20)\n",
    "    plt.ylabel('Probability', fontsize = 20)\n",
    "    plt.legend(loc=4) # bottom right\n",
    "    plt.show()\n",
    "    \n",
    "plot_normal_cdfs(plt)    "
   ]
  },
  {
   "cell_type": "markdown",
   "metadata": {
    "slideshow": {
     "slide_type": "skip"
    }
   },
   "source": [
    "## Inverse Normal CDF\n",
    "\n",
    "\n",
    "\n",
    "To invert normal_cdf to find the Z value corresponding to a specified probability. \n",
    "\n",
    "<font size=\"4\" color=\"purple\">to find the Z value corresponding to a specified probability</font>\n",
    "\n",
    "\n",
    "- There’s no simple way to compute its inverse, \n",
    "- but normal_cdf is continuous and strictly increasing, \n",
    "    - so we can use a binary search:"
   ]
  },
  {
   "cell_type": "code",
   "execution_count": 18,
   "metadata": {
    "ExecuteTime": {
     "end_time": "2018-11-06T12:59:18.407060Z",
     "start_time": "2018-11-06T12:59:18.383426Z"
    },
    "slideshow": {
     "slide_type": "skip"
    }
   },
   "outputs": [],
   "source": [
    "def inverse_normal_cdf(p, mu=0, sigma=1, tolerance=0.00001):\n",
    "    \"\"\"find approximate inverse using binary search\"\"\"\n",
    "\n",
    "    # if not standard, compute standard and rescale\n",
    "    if mu != 0 or sigma != 1:\n",
    "        return mu + sigma * inverse_normal_cdf(p, tolerance=tolerance)\n",
    "\n",
    "    low_z, low_p = -10.0, 0            # normal_cdf(-10) is (very close to) 0\n",
    "    hi_z,  hi_p  =  10.0, 1            # normal_cdf(10)  is (very close to) 1\n",
    "    while hi_z - low_z > tolerance:\n",
    "        mid_z = (low_z + hi_z) / 2     # consider the midpoint\n",
    "        mid_p = normal_cdf(mid_z)      # and the cdf's value there\n",
    "        if mid_p < p:\n",
    "            # midpoint is still too low, search above it\n",
    "            low_z, low_p = mid_z, mid_p\n",
    "        elif mid_p > p:\n",
    "            # midpoint is still too high, search below it\n",
    "            hi_z, hi_p = mid_z, mid_p\n",
    "        else:\n",
    "            break\n",
    "\n",
    "    return mid_z"
   ]
  },
  {
   "cell_type": "code",
   "execution_count": 13,
   "metadata": {
    "ExecuteTime": {
     "end_time": "2018-11-06T12:55:51.961760Z",
     "start_time": "2018-11-06T12:55:51.957565Z"
    },
    "slideshow": {
     "slide_type": "skip"
    }
   },
   "outputs": [
    {
     "data": {
      "text/plain": [
       "-8.75"
      ]
     },
     "execution_count": 13,
     "metadata": {},
     "output_type": "execute_result"
    }
   ],
   "source": [
    "inverse_normal_cdf(p = 0)"
   ]
  },
  {
   "cell_type": "code",
   "execution_count": 28,
   "metadata": {
    "ExecuteTime": {
     "end_time": "2018-11-06T13:05:16.276999Z",
     "start_time": "2018-11-06T13:05:16.042172Z"
    },
    "slideshow": {
     "slide_type": "skip"
    }
   },
   "outputs": [
    {
     "data": {
      "image/png": "[encoded data removed]",
      "text/plain": [
       "<Figure size 432x288 with 1 Axes>"
      ]
     },
     "metadata": {},
     "output_type": "display_data"
    }
   ],
   "source": [
    "ps = [p/ 100.0 for p in range(101)]\n",
    "plt.plot([inverse_normal_cdf(p,mu=0, sigma=1) for p in ps], ps, '-',label='mu=0, sigma=1')\n",
    "plt.plot([inverse_normal_cdf(p,mu=3, sigma=1) for p in ps],ps, '-',label='mu=3, sigma=1')\n",
    "plt.plot([inverse_normal_cdf(p,mu=6, sigma=1) for p in ps],ps, '-',label='mu=6, sigma=1')\n",
    "plt.xlabel('Z', fontsize = 20)\n",
    "plt.ylabel('Probability', fontsize = 20)\n",
    "plt.legend(loc=0) # bottom right\n",
    "plt.show()"
   ]
  },
  {
   "cell_type": "markdown",
   "metadata": {
    "slideshow": {
     "slide_type": "slide"
    }
   },
   "source": [
    "# The Central Limit Theorem\n",
    "\n",
    "One reason the normal distribution is so useful is the central limit theorem\n",
    "\n",
    "> A random variable defined as the **average** of a large number of _independent and identically distributed (IID)_ random variables is itself approximately normally distributed."
   ]
  },
  {
   "cell_type": "markdown",
   "metadata": {
    "slideshow": {
     "slide_type": "subslide"
    }
   },
   "source": [
    "In particular, if $x_1$, ..., $x_n$ are random variables with mean μ and standard deviation σ, and if n is large, \n",
    "\n",
    "- The sum $X_1+ …+ X_n$ will approach that of the normal distribution $N(n\\mu, n\\sigma ^2)$,\n",
    "- **The sample average** $S_n = \\frac{1}{n}(x_1 +... +x_n)$ is approximately normally distributed with mean $\\mu$ and deviation $\\sigma/\\sqrt n$ , and variance $\\sigma ^2/ n$.\n",
    "\n"
   ]
  },
  {
   "cell_type": "markdown",
   "metadata": {
    "slideshow": {
     "slide_type": "subslide"
    }
   },
   "source": [
    "$ \\frac{(x_1 +... +x_n) - \\mu n}{\\sigma \\sqrt{n}} = \\frac{ \\frac{x_1 +... +x_n}{n} - \\mu }{\\sigma / \\sqrt{n}}$ is approximately normally distributed with mean 0 and standard deviation 1.\n"
   ]
  },
  {
   "cell_type": "markdown",
   "metadata": {
    "slideshow": {
     "slide_type": "subslide"
    }
   },
   "source": [
    "> In probability theory, the central limit theorem (CLT) establishes that, in some situations, when independent random variables are added, their properly normalized sum tends toward a normal distribution (informally a \"bell curve\") **even if the original variables themselves are not normally distributed**. "
   ]
  },
  {
   "cell_type": "markdown",
   "metadata": {
    "slideshow": {
     "slide_type": "skip"
    }
   },
   "source": [
    "$$\\sigma = \\sqrt{\\frac{\\sum_{i=1}^N (x_i - \\overline{x})^2}{N-1} }$$"
   ]
  },
  {
   "cell_type": "markdown",
   "metadata": {
    "slideshow": {
     "slide_type": "slide"
    }
   },
   "source": [
    "\n",
    "#### The example of  binomial random variables\n",
    "\n",
    "Binomial random variables (二项式随机变量) have two parameters n and p. \n",
    "\n",
    "A **Binomial(n,p)** random variable is simply the sum of n independent Bernoulli(p) random variables, each of which equals 1 with probability p and 0 with probability 1 − p."
   ]
  },
  {
   "cell_type": "markdown",
   "metadata": {
    "slideshow": {
     "slide_type": "subslide"
    }
   },
   "source": [
    "The mean of a Bernoulli($p$) variable is $p$, and its variance is\n",
    "$p(1-p)$"
   ]
  },
  {
   "cell_type": "markdown",
   "metadata": {
    "slideshow": {
     "slide_type": "subslide"
    }
   },
   "source": [
    "Central limit theorem says that as $n$ gets large, \n",
    "\n",
    "<font size = '6', color= 'blue'>a Binomial(n,p) variable is approximately a normal random variable </font>\n",
    "    \n",
    "- with mean $\\mu=np$ \n",
    "- with variance $\\sigma ^2= np(1-p)$\n"
   ]
  },
  {
   "cell_type": "code",
   "execution_count": 15,
   "metadata": {
    "ExecuteTime": {
     "end_time": "2018-11-06T12:55:52.181094Z",
     "start_time": "2018-11-06T12:55:52.176050Z"
    },
    "slideshow": {
     "slide_type": "subslide"
    }
   },
   "outputs": [],
   "source": [
    "def bernoulli_trial(p):\n",
    "    return 1 if random.random() < p else 0\n",
    "\n",
    "\n",
    "def binomial(p, n):\n",
    "    return sum(bernoulli_trial(p) for _ in range(n))"
   ]
  },
  {
   "cell_type": "code",
   "execution_count": 16,
   "metadata": {
    "ExecuteTime": {
     "end_time": "2018-11-06T12:55:52.203214Z",
     "start_time": "2018-11-06T12:55:52.183028Z"
    },
    "slideshow": {
     "slide_type": "subslide"
    }
   },
   "outputs": [],
   "source": [
    "def make_hist(p, n, num_points):\n",
    "\n",
    "    data = [binomial(p, n) for _ in range(num_points)]\n",
    "\n",
    "    # use a bar chart to show the actual binomial samples\n",
    "    histogram = Counter(data)\n",
    "    plt.bar([x - 0.4 for x in histogram.keys()],\n",
    "            [v / num_points for v in histogram.values()],\n",
    "            0.8, color='0.75')\n",
    "\n",
    "    mu = p * n\n",
    "    sigma = math.sqrt(n * p * (1 - p))\n",
    "\n",
    "    # use a line chart to show the normal approximation\n",
    "    xs = range(min(data), max(data) + 1)\n",
    "    ys = [normal_cdf(i + 0.5, mu, sigma) - normal_cdf(i - 0.5, mu, sigma)\n",
    "          for i in xs]\n",
    "    plt.plot(xs,ys)\n",
    "    plt.show()\n"
   ]
  },
  {
   "cell_type": "code",
   "execution_count": 17,
   "metadata": {
    "ExecuteTime": {
     "end_time": "2018-11-06T12:55:52.853223Z",
     "start_time": "2018-11-06T12:55:52.204882Z"
    },
    "slideshow": {
     "slide_type": "subslide"
    }
   },
   "outputs": [
    {
     "data": {
      "image/png": "[encoded data removed]",
      "text/plain": [
       "<Figure size 432x288 with 1 Axes>"
      ]
     },
     "metadata": {},
     "output_type": "display_data"
    }
   ],
   "source": [
    "make_hist(0.75, 100, 10000)"
   ]
  },
  {
   "cell_type": "markdown",
   "metadata": {
    "slideshow": {
     "slide_type": "fragment"
    }
   },
   "source": [
    "scipy.stats contains pdf and cdf functions for most of the popular probability distributions."
   ]
  },
  {
   "cell_type": "markdown",
   "metadata": {
    "slideshow": {
     "slide_type": "skip"
    }
   },
   "source": [
    "# Proof of classical CLT\n",
    "\n",
    "\n",
    "Suppose $X_1, …, X_n$ are independent and identically distributed random variables, each with mean $\\mu$ and finite variance $\\sigma^2$. \n",
    "\n",
    "The sum $X_1+ …+ X_n$ has Linearity of expectation $n\\mu$ and Variance $n\\sigma^2$\n",
    "\n",
    "Consider the random variable\n",
    "\n",
    "$$Z_n \\ =\\ \\frac{X_1+\\cdots+X_n - n \\mu}{\\sqrt{n \\sigma^2}} \\ =\\ \\sum_{i=1}^n \\frac{X_i - \\mu}{\\sqrt{n \\sigma^2}} \\ =\\ \\sum_{i=1}^n \\frac{1}{\\sqrt{n}} Y_i,$$\n",
    "\n",
    "\n",
    "where in the last step we defined the new random variables $Y_i = \\frac{X_i - \\mu}{\\sigma}$, each with zero mean and unit variance (var(Y) = 1). \n",
    "\n",
    "https://en.wikipedia.org/wiki/Central_limit_theorem#Proof_of_classical_CLT"
   ]
  },
  {
   "cell_type": "markdown",
   "metadata": {
    "slideshow": {
     "slide_type": "skip"
    }
   },
   "source": [
    "The characteristic function of $Z_n$ is given by\n",
    "\n",
    "$$\\varphi_{Z_n}\\!(t) \\ =\\ \\varphi_{\\sum_{i=1}^n {\\frac{1}{\\sqrt{n}}Y_i}}\\!(t) \\ =\\ \\varphi_{Y_1}\\!\\!\\left(\\frac{t}{\\sqrt{n}}\\right) \\varphi_{Y_2}\\!\\! \\left(\\frac{t}{\\sqrt{n}}\\right)\\cdots \\varphi_{Y_n}\\!\\! \\left(\\frac{t}{\\sqrt{n}}\\right) \\ =\\ \\left[\\varphi_{Y_1}\\!\\!\\left(\\frac{t}{\\sqrt{n}}\\right)\\right]^n,\n",
    "$$\n",
    "\n",
    "where in the last step we used the fact that all of the $Y_i$ are identically distributed. The characteristic function of $Y_1$ is, by Taylor's theorem,\n",
    "\n",
    "$$\\varphi_{Y_1}\\!\\!\\left(\\frac{t}{\\sqrt{n}}\\right) \\ =\\ 1 - \\frac{t^2}{2n} + o\\!\\!\\left(\\frac{t^2}{n}\\right), \\quad \\bigg(\\frac{t}{\\sqrt{n}}\\bigg) \\rightarrow 0$$\n",
    "\n",
    "where $o(t^2)$ is Little-o notation for some function of $t$ that goes to zero more rapidly than $t^2$. "
   ]
  },
  {
   "cell_type": "markdown",
   "metadata": {
    "slideshow": {
     "slide_type": "skip"
    }
   },
   "source": [
    "By the limit of the exponential function ( $ e^2 = lim(1 + \\frac{x}{n})^n)$, the characteristic function of $Z_n$ equals\n",
    "\n",
    "$$\\varphi_{Z_n}(t) = \\left(1 - \\frac{t^2}{2n} + o\\left(\\frac{t^2}{n}\\right) \\right)^n \\rightarrow e^{-\\frac12 t^2}, \\quad n \\rightarrow \\infty.$$\n",
    "\n",
    "Note that all of the higher order terms vanish in the limit $ n \\rightarrow \\infty$. \n",
    "\n",
    "The right hand side equals the characteristic function of a standard normal distribution N(0,1), which implies through Lévy's continuity theorem that the distribution of $Z_n$ will approach N(0,1) as $ n \\rightarrow \\infty$. \n",
    "\n",
    "Therefore, the sum $X_1+ …+ X_n$ will approach that of the normal distribution $N(n\\mu, n\\sigma ^2)$, and the sample average $S_n = \\frac{X_1+\\cdots+X_n}{n}$\n",
    "\n",
    "converges to the normal distribution $N(\\mu, \\frac{\\sigma^2}{n})$, from which the central limit theorem follows."
   ]
  },
  {
   "cell_type": "code",
   "execution_count": null,
   "metadata": {},
   "outputs": [],
   "source": []
  }
 ],
 "metadata": {
  "celltoolbar": "Slideshow",
  "kernelspec": {
   "display_name": "Python [default]",
   "language": "python",
   "name": "python3"
  },
  "language_info": {
   "codemirror_mode": {
    "name": "ipython",
    "version": 3
   },
   "file_extension": ".py",
   "mimetype": "text/x-python",
   "name": "python",
   "nbconvert_exporter": "python",
   "pygments_lexer": "ipython3",
   "version": "3.5.4"
  },
  "latex_envs": {
   "LaTeX_envs_menu_present": true,
   "autoclose": false,
   "autocomplete": true,
   "bibliofile": "biblio.bib",
   "cite_by": "apalike",
   "current_citInitial": 1,
   "eqLabelWithNumbers": true,
   "eqNumInitial": 1,
   "hotkeys": {
    "equation": "Ctrl-E",
    "itemize": "Ctrl-I"
   },
   "labels_anchors": false,
   "latex_user_defs": false,
   "report_style_numbering": false,
   "user_envs_cfg": false
  },
  "toc": {
   "base_numbering": 1,
   "nav_menu": {},
   "number_sections": false,
   "sideBar": false,
   "skip_h1_title": false,
   "title_cell": "Table of Contents",
   "title_sidebar": "Contents",
   "toc_cell": false,
   "toc_position": {
    "height": "47px",
    "left": "646px",
    "top": "20.5625px",
    "width": "159px"
   },
   "toc_section_display": false,
   "toc_window_display": true
  }
 },
 "nbformat": 4,
 "nbformat_minor": 2
}
