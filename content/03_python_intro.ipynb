{
  "cells": [
    {
      "cell_type": "markdown",
      "source": [
        "***\n",
        "# 数据科学的编程工具\n",
        "> # Python使用简介\n",
        "***\n",
        "\n",
        "王成军\n",
        "\n",
        "wangchengjun@nju.edu.cn\n",
        "\n",
        "计算传播网 http://computational-communication.com"
      ],
      "metadata": {
        "collapsed": true,
        "slideshow": {
          "slide_type": "slide"
        }
      }
    },
    {
      "cell_type": "markdown",
      "source": [
        "# 人生苦短，我用Python。\n",
        "\n",
        "Python（/ˈpaɪθən/）是一种面向对象、解释型计算机程序设计语言\n",
        "- 由Guido van Rossum于1989年底发明\n",
        "- 第一个公开发行版发行于1991年\n",
        "- Python语法简洁而清晰\n",
        "- 具有强大的标准库和丰富的第三方模块\n",
        "- 它常被昵称为胶水语言\n",
        "- TIOBE编程语言排行榜“2010年度编程语言”\n",
        "\n"
      ],
      "metadata": {
        "slideshow": {
          "slide_type": "slide"
        }
      }
    },
    {
      "cell_type": "markdown",
      "source": [
        "# 特点\n",
        "- 免费、功能强大、使用者众多\n",
        "- 与R和MATLAB相比，Python是一门更易学、更严谨的程序设计语言。使用Python编写的脚本更易于理解和维护。\n",
        "- 如同其它编程语言一样，Python语言的基础知识包括：类型、列表（list）和元组（tuple）、字典（dictionary）、条件、循环、异常处理等。\n",
        "- 关于这些，初阶读者可以阅读《Beginning Python》一书（Hetland, 2005)。\n"
      ],
      "metadata": {
        "slideshow": {
          "slide_type": "slide"
        }
      }
    },
    {
      "cell_type": "markdown",
      "source": [
        "## Python中包含了丰富的类库。\n",
        "众多开源的科学计算软件包都提供了Python的调用接口，例如著名的计算机视觉库OpenCV。\n",
        "Python本身的科学计算类库发展也十分完善，例如NumPy、SciPy和matplotlib等。\n",
        "就社会网络分析而言，igraph, networkx, graph-tool, Snap.py等类库提供了丰富的网络分析工具"
      ],
      "metadata": {
        "slideshow": {
          "slide_type": "slide"
        }
      }
    },
    {
      "cell_type": "markdown",
      "source": [
        "## Python软件与IDE\n",
        "目前最新的Python版本为3.0，更稳定的2.7版本。\n",
        "编译器是编写程序的重要工具。\n",
        "免费的Python编译器有Spyder、PyCharm(免费社区版)、Ipython、Vim、 Emacs、 Eclipse(加上PyDev插件)。\n"
      ],
      "metadata": {
        "slideshow": {
          "slide_type": "slide"
        }
      }
    },
    {
      "cell_type": "markdown",
      "source": [
        "# Installing Anaconda Python\n",
        "- Use the Anaconda Python\n",
        "    - http://continuum.io/downloads.html"
      ],
      "metadata": {
        "collapsed": true,
        "slideshow": {
          "slide_type": "slide"
        }
      }
    },
    {
      "cell_type": "markdown",
      "source": [
        "# 第三方包可以使用pip install的方法安装。\n",
        "- 可以点击ToolsOpen command prompt\n",
        "- 然后在打开的命令窗口中输入：\n",
        "    - <del>pip install beautifulsoup4 \n"
      ],
      "metadata": {
        "slideshow": {
          "slide_type": "slide"
        }
      }
    },
    {
      "cell_type": "markdown",
      "source": [
        "> pip install beautifulsoup4"
      ],
      "metadata": {
        "slideshow": {
          "slide_type": "fragment"
        }
      }
    },
    {
      "cell_type": "markdown",
      "source": [
        "- NumPy /SciPy for scientific computing\n",
        "- pandas to make Python usable for data analysis\n",
        "- matplotlib to make graphics\n",
        "- scikit-learn for machine learning\n"
      ],
      "metadata": {
        "slideshow": {
          "slide_type": "subslide"
        }
      }
    },
    {
      "cell_type": "code",
      "source": [
        "%matplotlib inline\n",
        "import random, datetime\n",
        "import numpy as np\n",
        "import matplotlib.pyplot as plt\n",
        "import matplotlib\n",
        "import statsmodels.api as sm\n",
        "from scipy.stats import norm\n",
        "from scipy.stats.stats import pearsonr"
      ],
      "outputs": [],
      "execution_count": 1,
      "metadata": {
        "ExecuteTime": {
          "end_time": "2019-06-07T07:40:59.273350Z",
          "start_time": "2019-06-07T07:40:57.759770Z"
        },
        "slideshow": {
          "slide_type": "subslide"
        }
      }
    },
    {
      "cell_type": "markdown",
      "source": [
        "# Variable Type\n"
      ],
      "metadata": {
        "slideshow": {
          "slide_type": "slide"
        }
      }
    },
    {
      "cell_type": "code",
      "source": [
        "# str, int, float\n",
        "str(3)"
      ],
      "outputs": [
        {
          "output_type": "execute_result",
          "execution_count": 2,
          "data": {
            "text/plain": [
              "'3'"
            ]
          },
          "metadata": {}
        }
      ],
      "execution_count": 2,
      "metadata": {
        "ExecuteTime": {
          "end_time": "2019-06-07T07:42:10.914308Z",
          "start_time": "2019-06-07T07:42:10.908752Z"
        },
        "slideshow": {
          "slide_type": "fragment"
        }
      }
    },
    {
      "cell_type": "code",
      "source": [
        "\"chengjun wang\""
      ],
      "outputs": [
        {
          "output_type": "execute_result",
          "execution_count": 3,
          "data": {
            "text/plain": [
              "'chengjun wang'"
            ]
          },
          "metadata": {}
        }
      ],
      "execution_count": 3,
      "metadata": {
        "ExecuteTime": {
          "end_time": "2019-06-07T07:42:17.732999Z",
          "start_time": "2019-06-07T07:42:17.729117Z"
        },
        "slideshow": {
          "slide_type": "subslide"
        }
      }
    },
    {
      "cell_type": "code",
      "source": [
        "# int\n",
        "int('5')"
      ],
      "outputs": [
        {
          "output_type": "execute_result",
          "execution_count": 4,
          "data": {
            "text/plain": [
              "5"
            ]
          },
          "metadata": {}
        }
      ],
      "execution_count": 4,
      "metadata": {
        "ExecuteTime": {
          "end_time": "2019-06-07T07:42:26.970333Z",
          "start_time": "2019-06-07T07:42:26.966073Z"
        },
        "slideshow": {
          "slide_type": "fragment"
        }
      }
    },
    {
      "cell_type": "code",
      "source": [
        "# float\n",
        "float('7.1')"
      ],
      "outputs": [
        {
          "output_type": "execute_result",
          "execution_count": 5,
          "data": {
            "text/plain": [
              "7.1"
            ]
          },
          "metadata": {}
        }
      ],
      "execution_count": 5,
      "metadata": {
        "ExecuteTime": {
          "end_time": "2019-06-07T07:42:40.601162Z",
          "start_time": "2019-06-07T07:42:40.596728Z"
        },
        "slideshow": {
          "slide_type": "fragment"
        }
      }
    },
    {
      "cell_type": "code",
      "source": [
        "range(10)"
      ],
      "outputs": [
        {
          "output_type": "execute_result",
          "execution_count": 5,
          "data": {
            "text/plain": [
              "range(0, 10)"
            ]
          },
          "metadata": {}
        }
      ],
      "execution_count": 5,
      "metadata": {
        "ExecuteTime": {
          "end_time": "2018-04-27T06:20:36.407179Z",
          "start_time": "2018-04-27T06:20:36.403171Z"
        },
        "slideshow": {
          "slide_type": "subslide"
        }
      }
    },
    {
      "cell_type": "code",
      "source": [
        "# for i in range(1, 10):\n",
        "#     print(i)\n",
        "\n",
        "range(1,10) "
      ],
      "outputs": [
        {
          "output_type": "execute_result",
          "execution_count": 6,
          "data": {
            "text/plain": [
              "range(1, 10)"
            ]
          },
          "metadata": {}
        }
      ],
      "execution_count": 6,
      "metadata": {
        "ExecuteTime": {
          "end_time": "2018-04-27T06:20:44.836781Z",
          "start_time": "2018-04-27T06:20:44.832045Z"
        },
        "slideshow": {
          "slide_type": "fragment"
        }
      }
    },
    {
      "cell_type": "markdown",
      "source": [
        "# dir & help\n",
        "\n",
        "当你想要了解对象的详细信息时使用"
      ],
      "metadata": {
        "slideshow": {
          "slide_type": "slide"
        }
      }
    },
    {
      "cell_type": "code",
      "source": [
        "dir"
      ],
      "outputs": [
        {
          "output_type": "execute_result",
          "execution_count": 15,
          "data": {
            "text/plain": [
              "<function dir>"
            ]
          },
          "metadata": {}
        }
      ],
      "execution_count": 15,
      "metadata": {
        "slideshow": {
          "slide_type": "fragment"
        }
      }
    },
    {
      "cell_type": "code",
      "source": [
        "dir(str)[-10:]"
      ],
      "outputs": [
        {
          "output_type": "execute_result",
          "execution_count": 7,
          "data": {
            "text/plain": [
              "['rstrip',\n",
              " 'split',\n",
              " 'splitlines',\n",
              " 'startswith',\n",
              " 'strip',\n",
              " 'swapcase',\n",
              " 'title',\n",
              " 'translate',\n",
              " 'upper',\n",
              " 'zfill']"
            ]
          },
          "metadata": {}
        }
      ],
      "execution_count": 7,
      "metadata": {
        "ExecuteTime": {
          "end_time": "2018-04-27T06:21:19.950231Z",
          "start_time": "2018-04-27T06:21:19.945950Z"
        },
        "slideshow": {
          "slide_type": "fragment"
        }
      }
    },
    {
      "cell_type": "code",
      "source": [
        "help(str)"
      ],
      "outputs": [
        {
          "output_type": "stream",
          "name": "stdout",
          "text": [
            "Help on class str in module builtins:\n",
            "\n",
            "class str(object)\n",
            " |  str(object='') -> str\n",
            " |  str(bytes_or_buffer[, encoding[, errors]]) -> str\n",
            " |  \n",
            " |  Create a new string object from the given object. If encoding or\n",
            " |  errors is specified, then the object must expose a data buffer\n",
            " |  that will be decoded using the given encoding and error handler.\n",
            " |  Otherwise, returns the result of object.__str__() (if defined)\n",
            " |  or repr(object).\n",
            " |  encoding defaults to sys.getdefaultencoding().\n",
            " |  errors defaults to 'strict'.\n",
            " |  \n",
            " |  Methods defined here:\n",
            " |  \n",
            " |  __add__(self, value, /)\n",
            " |      Return self+value.\n",
            " |  \n",
            " |  __contains__(self, key, /)\n",
            " |      Return key in self.\n",
            " |  \n",
            " |  __eq__(self, value, /)\n",
            " |      Return self==value.\n",
            " |  \n",
            " |  __format__(...)\n",
            " |      S.__format__(format_spec) -> str\n",
            " |      \n",
            " |      Return a formatted version of S as described by format_spec.\n",
            " |  \n",
            " |  __ge__(self, value, /)\n",
            " |      Return self>=value.\n",
            " |  \n",
            " |  __getattribute__(self, name, /)\n",
            " |      Return getattr(self, name).\n",
            " |  \n",
            " |  __getitem__(self, key, /)\n",
            " |      Return self[key].\n",
            " |  \n",
            " |  __getnewargs__(...)\n",
            " |  \n",
            " |  __gt__(self, value, /)\n",
            " |      Return self>value.\n",
            " |  \n",
            " |  __hash__(self, /)\n",
            " |      Return hash(self).\n",
            " |  \n",
            " |  __iter__(self, /)\n",
            " |      Implement iter(self).\n",
            " |  \n",
            " |  __le__(self, value, /)\n",
            " |      Return self<=value.\n",
            " |  \n",
            " |  __len__(self, /)\n",
            " |      Return len(self).\n",
            " |  \n",
            " |  __lt__(self, value, /)\n",
            " |      Return self<value.\n",
            " |  \n",
            " |  __mod__(self, value, /)\n",
            " |      Return self%value.\n",
            " |  \n",
            " |  __mul__(self, value, /)\n",
            " |      Return self*value.n\n",
            " |  \n",
            " |  __ne__(self, value, /)\n",
            " |      Return self!=value.\n",
            " |  \n",
            " |  __new__(*args, **kwargs) from builtins.type\n",
            " |      Create and return a new object.  See help(type) for accurate signature.\n",
            " |  \n",
            " |  __repr__(self, /)\n",
            " |      Return repr(self).\n",
            " |  \n",
            " |  __rmod__(self, value, /)\n",
            " |      Return value%self.\n",
            " |  \n",
            " |  __rmul__(self, value, /)\n",
            " |      Return self*value.\n",
            " |  \n",
            " |  __sizeof__(...)\n",
            " |      S.__sizeof__() -> size of S in memory, in bytes\n",
            " |  \n",
            " |  __str__(self, /)\n",
            " |      Return str(self).\n",
            " |  \n",
            " |  capitalize(...)\n",
            " |      S.capitalize() -> str\n",
            " |      \n",
            " |      Return a capitalized version of S, i.e. make the first character\n",
            " |      have upper case and the rest lower case.\n",
            " |  \n",
            " |  casefold(...)\n",
            " |      S.casefold() -> str\n",
            " |      \n",
            " |      Return a version of S suitable for caseless comparisons.\n",
            " |  \n",
            " |  center(...)\n",
            " |      S.center(width[, fillchar]) -> str\n",
            " |      \n",
            " |      Return S centered in a string of length width. Padding is\n",
            " |      done using the specified fill character (default is a space)\n",
            " |  \n",
            " |  count(...)\n",
            " |      S.count(sub[, start[, end]]) -> int\n",
            " |      \n",
            " |      Return the number of non-overlapping occurrences of substring sub in\n",
            " |      string S[start:end].  Optional arguments start and end are\n",
            " |      interpreted as in slice notation.\n",
            " |  \n",
            " |  encode(...)\n",
            " |      S.encode(encoding='utf-8', errors='strict') -> bytes\n",
            " |      \n",
            " |      Encode S using the codec registered for encoding. Default encoding\n",
            " |      is 'utf-8'. errors may be given to set a different error\n",
            " |      handling scheme. Default is 'strict' meaning that encoding errors raise\n",
            " |      a UnicodeEncodeError. Other possible values are 'ignore', 'replace' and\n",
            " |      'xmlcharrefreplace' as well as any other name registered with\n",
            " |      codecs.register_error that can handle UnicodeEncodeErrors.\n",
            " |  \n",
            " |  endswith(...)\n",
            " |      S.endswith(suffix[, start[, end]]) -> bool\n",
            " |      \n",
            " |      Return True if S ends with the specified suffix, False otherwise.\n",
            " |      With optional start, test S beginning at that position.\n",
            " |      With optional end, stop comparing S at that position.\n",
            " |      suffix can also be a tuple of strings to try.\n",
            " |  \n",
            " |  expandtabs(...)\n",
            " |      S.expandtabs(tabsize=8) -> str\n",
            " |      \n",
            " |      Return a copy of S where all tab characters are expanded using spaces.\n",
            " |      If tabsize is not given, a tab size of 8 characters is assumed.\n",
            " |  \n",
            " |  find(...)\n",
            " |      S.find(sub[, start[, end]]) -> int\n",
            " |      \n",
            " |      Return the lowest index in S where substring sub is found,\n",
            " |      such that sub is contained within S[start:end].  Optional\n",
            " |      arguments start and end are interpreted as in slice notation.\n",
            " |      \n",
            " |      Return -1 on failure.\n",
            " |  \n",
            " |  format(...)\n",
            " |      S.format(*args, **kwargs) -> str\n",
            " |      \n",
            " |      Return a formatted version of S, using substitutions from args and kwargs.\n",
            " |      The substitutions are identified by braces ('{' and '}').\n",
            " |  \n",
            " |  format_map(...)\n",
            " |      S.format_map(mapping) -> str\n",
            " |      \n",
            " |      Return a formatted version of S, using substitutions from mapping.\n",
            " |      The substitutions are identified by braces ('{' and '}').\n",
            " |  \n",
            " |  index(...)\n",
            " |      S.index(sub[, start[, end]]) -> int\n",
            " |      \n",
            " |      Like S.find() but raise ValueError when the substring is not found.\n",
            " |  \n",
            " |  isalnum(...)\n",
            " |      S.isalnum() -> bool\n",
            " |      \n",
            " |      Return True if all characters in S are alphanumeric\n",
            " |      and there is at least one character in S, False otherwise.\n",
            " |  \n",
            " |  isalpha(...)\n",
            " |      S.isalpha() -> bool\n",
            " |      \n",
            " |      Return True if all characters in S are alphabetic\n",
            " |      and there is at least one character in S, False otherwise.\n",
            " |  \n",
            " |  isdecimal(...)\n",
            " |      S.isdecimal() -> bool\n",
            " |      \n",
            " |      Return True if there are only decimal characters in S,\n",
            " |      False otherwise.\n",
            " |  \n",
            " |  isdigit(...)\n",
            " |      S.isdigit() -> bool\n",
            " |      \n",
            " |      Return True if all characters in S are digits\n",
            " |      and there is at least one character in S, False otherwise.\n",
            " |  \n",
            " |  isidentifier(...)\n",
            " |      S.isidentifier() -> bool\n",
            " |      \n",
            " |      Return True if S is a valid identifier according\n",
            " |      to the language definition.\n",
            " |      \n",
            " |      Use keyword.iskeyword() to test for reserved identifiers\n",
            " |      such as \"def\" and \"class\".\n",
            " |  \n",
            " |  islower(...)\n",
            " |      S.islower() -> bool\n",
            " |      \n",
            " |      Return True if all cased characters in S are lowercase and there is\n",
            " |      at least one cased character in S, False otherwise.\n",
            " |  \n",
            " |  isnumeric(...)\n",
            " |      S.isnumeric() -> bool\n",
            " |      \n",
            " |      Return True if there are only numeric characters in S,\n",
            " |      False otherwise.\n",
            " |  \n",
            " |  isprintable(...)\n",
            " |      S.isprintable() -> bool\n",
            " |      \n",
            " |      Return True if all characters in S are considered\n",
            " |      printable in repr() or S is empty, False otherwise.\n",
            " |  \n",
            " |  isspace(...)\n",
            " |      S.isspace() -> bool\n",
            " |      \n",
            " |      Return True if all characters in S are whitespace\n",
            " |      and there is at least one character in S, False otherwise.\n",
            " |  \n",
            " |  istitle(...)\n",
            " |      S.istitle() -> bool\n",
            " |      \n",
            " |      Return True if S is a titlecased string and there is at least one\n",
            " |      character in S, i.e. upper- and titlecase characters may only\n",
            " |      follow uncased characters and lowercase characters only cased ones.\n",
            " |      Return False otherwise.\n",
            " |  \n",
            " |  isupper(...)\n",
            " |      S.isupper() -> bool\n",
            " |      \n",
            " |      Return True if all cased characters in S are uppercase and there is\n",
            " |      at least one cased character in S, False otherwise.\n",
            " |  \n",
            " |  join(...)\n",
            " |      S.join(iterable) -> str\n",
            " |      \n",
            " |      Return a string which is the concatenation of the strings in the\n",
            " |      iterable.  The separator between elements is S.\n",
            " |  \n",
            " |  ljust(...)\n",
            " |      S.ljust(width[, fillchar]) -> str\n",
            " |      \n",
            " |      Return S left-justified in a Unicode string of length width. Padding is\n",
            " |      done using the specified fill character (default is a space).\n",
            " |  \n",
            " |  lower(...)\n",
            " |      S.lower() -> str\n",
            " |      \n",
            " |      Return a copy of the string S converted to lowercase.\n",
            " |  \n",
            " |  lstrip(...)\n",
            " |      S.lstrip([chars]) -> str\n",
            " |      \n",
            " |      Return a copy of the string S with leading whitespace removed.\n",
            " |      If chars is given and not None, remove characters in chars instead.\n",
            " |  \n",
            " |  partition(...)\n",
            " |      S.partition(sep) -> (head, sep, tail)\n",
            " |      \n",
            " |      Search for the separator sep in S, and return the part before it,\n",
            " |      the separator itself, and the part after it.  If the separator is not\n",
            " |      found, return S and two empty strings.\n",
            " |  \n",
            " |  replace(...)\n",
            " |      S.replace(old, new[, count]) -> str\n",
            " |      \n",
            " |      Return a copy of S with all occurrences of substring\n",
            " |      old replaced by new.  If the optional argument count is\n",
            " |      given, only the first count occurrences are replaced.\n",
            " |  \n",
            " |  rfind(...)\n",
            " |      S.rfind(sub[, start[, end]]) -> int\n",
            " |      \n",
            " |      Return the highest index in S where substring sub is found,\n",
            " |      such that sub is contained within S[start:end].  Optional\n",
            " |      arguments start and end are interpreted as in slice notation.\n",
            " |      \n",
            " |      Return -1 on failure.\n",
            " |  \n",
            " |  rindex(...)\n",
            " |      S.rindex(sub[, start[, end]]) -> int\n",
            " |      \n",
            " |      Like S.rfind() but raise ValueError when the substring is not found.\n",
            " |  \n",
            " |  rjust(...)\n",
            " |      S.rjust(width[, fillchar]) -> str\n",
            " |      \n",
            " |      Return S right-justified in a string of length width. Padding is\n",
            " |      done using the specified fill character (default is a space).\n",
            " |  \n",
            " |  rpartition(...)\n",
            " |      S.rpartition(sep) -> (head, sep, tail)\n",
            " |      \n",
            " |      Search for the separator sep in S, starting at the end of S, and return\n",
            " |      the part before it, the separator itself, and the part after it.  If the\n",
            " |      separator is not found, return two empty strings and S.\n",
            " |  \n",
            " |  rsplit(...)\n",
            " |      S.rsplit(sep=None, maxsplit=-1) -> list of strings\n",
            " |      \n",
            " |      Return a list of the words in S, using sep as the\n",
            " |      delimiter string, starting at the end of the string and\n",
            " |      working to the front.  If maxsplit is given, at most maxsplit\n",
            " |      splits are done. If sep is not specified, any whitespace string\n",
            " |      is a separator.\n",
            " |  \n",
            " |  rstrip(...)\n",
            " |      S.rstrip([chars]) -> str\n",
            " |      \n",
            " |      Return a copy of the string S with trailing whitespace removed.\n",
            " |      If chars is given and not None, remove characters in chars instead.\n",
            " |  \n",
            " |  split(...)\n",
            " |      S.split(sep=None, maxsplit=-1) -> list of strings\n",
            " |      \n",
            " |      Return a list of the words in S, using sep as the\n",
            " |      delimiter string.  If maxsplit is given, at most maxsplit\n",
            " |      splits are done. If sep is not specified or is None, any\n",
            " |      whitespace string is a separator and empty strings are\n",
            " |      removed from the result.\n",
            " |  \n",
            " |  splitlines(...)\n",
            " |      S.splitlines([keepends]) -> list of strings\n",
            " |      \n",
            " |      Return a list of the lines in S, breaking at line boundaries.\n",
            " |      Line breaks are not included in the resulting list unless keepends\n",
            " |      is given and true.\n",
            " |  \n",
            " |  startswith(...)\n",
            " |      S.startswith(prefix[, start[, end]]) -> bool\n",
            " |      \n",
            " |      Return True if S starts with the specified prefix, False otherwise.\n",
            " |      With optional start, test S beginning at that position.\n",
            " |      With optional end, stop comparing S at that position.\n",
            " |      prefix can also be a tuple of strings to try.\n",
            " |  \n",
            " |  strip(...)\n",
            " |      S.strip([chars]) -> str\n",
            " |      \n",
            " |      Return a copy of the string S with leading and trailing\n",
            " |      whitespace removed.\n",
            " |      If chars is given and not None, remove characters in chars instead.\n",
            " |  \n",
            " |  swapcase(...)\n",
            " |      S.swapcase() -> str\n",
            " |      \n",
            " |      Return a copy of S with uppercase characters converted to lowercase\n",
            " |      and vice versa.\n",
            " |  \n",
            " |  title(...)\n",
            " |      S.title() -> str\n",
            " |      \n",
            " |      Return a titlecased version of S, i.e. words start with title case\n",
            " |      characters, all remaining cased characters have lower case.\n",
            " |  \n",
            " |  translate(...)\n",
            " |      S.translate(table) -> str\n",
            " |      \n",
            " |      Return a copy of the string S in which each character has been mapped\n",
            " |      through the given translation table. The table must implement\n",
            " |      lookup/indexing via __getitem__, for instance a dictionary or list,\n",
            " |      mapping Unicode ordinals to Unicode ordinals, strings, or None. If\n",
            " |      this operation raises LookupError, the character is left untouched.\n",
            " |      Characters mapped to None are deleted.\n",
            " |  \n",
            " |  upper(...)\n",
            " |      S.upper() -> str\n",
            " |      \n",
            " |      Return a copy of S converted to uppercase.\n",
            " |  \n",
            " |  zfill(...)\n",
            " |      S.zfill(width) -> str\n",
            " |      \n",
            " |      Pad a numeric string S with zeros on the left, to fill a field\n",
            " |      of the specified width. The string S is never truncated.\n",
            " |  \n",
            " |  ----------------------------------------------------------------------\n",
            " |  Static methods defined here:\n",
            " |  \n",
            " |  maketrans(x, y=None, z=None, /)\n",
            " |      Return a translation table usable for str.translate().\n",
            " |      \n",
            " |      If there is only one argument, it must be a dictionary mapping Unicode\n",
            " |      ordinals (integers) or characters to Unicode ordinals, strings or None.\n",
            " |      Character keys will be then converted to ordinals.\n",
            " |      If there are two arguments, they must be strings of equal length, and\n",
            " |      in the resulting dictionary, each character in x will be mapped to the\n",
            " |      character at the same position in y. If there is a third argument, it\n",
            " |      must be a string, whose characters will be mapped to None in the result.\n",
            "\n"
          ]
        }
      ],
      "execution_count": 21,
      "metadata": {
        "slideshow": {
          "slide_type": "subslide"
        }
      }
    },
    {
      "cell_type": "code",
      "source": [
        "x = ' Hello WorlD  '\n",
        "dir(x)[-10:] "
      ],
      "outputs": [
        {
          "output_type": "execute_result",
          "execution_count": 9,
          "data": {
            "text/plain": [
              "['rstrip',\n",
              " 'split',\n",
              " 'splitlines',\n",
              " 'startswith',\n",
              " 'strip',\n",
              " 'swapcase',\n",
              " 'title',\n",
              " 'translate',\n",
              " 'upper',\n",
              " 'zfill']"
            ]
          },
          "metadata": {}
        }
      ],
      "execution_count": 9,
      "metadata": {
        "ExecuteTime": {
          "end_time": "2018-04-27T06:23:11.453270Z",
          "start_time": "2018-04-27T06:23:11.448761Z"
        },
        "slideshow": {
          "slide_type": "fragment"
        }
      }
    },
    {
      "cell_type": "code",
      "source": [
        "# lower\n",
        "x.lower() "
      ],
      "outputs": [
        {
          "output_type": "execute_result",
          "execution_count": 10,
          "data": {
            "text/plain": [
              "' hello world  '"
            ]
          },
          "metadata": {}
        }
      ],
      "execution_count": 10,
      "metadata": {
        "ExecuteTime": {
          "end_time": "2018-04-27T06:23:14.557187Z",
          "start_time": "2018-04-27T06:23:14.553212Z"
        },
        "slideshow": {
          "slide_type": "subslide"
        }
      }
    },
    {
      "cell_type": "code",
      "source": [
        "# upper\n",
        "x.upper()"
      ],
      "outputs": [
        {
          "output_type": "execute_result",
          "execution_count": 11,
          "data": {
            "text/plain": [
              "' HELLO WORLD  '"
            ]
          },
          "metadata": {}
        }
      ],
      "execution_count": 11,
      "metadata": {
        "ExecuteTime": {
          "end_time": "2018-04-27T06:23:18.953978Z",
          "start_time": "2018-04-27T06:23:18.949629Z"
        },
        "slideshow": {
          "slide_type": "fragment"
        }
      }
    },
    {
      "cell_type": "code",
      "source": [
        "# rstrip\n",
        "x.rstrip()"
      ],
      "outputs": [
        {
          "output_type": "execute_result",
          "execution_count": 12,
          "data": {
            "text/plain": [
              "' Hello WorlD'"
            ]
          },
          "metadata": {}
        }
      ],
      "execution_count": 12,
      "metadata": {
        "ExecuteTime": {
          "end_time": "2018-04-27T06:23:31.134109Z",
          "start_time": "2018-04-27T06:23:31.129973Z"
        },
        "slideshow": {
          "slide_type": "fragment"
        }
      }
    },
    {
      "cell_type": "code",
      "source": [
        "# strip\n",
        "x.strip()"
      ],
      "outputs": [
        {
          "output_type": "execute_result",
          "execution_count": 13,
          "data": {
            "text/plain": [
              "'Hello WorlD'"
            ]
          },
          "metadata": {}
        }
      ],
      "execution_count": 13,
      "metadata": {
        "ExecuteTime": {
          "end_time": "2018-04-27T06:23:37.763894Z",
          "start_time": "2018-04-27T06:23:37.759636Z"
        },
        "slideshow": {
          "slide_type": "fragment"
        }
      }
    },
    {
      "cell_type": "code",
      "source": [
        "# replace\n",
        "x.replace('lo', '')"
      ],
      "outputs": [
        {
          "output_type": "execute_result",
          "execution_count": 14,
          "data": {
            "text/plain": [
              "' Hel WorlD  '"
            ]
          },
          "metadata": {}
        }
      ],
      "execution_count": 14,
      "metadata": {
        "ExecuteTime": {
          "end_time": "2018-04-27T06:23:51.620380Z",
          "start_time": "2018-04-27T06:23:51.616412Z"
        },
        "slideshow": {
          "slide_type": "subslide"
        }
      }
    },
    {
      "cell_type": "code",
      "source": [
        "# split\n",
        "x.split('lo')"
      ],
      "outputs": [
        {
          "output_type": "execute_result",
          "execution_count": 15,
          "data": {
            "text/plain": [
              "[' Hel', ' WorlD  ']"
            ]
          },
          "metadata": {}
        }
      ],
      "execution_count": 15,
      "metadata": {
        "ExecuteTime": {
          "end_time": "2018-04-27T06:24:04.701746Z",
          "start_time": "2018-04-27T06:24:04.697506Z"
        },
        "slideshow": {
          "slide_type": "fragment"
        }
      }
    },
    {
      "cell_type": "code",
      "source": [
        "# join \n",
        "','.join(['a', 'b'])"
      ],
      "outputs": [
        {
          "output_type": "execute_result",
          "execution_count": 17,
          "data": {
            "text/plain": [
              "'a,b'"
            ]
          },
          "metadata": {}
        }
      ],
      "execution_count": 17,
      "metadata": {
        "ExecuteTime": {
          "end_time": "2018-04-27T06:24:59.418177Z",
          "start_time": "2018-04-27T06:24:59.414081Z"
        }
      }
    },
    {
      "cell_type": "markdown",
      "source": [
        "# type\n",
        "当你想要了解变量类型时使用type"
      ],
      "metadata": {
        "slideshow": {
          "slide_type": "slide"
        }
      }
    },
    {
      "cell_type": "code",
      "source": [
        "x = 'hello world'\n",
        "type(x)"
      ],
      "outputs": [
        {
          "output_type": "execute_result",
          "execution_count": 18,
          "data": {
            "text/plain": [
              "str"
            ]
          },
          "metadata": {}
        }
      ],
      "execution_count": 18,
      "metadata": {
        "ExecuteTime": {
          "end_time": "2018-04-27T06:25:17.139503Z",
          "start_time": "2018-04-27T06:25:17.135387Z"
        },
        "slideshow": {
          "slide_type": "subslide"
        }
      }
    },
    {
      "cell_type": "markdown",
      "source": [
        "# Data Structure\n",
        "list, tuple, set, dictionary, array\n"
      ],
      "metadata": {
        "slideshow": {
          "slide_type": "slide"
        }
      }
    },
    {
      "cell_type": "code",
      "source": [
        "l = [1,2,3,3] # list\n",
        "t = (1, 2, 3, 3) # tuple\n",
        "s = {1, 2, 3, 3} # set([1,2,3,3]) # set\n",
        "d = {'a':1,'b':2,'c':3} # dict\n",
        "a = np.array(l) # array\n",
        "print(l, t, s, d, a)\n"
      ],
      "outputs": [
        {
          "output_type": "stream",
          "name": "stdout",
          "text": [
            "[1, 2, 3, 3] (1, 2, 3, 3) {1, 2, 3} {'c': 3, 'b': 2, 'a': 1} [1 2 3 3]\n"
          ]
        }
      ],
      "execution_count": 6,
      "metadata": {
        "ExecuteTime": {
          "end_time": "2019-06-07T07:50:17.227833Z",
          "start_time": "2019-06-07T07:50:17.220944Z"
        },
        "slideshow": {
          "slide_type": "fragment"
        }
      }
    },
    {
      "cell_type": "code",
      "source": [
        "l = [1,2,3,3] # list\n",
        "l.append(4)\n",
        "l"
      ],
      "outputs": [
        {
          "output_type": "execute_result",
          "execution_count": 7,
          "data": {
            "text/plain": [
              "[1, 2, 3, 3, 4]"
            ]
          },
          "metadata": {}
        }
      ],
      "execution_count": 7,
      "metadata": {
        "ExecuteTime": {
          "end_time": "2019-06-07T07:52:54.945655Z",
          "start_time": "2019-06-07T07:52:54.940401Z"
        },
        "slideshow": {
          "slide_type": "fragment"
        }
      }
    },
    {
      "cell_type": "code",
      "source": [
        "d = {'a':1,'b':2,'c':3} # dict\n",
        "d.keys()"
      ],
      "outputs": [
        {
          "output_type": "execute_result",
          "execution_count": 8,
          "data": {
            "text/plain": [
              "dict_keys(['c', 'b', 'a'])"
            ]
          },
          "metadata": {}
        }
      ],
      "execution_count": 8,
      "metadata": {
        "ExecuteTime": {
          "end_time": "2019-06-07T07:53:05.167022Z",
          "start_time": "2019-06-07T07:53:05.162185Z"
        },
        "slideshow": {
          "slide_type": "slide"
        }
      }
    },
    {
      "cell_type": "code",
      "source": [
        "d = {'a':1,'b':2,'c':3} # dict\n",
        "d.values()"
      ],
      "outputs": [
        {
          "output_type": "execute_result",
          "execution_count": 9,
          "data": {
            "text/plain": [
              "dict_values([3, 2, 1])"
            ]
          },
          "metadata": {}
        }
      ],
      "execution_count": 9,
      "metadata": {
        "ExecuteTime": {
          "end_time": "2019-06-07T07:53:19.913765Z",
          "start_time": "2019-06-07T07:53:19.909316Z"
        },
        "slideshow": {
          "slide_type": "fragment"
        }
      }
    },
    {
      "cell_type": "code",
      "source": [
        "d = {'a':1,'b':2,'c':3} # dict\n",
        "d['b']"
      ],
      "outputs": [
        {
          "output_type": "execute_result",
          "execution_count": 10,
          "data": {
            "text/plain": [
              "2"
            ]
          },
          "metadata": {}
        }
      ],
      "execution_count": 10,
      "metadata": {
        "ExecuteTime": {
          "end_time": "2019-06-07T07:54:14.915930Z",
          "start_time": "2019-06-07T07:54:14.911539Z"
        },
        "slideshow": {
          "slide_type": "fragment"
        }
      }
    },
    {
      "cell_type": "code",
      "source": [
        "d = {'a':1,'b':2,'c':3} # dict\n",
        "d.items()"
      ],
      "outputs": [
        {
          "output_type": "execute_result",
          "execution_count": 11,
          "data": {
            "text/plain": [
              "dict_items([('c', 3), ('b', 2), ('a', 1)])"
            ]
          },
          "metadata": {}
        }
      ],
      "execution_count": 11,
      "metadata": {
        "ExecuteTime": {
          "end_time": "2019-06-07T07:54:38.243408Z",
          "start_time": "2019-06-07T07:54:38.238512Z"
        },
        "slideshow": {
          "slide_type": "fragment"
        }
      }
    },
    {
      "cell_type": "markdown",
      "source": [
        "# 定义函数"
      ],
      "metadata": {
        "slideshow": {
          "slide_type": "slide"
        }
      }
    },
    {
      "cell_type": "code",
      "source": [
        "def devidePlus(m, n): # 结尾是冒号\n",
        "    y = m/n + 1 # 注意：空格\n",
        "    return y          # 注意：return"
      ],
      "outputs": [],
      "execution_count": 12,
      "metadata": {
        "ExecuteTime": {
          "end_time": "2019-06-07T07:56:56.067506Z",
          "start_time": "2019-06-07T07:56:56.063846Z"
        },
        "slideshow": {
          "slide_type": "fragment"
        }
      }
    },
    {
      "cell_type": "markdown",
      "source": [
        "## For 循环"
      ],
      "metadata": {
        "slideshow": {
          "slide_type": "slide"
        }
      }
    },
    {
      "cell_type": "code",
      "source": [
        "range(10)"
      ],
      "outputs": [
        {
          "output_type": "execute_result",
          "execution_count": 25,
          "data": {
            "text/plain": [
              "range(0, 10)"
            ]
          },
          "metadata": {}
        }
      ],
      "execution_count": 25,
      "metadata": {
        "ExecuteTime": {
          "end_time": "2018-04-27T06:33:20.876576Z",
          "start_time": "2018-04-27T06:33:20.872650Z"
        },
        "slideshow": {
          "slide_type": "fragment"
        }
      }
    },
    {
      "cell_type": "code",
      "source": [
        "range(1, 10)  "
      ],
      "outputs": [
        {
          "output_type": "execute_result",
          "execution_count": 26,
          "data": {
            "text/plain": [
              "range(1, 10)"
            ]
          },
          "metadata": {}
        }
      ],
      "execution_count": 26,
      "metadata": {
        "ExecuteTime": {
          "end_time": "2018-04-27T06:33:24.357364Z",
          "start_time": "2018-04-27T06:33:24.353424Z"
        },
        "slideshow": {
          "slide_type": "fragment"
        }
      }
    },
    {
      "cell_type": "code",
      "source": [
        "for i in range(10):\n",
        "    print(i, i*10, i**2)"
      ],
      "outputs": [
        {
          "output_type": "stream",
          "name": "stdout",
          "text": [
            "0 0 0\n",
            "1 10 1\n",
            "2 20 4\n",
            "3 30 9\n",
            "4 40 16\n",
            "5 50 25\n",
            "6 60 36\n",
            "7 70 49\n",
            "8 80 64\n",
            "9 90 81\n"
          ]
        }
      ],
      "execution_count": 27,
      "metadata": {
        "ExecuteTime": {
          "end_time": "2018-04-27T06:34:00.778647Z",
          "start_time": "2018-04-27T06:34:00.774164Z"
        },
        "slideshow": {
          "slide_type": "fragment"
        }
      }
    },
    {
      "cell_type": "code",
      "source": [
        "for i in range(10):\n",
        "    print(i*10) "
      ],
      "outputs": [
        {
          "output_type": "stream",
          "name": "stdout",
          "text": [
            "0\n",
            "10\n",
            "20\n",
            "30\n",
            "40\n",
            "50\n",
            "60\n",
            "70\n",
            "80\n",
            "90\n"
          ]
        }
      ],
      "execution_count": 28,
      "metadata": {
        "ExecuteTime": {
          "end_time": "2018-04-27T06:34:35.034598Z",
          "start_time": "2018-04-27T06:34:35.030691Z"
        },
        "slideshow": {
          "slide_type": "subslide"
        }
      }
    },
    {
      "cell_type": "code",
      "source": [
        "for i in range(10):\n",
        "    print(devidePlus(i, 2))"
      ],
      "outputs": [
        {
          "output_type": "stream",
          "name": "stdout",
          "text": [
            "1.0\n",
            "1.5\n",
            "2.0\n",
            "2.5\n",
            "3.0\n",
            "3.5\n",
            "4.0\n",
            "4.5\n",
            "5.0\n",
            "5.5\n"
          ]
        }
      ],
      "execution_count": 29,
      "metadata": {
        "ExecuteTime": {
          "end_time": "2018-04-27T06:34:43.906153Z",
          "start_time": "2018-04-27T06:34:43.901677Z"
        },
        "slideshow": {
          "slide_type": "fragment"
        }
      }
    },
    {
      "cell_type": "code",
      "source": [
        "# 列表内部的for循环\n",
        "r = [devidePlus(i, 2)  for i in range(10)]\n",
        "r "
      ],
      "outputs": [
        {
          "output_type": "execute_result",
          "execution_count": 121,
          "data": {
            "text/plain": [
              "[1.0, 1.5, 2.0, 2.5, 3.0, 3.5, 4.0, 4.5, 5.0, 5.5]"
            ]
          },
          "metadata": {}
        }
      ],
      "execution_count": 121,
      "metadata": {
        "slideshow": {
          "slide_type": "subslide"
        }
      }
    },
    {
      "cell_type": "markdown",
      "source": [
        "# map"
      ],
      "metadata": {
        "slideshow": {
          "slide_type": "slide"
        }
      }
    },
    {
      "cell_type": "code",
      "source": [
        "m1 = map(devidePlus, [4,3,2], [2, 1, 5])\n",
        "print(*m1)\n",
        "#print(*map(devidePlus, [4,3,2], [2, 1, 5]))\n",
        "# 注意： 将（4， 2)作为一个组合进行计算，将（3， 1）作为一个组合进行计算"
      ],
      "outputs": [
        {
          "output_type": "stream",
          "name": "stdout",
          "text": [
            "3.0 4.0 1.4\n"
          ]
        }
      ],
      "execution_count": 13,
      "metadata": {
        "ExecuteTime": {
          "end_time": "2019-06-07T07:59:39.584810Z",
          "start_time": "2019-06-07T07:59:39.579618Z"
        },
        "slideshow": {
          "slide_type": "fragment"
        }
      }
    },
    {
      "cell_type": "code",
      "source": [
        "m2 = map(lambda x, y: x + y, [1, 3, 5, 7, 9], [2, 4, 6, 8, 10])\n",
        "print(*m2)"
      ],
      "outputs": [
        {
          "output_type": "stream",
          "name": "stdout",
          "text": [
            "3 7 11 15 19\n"
          ]
        }
      ],
      "execution_count": 14,
      "metadata": {
        "ExecuteTime": {
          "end_time": "2019-06-07T08:00:33.540269Z",
          "start_time": "2019-06-07T08:00:33.535533Z"
        },
        "slideshow": {
          "slide_type": "fragment"
        }
      }
    },
    {
      "cell_type": "code",
      "source": [
        "m3 = map(lambda x, y, z: x + y - z, [1, 3, 5, 7, 9], [2, 4, 6, 8, 10], [3, 3, 2, 2, 5])\n",
        "print(*m3)"
      ],
      "outputs": [
        {
          "output_type": "stream",
          "name": "stdout",
          "text": [
            "0 4 9 13 14\n"
          ]
        }
      ],
      "execution_count": 15,
      "metadata": {
        "ExecuteTime": {
          "end_time": "2019-06-07T08:00:54.985591Z",
          "start_time": "2019-06-07T08:00:54.980836Z"
        },
        "slideshow": {
          "slide_type": "fragment"
        }
      }
    },
    {
      "cell_type": "markdown",
      "source": [
        "# if elif else"
      ],
      "metadata": {
        "slideshow": {
          "slide_type": "slide"
        }
      }
    },
    {
      "cell_type": "code",
      "source": [
        "j = 5\n",
        "if j%2 == 1:\n",
        "    print(r'余数是1')\n",
        "elif j%2 ==0:\n",
        "    print(r'余数是0')\n",
        "else:\n",
        "    print(r'余数既不是1也不是0')"
      ],
      "outputs": [
        {
          "output_type": "stream",
          "name": "stdout",
          "text": [
            "余数是1\n"
          ]
        }
      ],
      "execution_count": 37,
      "metadata": {
        "ExecuteTime": {
          "end_time": "2018-04-27T06:40:35.103035Z",
          "start_time": "2018-04-27T06:40:35.097057Z"
        },
        "slideshow": {
          "slide_type": "fragment"
        }
      }
    },
    {
      "cell_type": "code",
      "source": [
        "x = 5\n",
        "if x < 5:\n",
        "    y = -1\n",
        "    z = 5\n",
        "elif x > 5:\n",
        "    y = 1\n",
        "    z = 11\n",
        "else:\n",
        "    y = 0\n",
        "    z = 10\n",
        "print(x, y, z)"
      ],
      "outputs": [
        {
          "output_type": "stream",
          "name": "stdout",
          "text": [
            "5 0 10\n"
          ]
        }
      ],
      "execution_count": 16,
      "metadata": {
        "ExecuteTime": {
          "end_time": "2019-06-07T08:02:13.690924Z",
          "start_time": "2019-06-07T08:02:13.682806Z"
        },
        "slideshow": {
          "slide_type": "subslide"
        }
      }
    },
    {
      "cell_type": "markdown",
      "source": [
        "# while循环"
      ],
      "metadata": {
        "slideshow": {
          "slide_type": "slide"
        }
      }
    },
    {
      "cell_type": "code",
      "source": [
        "j = 0\n",
        "while j <10:\n",
        "    print(j)\n",
        "    j+=1 # avoid dead loop\n",
        "    "
      ],
      "outputs": [
        {
          "output_type": "stream",
          "name": "stdout",
          "text": [
            "0\n",
            "1\n",
            "2\n",
            "3\n",
            "4\n",
            "5\n",
            "6\n",
            "7\n",
            "8\n",
            "9\n"
          ]
        }
      ],
      "execution_count": 17,
      "metadata": {
        "ExecuteTime": {
          "end_time": "2019-06-07T08:03:12.473818Z",
          "start_time": "2019-06-07T08:03:12.469141Z"
        },
        "slideshow": {
          "slide_type": "fragment"
        }
      }
    },
    {
      "cell_type": "code",
      "source": [
        "j = 0\n",
        "while j <10:\n",
        "    if j%2 != 0: \n",
        "        print(j**2)\n",
        "    j+=1 # avoid dead loop "
      ],
      "outputs": [
        {
          "output_type": "stream",
          "name": "stdout",
          "text": [
            "1\n",
            "9\n",
            "25\n",
            "49\n",
            "81\n"
          ]
        }
      ],
      "execution_count": 40,
      "metadata": {
        "ExecuteTime": {
          "end_time": "2018-04-27T06:43:15.236750Z",
          "start_time": "2018-04-27T06:43:15.231493Z"
        },
        "slideshow": {
          "slide_type": "subslide"
        }
      }
    },
    {
      "cell_type": "code",
      "source": [
        "j = 0\n",
        "while j <50:\n",
        "    if j == 30:\n",
        "        break\n",
        "    if j%2 != 0: \n",
        "        print(j**2)\n",
        "    j+=1 # avoid dead loop\n",
        "    "
      ],
      "outputs": [
        {
          "output_type": "stream",
          "name": "stdout",
          "text": [
            "1\n",
            "9\n",
            "25\n",
            "49\n",
            "81\n",
            "121\n",
            "169\n",
            "225\n",
            "289\n",
            "361\n",
            "441\n",
            "529\n",
            "625\n",
            "729\n",
            "841\n"
          ]
        }
      ],
      "execution_count": 41,
      "metadata": {
        "ExecuteTime": {
          "end_time": "2018-04-27T06:44:41.340319Z",
          "start_time": "2018-04-27T06:44:41.333449Z"
        },
        "slideshow": {
          "slide_type": "fragment"
        }
      }
    },
    {
      "cell_type": "code",
      "source": [
        "a = 4\n",
        "while a: # 0, None, False\n",
        "    print(a) \n",
        "    a -= 1\n",
        "    if a < 0:\n",
        "        a = None # []"
      ],
      "outputs": [
        {
          "output_type": "stream",
          "name": "stdout",
          "text": [
            "4\n",
            "3\n",
            "2\n",
            "1\n"
          ]
        }
      ],
      "execution_count": 42,
      "metadata": {
        "ExecuteTime": {
          "end_time": "2018-04-27T06:46:42.488098Z",
          "start_time": "2018-04-27T06:46:42.482791Z"
        },
        "slideshow": {
          "slide_type": "subslide"
        }
      }
    },
    {
      "cell_type": "markdown",
      "source": [
        "# try except "
      ],
      "metadata": {
        "slideshow": {
          "slide_type": "slide"
        }
      }
    },
    {
      "cell_type": "code",
      "source": [
        "def devidePlus(m, n): # 结尾是冒号\n",
        "    return m/n+ 1 # 注意：空格\n",
        "\n",
        "\n",
        "for i in [2, 0, 5]:\n",
        "    try:\n",
        "        print(devidePlus(4, i))\n",
        "    except Exception as e:\n",
        "        print(e)\n",
        "        pass"
      ],
      "outputs": [
        {
          "output_type": "stream",
          "name": "stdout",
          "text": [
            "3.0\n",
            "division by zero\n",
            "1.8\n"
          ]
        }
      ],
      "execution_count": 43,
      "metadata": {
        "ExecuteTime": {
          "end_time": "2018-04-27T06:49:09.353417Z",
          "start_time": "2018-04-27T06:49:09.345444Z"
        },
        "slideshow": {
          "slide_type": "fragment"
        }
      }
    },
    {
      "cell_type": "code",
      "source": [
        "alist = [[1,1], [0, 0, 1]]\n",
        "for aa in alist:\n",
        "    try:\n",
        "        for a in aa:\n",
        "            print(10 / a)\n",
        "    except Exception as e:\n",
        "        print(e)\n",
        "        pass"
      ],
      "outputs": [
        {
          "output_type": "stream",
          "name": "stdout",
          "text": [
            "10.0\n",
            "10.0\n",
            "division by zero\n"
          ]
        }
      ],
      "execution_count": 47,
      "metadata": {
        "ExecuteTime": {
          "end_time": "2018-04-27T06:52:32.471043Z",
          "start_time": "2018-04-27T06:52:32.463396Z"
        },
        "slideshow": {
          "slide_type": "subslide"
        }
      }
    },
    {
      "cell_type": "code",
      "source": [
        "alist = [[1,1], [0, 0, 1]]\n",
        "for aa in alist:\n",
        "    for a in aa:\n",
        "        try:\n",
        "            print(10 / a)\n",
        "        except Exception as e:\n",
        "            print(e)\n",
        "            pass"
      ],
      "outputs": [
        {
          "output_type": "stream",
          "name": "stdout",
          "text": [
            "10.0\n",
            "10.0\n",
            "division by zero\n",
            "division by zero\n",
            "10.0\n"
          ]
        }
      ],
      "execution_count": 46,
      "metadata": {
        "ExecuteTime": {
          "end_time": "2018-04-27T06:52:20.430949Z",
          "start_time": "2018-04-27T06:52:20.423433Z"
        },
        "slideshow": {
          "slide_type": "subslide"
        }
      }
    },
    {
      "cell_type": "markdown",
      "source": [
        "# Write and Read data"
      ],
      "metadata": {
        "slideshow": {
          "slide_type": "slide"
        }
      }
    },
    {
      "cell_type": "code",
      "source": [
        "data =[[i, i**2, i**3] for i in range(10)] \n",
        "data"
      ],
      "outputs": [
        {
          "output_type": "execute_result",
          "execution_count": 18,
          "data": {
            "text/plain": [
              "[[0, 0, 0],\n",
              " [1, 1, 1],\n",
              " [2, 4, 8],\n",
              " [3, 9, 27],\n",
              " [4, 16, 64],\n",
              " [5, 25, 125],\n",
              " [6, 36, 216],\n",
              " [7, 49, 343],\n",
              " [8, 64, 512],\n",
              " [9, 81, 729]]"
            ]
          },
          "metadata": {}
        }
      ],
      "execution_count": 18,
      "metadata": {
        "ExecuteTime": {
          "end_time": "2019-06-07T08:08:44.004908Z",
          "start_time": "2019-06-07T08:08:43.998914Z"
        },
        "slideshow": {
          "slide_type": "subslide"
        }
      }
    },
    {
      "cell_type": "code",
      "source": [
        "for i in data:\n",
        "    print('\\t'.join(map(str, i)))  "
      ],
      "outputs": [
        {
          "output_type": "stream",
          "name": "stdout",
          "text": [
            "0\t0\t0\n",
            "1\t1\t1\n",
            "2\t4\t8\n",
            "3\t9\t27\n",
            "4\t16\t64\n",
            "5\t25\t125\n",
            "6\t36\t216\n",
            "7\t49\t343\n",
            "8\t64\t512\n",
            "9\t81\t729\n"
          ]
        }
      ],
      "execution_count": 19,
      "metadata": {
        "ExecuteTime": {
          "end_time": "2019-06-07T08:10:09.530627Z",
          "start_time": "2019-06-07T08:10:09.525533Z"
        },
        "slideshow": {
          "slide_type": "fragment"
        }
      }
    },
    {
      "cell_type": "code",
      "source": [
        "type(data)"
      ],
      "outputs": [
        {
          "output_type": "execute_result",
          "execution_count": 22,
          "data": {
            "text/plain": [
              "list"
            ]
          },
          "metadata": {}
        }
      ],
      "execution_count": 22,
      "metadata": {
        "ExecuteTime": {
          "end_time": "2019-06-07T08:10:25.632635Z",
          "start_time": "2019-06-07T08:10:25.628553Z"
        },
        "slideshow": {
          "slide_type": "subslide"
        }
      }
    },
    {
      "cell_type": "code",
      "source": [
        "len(data)"
      ],
      "outputs": [
        {
          "output_type": "execute_result",
          "execution_count": 23,
          "data": {
            "text/plain": [
              "10"
            ]
          },
          "metadata": {}
        }
      ],
      "execution_count": 23,
      "metadata": {
        "ExecuteTime": {
          "end_time": "2019-06-07T08:10:30.888581Z",
          "start_time": "2019-06-07T08:10:30.884612Z"
        },
        "slideshow": {
          "slide_type": "fragment"
        }
      }
    },
    {
      "cell_type": "code",
      "source": [
        "data[0]"
      ],
      "outputs": [
        {
          "output_type": "execute_result",
          "execution_count": 24,
          "data": {
            "text/plain": [
              "[0, 0, 0]"
            ]
          },
          "metadata": {}
        }
      ],
      "execution_count": 24,
      "metadata": {
        "ExecuteTime": {
          "end_time": "2019-06-07T08:10:38.659000Z",
          "start_time": "2019-06-07T08:10:38.654640Z"
        },
        "slideshow": {
          "slide_type": "fragment"
        }
      }
    },
    {
      "cell_type": "code",
      "source": [
        "help(f.write)  "
      ],
      "outputs": [
        {
          "output_type": "stream",
          "name": "stdout",
          "text": [
            "Help on built-in function write:\n",
            "\n",
            "write(...)\n",
            "    write(str) -> None.  Write string str to file.\n",
            "    \n",
            "    Note that due to buffering, flush() or close() may be needed before\n",
            "    the file on disk reflects the data written.\n",
            "\n"
          ]
        }
      ],
      "execution_count": 61,
      "metadata": {
        "ExecuteTime": {
          "end_time": "2017-05-12T20:12:21.983152",
          "start_time": "2017-05-12T20:12:21.979626"
        },
        "slideshow": {
          "slide_type": "subslide"
        }
      }
    },
    {
      "cell_type": "code",
      "source": [
        "# 保存数据\n",
        "data =[[i, i**2, i**3] for i in range(10000)] \n",
        "\n",
        "f = open(\"../data/data_write_to_file1.txt\", \"w\")\n",
        "for i in data:\n",
        "    f.write('\\t'.join(map(str,i)) + '\\n')\n",
        "f.close()\n"
      ],
      "outputs": [],
      "execution_count": 29,
      "metadata": {
        "ExecuteTime": {
          "end_time": "2019-06-07T08:16:19.804980Z",
          "start_time": "2019-06-07T08:16:19.770857Z"
        },
        "slideshow": {
          "slide_type": "subslide"
        }
      }
    },
    {
      "cell_type": "code",
      "source": [
        "with open('../data/data_write_to_file.txt','r') as f:\n",
        "    data = f.readlines()\n",
        "data[:5]"
      ],
      "outputs": [
        {
          "output_type": "execute_result",
          "execution_count": 26,
          "data": {
            "text/plain": [
              "['0\\t0\\t0\\n', '1\\t1\\t1\\n', '2\\t4\\t8\\n', '3\\t9\\t27\\n', '4\\t16\\t64\\n']"
            ]
          },
          "metadata": {}
        }
      ],
      "execution_count": 26,
      "metadata": {
        "ExecuteTime": {
          "end_time": "2019-06-07T08:13:15.714602Z",
          "start_time": "2019-06-07T08:13:15.704100Z"
        },
        "slideshow": {
          "slide_type": "subslide"
        }
      }
    },
    {
      "cell_type": "code",
      "source": [
        "with open('../data/data_write_to_file.txt','r') as f:\n",
        "    data = f.readlines(1000) #bytes \n",
        "len(data) "
      ],
      "outputs": [
        {
          "output_type": "execute_result",
          "execution_count": 176,
          "data": {
            "text/plain": [
              "459"
            ]
          },
          "metadata": {}
        }
      ],
      "execution_count": 176,
      "metadata": {
        "slideshow": {
          "slide_type": "fragment"
        }
      }
    },
    {
      "cell_type": "code",
      "source": [
        "with open('../data/data_write_to_file.txt','r') as f:\n",
        "    print(f.readline())"
      ],
      "outputs": [
        {
          "output_type": "stream",
          "name": "stdout",
          "text": [
            "0\t0\t0\n",
            "\n"
          ]
        }
      ],
      "execution_count": 30,
      "metadata": {
        "ExecuteTime": {
          "end_time": "2019-06-07T08:17:19.794170Z",
          "start_time": "2019-06-07T08:17:19.790131Z"
        },
        "slideshow": {
          "slide_type": "fragment"
        }
      }
    },
    {
      "cell_type": "code",
      "source": [
        "f = [1, 2, 3, 4, 5]\n",
        "for k, i in enumerate(f):\n",
        "    print(k, i)"
      ],
      "outputs": [
        {
          "output_type": "stream",
          "name": "stdout",
          "text": [
            "0 1\n",
            "1 2\n",
            "2 3\n",
            "3 4\n",
            "4 5\n"
          ]
        }
      ],
      "execution_count": 31,
      "metadata": {
        "ExecuteTime": {
          "end_time": "2019-06-07T08:18:59.686943Z",
          "start_time": "2019-06-07T08:18:59.682361Z"
        },
        "slideshow": {
          "slide_type": "subslide"
        }
      }
    },
    {
      "cell_type": "code",
      "source": [
        "# with open('../data/data_write_to_file.txt','r') as f:\n",
        "#     for i in f:\n",
        "#         print(i)"
      ],
      "outputs": [],
      "execution_count": 1,
      "metadata": {
        "ExecuteTime": {
          "end_time": "2018-04-27T07:03:20.989349Z",
          "start_time": "2018-04-27T07:03:20.044088Z"
        },
        "slideshow": {
          "slide_type": "subslide"
        }
      }
    },
    {
      "cell_type": "code",
      "source": [
        "with open('../data/data_write_to_file.txt','r') as f:\n",
        "    for k, i in enumerate(f):\n",
        "        if k%2000 == 0:\n",
        "            print(i)"
      ],
      "outputs": [
        {
          "output_type": "stream",
          "name": "stdout",
          "text": [
            "0\t0\t0\n",
            "\n",
            "2000\t4000000\t8000000000\n",
            "\n",
            "4000\t16000000\t64000000000\n",
            "\n",
            "6000\t36000000\t216000000000\n",
            "\n",
            "8000\t64000000\t512000000000\n",
            "\n"
          ]
        }
      ],
      "execution_count": 32,
      "metadata": {
        "ExecuteTime": {
          "end_time": "2019-06-07T08:21:43.923393Z",
          "start_time": "2019-06-07T08:21:43.912523Z"
        },
        "slideshow": {
          "slide_type": "subslide"
        }
      }
    },
    {
      "cell_type": "code",
      "source": [
        "data = []\n",
        "line = '0\\t0\\t0\\n'\n",
        "line = line.replace('\\n', '')\n",
        "line = line.split('\\t')\n",
        "line = [int(i) for i in line] # convert str to int\n",
        "data.append(line) \n",
        "data"
      ],
      "outputs": [
        {
          "output_type": "execute_result",
          "execution_count": 33,
          "data": {
            "text/plain": [
              "[[0, 0, 0]]"
            ]
          },
          "metadata": {}
        }
      ],
      "execution_count": 33,
      "metadata": {
        "ExecuteTime": {
          "end_time": "2019-06-07T08:25:49.299881Z",
          "start_time": "2019-06-07T08:25:49.290974Z"
        },
        "slideshow": {
          "slide_type": "subslide"
        }
      }
    },
    {
      "cell_type": "code",
      "source": [
        "# 读取数据\n",
        "data = []\n",
        "with open('../data/data_write_to_file1.txt','r') as f:\n",
        "    for line in f:\n",
        "        line = line.replace('\\n', '').split('\\t')\n",
        "        line = [int(i) for i in line]\n",
        "        data.append(line)\n",
        "data"
      ],
      "outputs": [
        {
          "output_type": "execute_result",
          "execution_count": 35,
          "data": {
            "text/plain": [
              "[[0, 0, 0],\n",
              " [1, 1, 1],\n",
              " [2, 4, 8],\n",
              " [3, 9, 27],\n",
              " [4, 16, 64],\n",
              " [5, 25, 125],\n",
              " [6, 36, 216],\n",
              " [7, 49, 343],\n",
              " [8, 64, 512],\n",
              " [9, 81, 729],\n",
              " [10, 100, 1000],\n",
              " [11, 121, 1331],\n",
              " [12, 144, 1728],\n",
              " [13, 169, 2197],\n",
              " [14, 196, 2744],\n",
              " [15, 225, 3375],\n",
              " [16, 256, 4096],\n",
              " [17, 289, 4913],\n",
              " [18, 324, 5832],\n",
              " [19, 361, 6859],\n",
              " [20, 400, 8000],\n",
              " [21, 441, 9261],\n",
              " [22, 484, 10648],\n",
              " [23, 529, 12167],\n",
              " [24, 576, 13824],\n",
              " [25, 625, 15625],\n",
              " [26, 676, 17576],\n",
              " [27, 729, 19683],\n",
              " [28, 784, 21952],\n",
              " [29, 841, 24389],\n",
              " [30, 900, 27000],\n",
              " [31, 961, 29791],\n",
              " [32, 1024, 32768],\n",
              " [33, 1089, 35937],\n",
              " [34, 1156, 39304],\n",
              " [35, 1225, 42875],\n",
              " [36, 1296, 46656],\n",
              " [37, 1369, 50653],\n",
              " [38, 1444, 54872],\n",
              " [39, 1521, 59319],\n",
              " [40, 1600, 64000],\n",
              " [41, 1681, 68921],\n",
              " [42, 1764, 74088],\n",
              " [43, 1849, 79507],\n",
              " [44, 1936, 85184],\n",
              " [45, 2025, 91125],\n",
              " [46, 2116, 97336],\n",
              " [47, 2209, 103823],\n",
              " [48, 2304, 110592],\n",
              " [49, 2401, 117649],\n",
              " [50, 2500, 125000],\n",
              " [51, 2601, 132651],\n",
              " [52, 2704, 140608],\n",
              " [53, 2809, 148877],\n",
              " [54, 2916, 157464],\n",
              " [55, 3025, 166375],\n",
              " [56, 3136, 175616],\n",
              " [57, 3249, 185193],\n",
              " [58, 3364, 195112],\n",
              " [59, 3481, 205379],\n",
              " [60, 3600, 216000],\n",
              " [61, 3721, 226981],\n",
              " [62, 3844, 238328],\n",
              " [63, 3969, 250047],\n",
              " [64, 4096, 262144],\n",
              " [65, 4225, 274625],\n",
              " [66, 4356, 287496],\n",
              " [67, 4489, 300763],\n",
              " [68, 4624, 314432],\n",
              " [69, 4761, 328509],\n",
              " [70, 4900, 343000],\n",
              " [71, 5041, 357911],\n",
              " [72, 5184, 373248],\n",
              " [73, 5329, 389017],\n",
              " [74, 5476, 405224],\n",
              " [75, 5625, 421875],\n",
              " [76, 5776, 438976],\n",
              " [77, 5929, 456533],\n",
              " [78, 6084, 474552],\n",
              " [79, 6241, 493039],\n",
              " [80, 6400, 512000],\n",
              " [81, 6561, 531441],\n",
              " [82, 6724, 551368],\n",
              " [83, 6889, 571787],\n",
              " [84, 7056, 592704],\n",
              " [85, 7225, 614125],\n",
              " [86, 7396, 636056],\n",
              " [87, 7569, 658503],\n",
              " [88, 7744, 681472],\n",
              " [89, 7921, 704969],\n",
              " [90, 8100, 729000],\n",
              " [91, 8281, 753571],\n",
              " [92, 8464, 778688],\n",
              " [93, 8649, 804357],\n",
              " [94, 8836, 830584],\n",
              " [95, 9025, 857375],\n",
              " [96, 9216, 884736],\n",
              " [97, 9409, 912673],\n",
              " [98, 9604, 941192],\n",
              " [99, 9801, 970299],\n",
              " [100, 10000, 1000000],\n",
              " [101, 10201, 1030301],\n",
              " [102, 10404, 1061208],\n",
              " [103, 10609, 1092727],\n",
              " [104, 10816, 1124864],\n",
              " [105, 11025, 1157625],\n",
              " [106, 11236, 1191016],\n",
              " [107, 11449, 1225043],\n",
              " [108, 11664, 1259712],\n",
              " [109, 11881, 1295029],\n",
              " [110, 12100, 1331000],\n",
              " [111, 12321, 1367631],\n",
              " [112, 12544, 1404928],\n",
              " [113, 12769, 1442897],\n",
              " [114, 12996, 1481544],\n",
              " [115, 13225, 1520875],\n",
              " [116, 13456, 1560896],\n",
              " [117, 13689, 1601613],\n",
              " [118, 13924, 1643032],\n",
              " [119, 14161, 1685159],\n",
              " [120, 14400, 1728000],\n",
              " [121, 14641, 1771561],\n",
              " [122, 14884, 1815848],\n",
              " [123, 15129, 1860867],\n",
              " [124, 15376, 1906624],\n",
              " [125, 15625, 1953125],\n",
              " [126, 15876, 2000376],\n",
              " [127, 16129, 2048383],\n",
              " [128, 16384, 2097152],\n",
              " [129, 16641, 2146689],\n",
              " [130, 16900, 2197000],\n",
              " [131, 17161, 2248091],\n",
              " [132, 17424, 2299968],\n",
              " [133, 17689, 2352637],\n",
              " [134, 17956, 2406104],\n",
              " [135, 18225, 2460375],\n",
              " [136, 18496, 2515456],\n",
              " [137, 18769, 2571353],\n",
              " [138, 19044, 2628072],\n",
              " [139, 19321, 2685619],\n",
              " [140, 19600, 2744000],\n",
              " [141, 19881, 2803221],\n",
              " [142, 20164, 2863288],\n",
              " [143, 20449, 2924207],\n",
              " [144, 20736, 2985984],\n",
              " [145, 21025, 3048625],\n",
              " [146, 21316, 3112136],\n",
              " [147, 21609, 3176523],\n",
              " [148, 21904, 3241792],\n",
              " [149, 22201, 3307949],\n",
              " [150, 22500, 3375000],\n",
              " [151, 22801, 3442951],\n",
              " [152, 23104, 3511808],\n",
              " [153, 23409, 3581577],\n",
              " [154, 23716, 3652264],\n",
              " [155, 24025, 3723875],\n",
              " [156, 24336, 3796416],\n",
              " [157, 24649, 3869893],\n",
              " [158, 24964, 3944312],\n",
              " [159, 25281, 4019679],\n",
              " [160, 25600, 4096000],\n",
              " [161, 25921, 4173281],\n",
              " [162, 26244, 4251528],\n",
              " [163, 26569, 4330747],\n",
              " [164, 26896, 4410944],\n",
              " [165, 27225, 4492125],\n",
              " [166, 27556, 4574296],\n",
              " [167, 27889, 4657463],\n",
              " [168, 28224, 4741632],\n",
              " [169, 28561, 4826809],\n",
              " [170, 28900, 4913000],\n",
              " [171, 29241, 5000211],\n",
              " [172, 29584, 5088448],\n",
              " [173, 29929, 5177717],\n",
              " [174, 30276, 5268024],\n",
              " [175, 30625, 5359375],\n",
              " [176, 30976, 5451776],\n",
              " [177, 31329, 5545233],\n",
              " [178, 31684, 5639752],\n",
              " [179, 32041, 5735339],\n",
              " [180, 32400, 5832000],\n",
              " [181, 32761, 5929741],\n",
              " [182, 33124, 6028568],\n",
              " [183, 33489, 6128487],\n",
              " [184, 33856, 6229504],\n",
              " [185, 34225, 6331625],\n",
              " [186, 34596, 6434856],\n",
              " [187, 34969, 6539203],\n",
              " [188, 35344, 6644672],\n",
              " [189, 35721, 6751269],\n",
              " [190, 36100, 6859000],\n",
              " [191, 36481, 6967871],\n",
              " [192, 36864, 7077888],\n",
              " [193, 37249, 7189057],\n",
              " [194, 37636, 7301384],\n",
              " [195, 38025, 7414875],\n",
              " [196, 38416, 7529536],\n",
              " [197, 38809, 7645373],\n",
              " [198, 39204, 7762392],\n",
              " [199, 39601, 7880599],\n",
              " [200, 40000, 8000000],\n",
              " [201, 40401, 8120601],\n",
              " [202, 40804, 8242408],\n",
              " [203, 41209, 8365427],\n",
              " [204, 41616, 8489664],\n",
              " [205, 42025, 8615125],\n",
              " [206, 42436, 8741816],\n",
              " [207, 42849, 8869743],\n",
              " [208, 43264, 8998912],\n",
              " [209, 43681, 9129329],\n",
              " [210, 44100, 9261000],\n",
              " [211, 44521, 9393931],\n",
              " [212, 44944, 9528128],\n",
              " [213, 45369, 9663597],\n",
              " [214, 45796, 9800344],\n",
              " [215, 46225, 9938375],\n",
              " [216, 46656, 10077696],\n",
              " [217, 47089, 10218313],\n",
              " [218, 47524, 10360232],\n",
              " [219, 47961, 10503459],\n",
              " [220, 48400, 10648000],\n",
              " [221, 48841, 10793861],\n",
              " [222, 49284, 10941048],\n",
              " [223, 49729, 11089567],\n",
              " [224, 50176, 11239424],\n",
              " [225, 50625, 11390625],\n",
              " [226, 51076, 11543176],\n",
              " [227, 51529, 11697083],\n",
              " [228, 51984, 11852352],\n",
              " [229, 52441, 12008989],\n",
              " [230, 52900, 12167000],\n",
              " [231, 53361, 12326391],\n",
              " [232, 53824, 12487168],\n",
              " [233, 54289, 12649337],\n",
              " [234, 54756, 12812904],\n",
              " [235, 55225, 12977875],\n",
              " [236, 55696, 13144256],\n",
              " [237, 56169, 13312053],\n",
              " [238, 56644, 13481272],\n",
              " [239, 57121, 13651919],\n",
              " [240, 57600, 13824000],\n",
              " [241, 58081, 13997521],\n",
              " [242, 58564, 14172488],\n",
              " [243, 59049, 14348907],\n",
              " [244, 59536, 14526784],\n",
              " [245, 60025, 14706125],\n",
              " [246, 60516, 14886936],\n",
              " [247, 61009, 15069223],\n",
              " [248, 61504, 15252992],\n",
              " [249, 62001, 15438249],\n",
              " [250, 62500, 15625000],\n",
              " [251, 63001, 15813251],\n",
              " [252, 63504, 16003008],\n",
              " [253, 64009, 16194277],\n",
              " [254, 64516, 16387064],\n",
              " [255, 65025, 16581375],\n",
              " [256, 65536, 16777216],\n",
              " [257, 66049, 16974593],\n",
              " [258, 66564, 17173512],\n",
              " [259, 67081, 17373979],\n",
              " [260, 67600, 17576000],\n",
              " [261, 68121, 17779581],\n",
              " [262, 68644, 17984728],\n",
              " [263, 69169, 18191447],\n",
              " [264, 69696, 18399744],\n",
              " [265, 70225, 18609625],\n",
              " [266, 70756, 18821096],\n",
              " [267, 71289, 19034163],\n",
              " [268, 71824, 19248832],\n",
              " [269, 72361, 19465109],\n",
              " [270, 72900, 19683000],\n",
              " [271, 73441, 19902511],\n",
              " [272, 73984, 20123648],\n",
              " [273, 74529, 20346417],\n",
              " [274, 75076, 20570824],\n",
              " [275, 75625, 20796875],\n",
              " [276, 76176, 21024576],\n",
              " [277, 76729, 21253933],\n",
              " [278, 77284, 21484952],\n",
              " [279, 77841, 21717639],\n",
              " [280, 78400, 21952000],\n",
              " [281, 78961, 22188041],\n",
              " [282, 79524, 22425768],\n",
              " [283, 80089, 22665187],\n",
              " [284, 80656, 22906304],\n",
              " [285, 81225, 23149125],\n",
              " [286, 81796, 23393656],\n",
              " [287, 82369, 23639903],\n",
              " [288, 82944, 23887872],\n",
              " [289, 83521, 24137569],\n",
              " [290, 84100, 24389000],\n",
              " [291, 84681, 24642171],\n",
              " [292, 85264, 24897088],\n",
              " [293, 85849, 25153757],\n",
              " [294, 86436, 25412184],\n",
              " [295, 87025, 25672375],\n",
              " [296, 87616, 25934336],\n",
              " [297, 88209, 26198073],\n",
              " [298, 88804, 26463592],\n",
              " [299, 89401, 26730899],\n",
              " [300, 90000, 27000000],\n",
              " [301, 90601, 27270901],\n",
              " [302, 91204, 27543608],\n",
              " [303, 91809, 27818127],\n",
              " [304, 92416, 28094464],\n",
              " [305, 93025, 28372625],\n",
              " [306, 93636, 28652616],\n",
              " [307, 94249, 28934443],\n",
              " [308, 94864, 29218112],\n",
              " [309, 95481, 29503629],\n",
              " [310, 96100, 29791000],\n",
              " [311, 96721, 30080231],\n",
              " [312, 97344, 30371328],\n",
              " [313, 97969, 30664297],\n",
              " [314, 98596, 30959144],\n",
              " [315, 99225, 31255875],\n",
              " [316, 99856, 31554496],\n",
              " [317, 100489, 31855013],\n",
              " [318, 101124, 32157432],\n",
              " [319, 101761, 32461759],\n",
              " [320, 102400, 32768000],\n",
              " [321, 103041, 33076161],\n",
              " [322, 103684, 33386248],\n",
              " [323, 104329, 33698267],\n",
              " [324, 104976, 34012224],\n",
              " [325, 105625, 34328125],\n",
              " [326, 106276, 34645976],\n",
              " [327, 106929, 34965783],\n",
              " [328, 107584, 35287552],\n",
              " [329, 108241, 35611289],\n",
              " [330, 108900, 35937000],\n",
              " [331, 109561, 36264691],\n",
              " [332, 110224, 36594368],\n",
              " [333, 110889, 36926037],\n",
              " [334, 111556, 37259704],\n",
              " [335, 112225, 37595375],\n",
              " [336, 112896, 37933056],\n",
              " [337, 113569, 38272753],\n",
              " [338, 114244, 38614472],\n",
              " [339, 114921, 38958219],\n",
              " [340, 115600, 39304000],\n",
              " [341, 116281, 39651821],\n",
              " [342, 116964, 40001688],\n",
              " [343, 117649, 40353607],\n",
              " [344, 118336, 40707584],\n",
              " [345, 119025, 41063625],\n",
              " [346, 119716, 41421736],\n",
              " [347, 120409, 41781923],\n",
              " [348, 121104, 42144192],\n",
              " [349, 121801, 42508549],\n",
              " [350, 122500, 42875000],\n",
              " [351, 123201, 43243551],\n",
              " [352, 123904, 43614208],\n",
              " [353, 124609, 43986977],\n",
              " [354, 125316, 44361864],\n",
              " [355, 126025, 44738875],\n",
              " [356, 126736, 45118016],\n",
              " [357, 127449, 45499293],\n",
              " [358, 128164, 45882712],\n",
              " [359, 128881, 46268279],\n",
              " [360, 129600, 46656000],\n",
              " [361, 130321, 47045881],\n",
              " [362, 131044, 47437928],\n",
              " [363, 131769, 47832147],\n",
              " [364, 132496, 48228544],\n",
              " [365, 133225, 48627125],\n",
              " [366, 133956, 49027896],\n",
              " [367, 134689, 49430863],\n",
              " [368, 135424, 49836032],\n",
              " [369, 136161, 50243409],\n",
              " [370, 136900, 50653000],\n",
              " [371, 137641, 51064811],\n",
              " [372, 138384, 51478848],\n",
              " [373, 139129, 51895117],\n",
              " [374, 139876, 52313624],\n",
              " [375, 140625, 52734375],\n",
              " [376, 141376, 53157376],\n",
              " [377, 142129, 53582633],\n",
              " [378, 142884, 54010152],\n",
              " [379, 143641, 54439939],\n",
              " [380, 144400, 54872000],\n",
              " [381, 145161, 55306341],\n",
              " [382, 145924, 55742968],\n",
              " [383, 146689, 56181887],\n",
              " [384, 147456, 56623104],\n",
              " [385, 148225, 57066625],\n",
              " [386, 148996, 57512456],\n",
              " [387, 149769, 57960603],\n",
              " [388, 150544, 58411072],\n",
              " [389, 151321, 58863869],\n",
              " [390, 152100, 59319000],\n",
              " [391, 152881, 59776471],\n",
              " [392, 153664, 60236288],\n",
              " [393, 154449, 60698457],\n",
              " [394, 155236, 61162984],\n",
              " [395, 156025, 61629875],\n",
              " [396, 156816, 62099136],\n",
              " [397, 157609, 62570773],\n",
              " [398, 158404, 63044792],\n",
              " [399, 159201, 63521199],\n",
              " [400, 160000, 64000000],\n",
              " [401, 160801, 64481201],\n",
              " [402, 161604, 64964808],\n",
              " [403, 162409, 65450827],\n",
              " [404, 163216, 65939264],\n",
              " [405, 164025, 66430125],\n",
              " [406, 164836, 66923416],\n",
              " [407, 165649, 67419143],\n",
              " [408, 166464, 67917312],\n",
              " [409, 167281, 68417929],\n",
              " [410, 168100, 68921000],\n",
              " [411, 168921, 69426531],\n",
              " [412, 169744, 69934528],\n",
              " [413, 170569, 70444997],\n",
              " [414, 171396, 70957944],\n",
              " [415, 172225, 71473375],\n",
              " [416, 173056, 71991296],\n",
              " [417, 173889, 72511713],\n",
              " [418, 174724, 73034632],\n",
              " [419, 175561, 73560059],\n",
              " [420, 176400, 74088000],\n",
              " [421, 177241, 74618461],\n",
              " [422, 178084, 75151448],\n",
              " [423, 178929, 75686967],\n",
              " [424, 179776, 76225024],\n",
              " [425, 180625, 76765625],\n",
              " [426, 181476, 77308776],\n",
              " [427, 182329, 77854483],\n",
              " [428, 183184, 78402752],\n",
              " [429, 184041, 78953589],\n",
              " [430, 184900, 79507000],\n",
              " [431, 185761, 80062991],\n",
              " [432, 186624, 80621568],\n",
              " [433, 187489, 81182737],\n",
              " [434, 188356, 81746504],\n",
              " [435, 189225, 82312875],\n",
              " [436, 190096, 82881856],\n",
              " [437, 190969, 83453453],\n",
              " [438, 191844, 84027672],\n",
              " [439, 192721, 84604519],\n",
              " [440, 193600, 85184000],\n",
              " [441, 194481, 85766121],\n",
              " [442, 195364, 86350888],\n",
              " [443, 196249, 86938307],\n",
              " [444, 197136, 87528384],\n",
              " [445, 198025, 88121125],\n",
              " [446, 198916, 88716536],\n",
              " [447, 199809, 89314623],\n",
              " [448, 200704, 89915392],\n",
              " [449, 201601, 90518849],\n",
              " [450, 202500, 91125000],\n",
              " [451, 203401, 91733851],\n",
              " [452, 204304, 92345408],\n",
              " [453, 205209, 92959677],\n",
              " [454, 206116, 93576664],\n",
              " [455, 207025, 94196375],\n",
              " [456, 207936, 94818816],\n",
              " [457, 208849, 95443993],\n",
              " [458, 209764, 96071912],\n",
              " [459, 210681, 96702579],\n",
              " [460, 211600, 97336000],\n",
              " [461, 212521, 97972181],\n",
              " [462, 213444, 98611128],\n",
              " [463, 214369, 99252847],\n",
              " [464, 215296, 99897344],\n",
              " [465, 216225, 100544625],\n",
              " [466, 217156, 101194696],\n",
              " [467, 218089, 101847563],\n",
              " [468, 219024, 102503232],\n",
              " [469, 219961, 103161709],\n",
              " [470, 220900, 103823000],\n",
              " [471, 221841, 104487111],\n",
              " [472, 222784, 105154048],\n",
              " [473, 223729, 105823817],\n",
              " [474, 224676, 106496424],\n",
              " [475, 225625, 107171875],\n",
              " [476, 226576, 107850176],\n",
              " [477, 227529, 108531333],\n",
              " [478, 228484, 109215352],\n",
              " [479, 229441, 109902239],\n",
              " [480, 230400, 110592000],\n",
              " [481, 231361, 111284641],\n",
              " [482, 232324, 111980168],\n",
              " [483, 233289, 112678587],\n",
              " [484, 234256, 113379904],\n",
              " [485, 235225, 114084125],\n",
              " [486, 236196, 114791256],\n",
              " [487, 237169, 115501303],\n",
              " [488, 238144, 116214272],\n",
              " [489, 239121, 116930169],\n",
              " [490, 240100, 117649000],\n",
              " [491, 241081, 118370771],\n",
              " [492, 242064, 119095488],\n",
              " [493, 243049, 119823157],\n",
              " [494, 244036, 120553784],\n",
              " [495, 245025, 121287375],\n",
              " [496, 246016, 122023936],\n",
              " [497, 247009, 122763473],\n",
              " [498, 248004, 123505992],\n",
              " [499, 249001, 124251499],\n",
              " [500, 250000, 125000000],\n",
              " [501, 251001, 125751501],\n",
              " [502, 252004, 126506008],\n",
              " [503, 253009, 127263527],\n",
              " [504, 254016, 128024064],\n",
              " [505, 255025, 128787625],\n",
              " [506, 256036, 129554216],\n",
              " [507, 257049, 130323843],\n",
              " [508, 258064, 131096512],\n",
              " [509, 259081, 131872229],\n",
              " [510, 260100, 132651000],\n",
              " [511, 261121, 133432831],\n",
              " [512, 262144, 134217728],\n",
              " [513, 263169, 135005697],\n",
              " [514, 264196, 135796744],\n",
              " [515, 265225, 136590875],\n",
              " [516, 266256, 137388096],\n",
              " [517, 267289, 138188413],\n",
              " [518, 268324, 138991832],\n",
              " [519, 269361, 139798359],\n",
              " [520, 270400, 140608000],\n",
              " [521, 271441, 141420761],\n",
              " [522, 272484, 142236648],\n",
              " [523, 273529, 143055667],\n",
              " [524, 274576, 143877824],\n",
              " [525, 275625, 144703125],\n",
              " [526, 276676, 145531576],\n",
              " [527, 277729, 146363183],\n",
              " [528, 278784, 147197952],\n",
              " [529, 279841, 148035889],\n",
              " [530, 280900, 148877000],\n",
              " [531, 281961, 149721291],\n",
              " [532, 283024, 150568768],\n",
              " [533, 284089, 151419437],\n",
              " [534, 285156, 152273304],\n",
              " [535, 286225, 153130375],\n",
              " [536, 287296, 153990656],\n",
              " [537, 288369, 154854153],\n",
              " [538, 289444, 155720872],\n",
              " [539, 290521, 156590819],\n",
              " [540, 291600, 157464000],\n",
              " [541, 292681, 158340421],\n",
              " [542, 293764, 159220088],\n",
              " [543, 294849, 160103007],\n",
              " [544, 295936, 160989184],\n",
              " [545, 297025, 161878625],\n",
              " [546, 298116, 162771336],\n",
              " [547, 299209, 163667323],\n",
              " [548, 300304, 164566592],\n",
              " [549, 301401, 165469149],\n",
              " [550, 302500, 166375000],\n",
              " [551, 303601, 167284151],\n",
              " [552, 304704, 168196608],\n",
              " [553, 305809, 169112377],\n",
              " [554, 306916, 170031464],\n",
              " [555, 308025, 170953875],\n",
              " [556, 309136, 171879616],\n",
              " [557, 310249, 172808693],\n",
              " [558, 311364, 173741112],\n",
              " [559, 312481, 174676879],\n",
              " [560, 313600, 175616000],\n",
              " [561, 314721, 176558481],\n",
              " [562, 315844, 177504328],\n",
              " [563, 316969, 178453547],\n",
              " [564, 318096, 179406144],\n",
              " [565, 319225, 180362125],\n",
              " [566, 320356, 181321496],\n",
              " [567, 321489, 182284263],\n",
              " [568, 322624, 183250432],\n",
              " [569, 323761, 184220009],\n",
              " [570, 324900, 185193000],\n",
              " [571, 326041, 186169411],\n",
              " [572, 327184, 187149248],\n",
              " [573, 328329, 188132517],\n",
              " [574, 329476, 189119224],\n",
              " [575, 330625, 190109375],\n",
              " [576, 331776, 191102976],\n",
              " [577, 332929, 192100033],\n",
              " [578, 334084, 193100552],\n",
              " [579, 335241, 194104539],\n",
              " [580, 336400, 195112000],\n",
              " [581, 337561, 196122941],\n",
              " [582, 338724, 197137368],\n",
              " [583, 339889, 198155287],\n",
              " [584, 341056, 199176704],\n",
              " [585, 342225, 200201625],\n",
              " [586, 343396, 201230056],\n",
              " [587, 344569, 202262003],\n",
              " [588, 345744, 203297472],\n",
              " [589, 346921, 204336469],\n",
              " [590, 348100, 205379000],\n",
              " [591, 349281, 206425071],\n",
              " [592, 350464, 207474688],\n",
              " [593, 351649, 208527857],\n",
              " [594, 352836, 209584584],\n",
              " [595, 354025, 210644875],\n",
              " [596, 355216, 211708736],\n",
              " [597, 356409, 212776173],\n",
              " [598, 357604, 213847192],\n",
              " [599, 358801, 214921799],\n",
              " [600, 360000, 216000000],\n",
              " [601, 361201, 217081801],\n",
              " [602, 362404, 218167208],\n",
              " [603, 363609, 219256227],\n",
              " [604, 364816, 220348864],\n",
              " [605, 366025, 221445125],\n",
              " [606, 367236, 222545016],\n",
              " [607, 368449, 223648543],\n",
              " [608, 369664, 224755712],\n",
              " [609, 370881, 225866529],\n",
              " [610, 372100, 226981000],\n",
              " [611, 373321, 228099131],\n",
              " [612, 374544, 229220928],\n",
              " [613, 375769, 230346397],\n",
              " [614, 376996, 231475544],\n",
              " [615, 378225, 232608375],\n",
              " [616, 379456, 233744896],\n",
              " [617, 380689, 234885113],\n",
              " [618, 381924, 236029032],\n",
              " [619, 383161, 237176659],\n",
              " [620, 384400, 238328000],\n",
              " [621, 385641, 239483061],\n",
              " [622, 386884, 240641848],\n",
              " [623, 388129, 241804367],\n",
              " [624, 389376, 242970624],\n",
              " [625, 390625, 244140625],\n",
              " [626, 391876, 245314376],\n",
              " [627, 393129, 246491883],\n",
              " [628, 394384, 247673152],\n",
              " [629, 395641, 248858189],\n",
              " [630, 396900, 250047000],\n",
              " [631, 398161, 251239591],\n",
              " [632, 399424, 252435968],\n",
              " [633, 400689, 253636137],\n",
              " [634, 401956, 254840104],\n",
              " [635, 403225, 256047875],\n",
              " [636, 404496, 257259456],\n",
              " [637, 405769, 258474853],\n",
              " [638, 407044, 259694072],\n",
              " [639, 408321, 260917119],\n",
              " [640, 409600, 262144000],\n",
              " [641, 410881, 263374721],\n",
              " [642, 412164, 264609288],\n",
              " [643, 413449, 265847707],\n",
              " [644, 414736, 267089984],\n",
              " [645, 416025, 268336125],\n",
              " [646, 417316, 269586136],\n",
              " [647, 418609, 270840023],\n",
              " [648, 419904, 272097792],\n",
              " [649, 421201, 273359449],\n",
              " [650, 422500, 274625000],\n",
              " [651, 423801, 275894451],\n",
              " [652, 425104, 277167808],\n",
              " [653, 426409, 278445077],\n",
              " [654, 427716, 279726264],\n",
              " [655, 429025, 281011375],\n",
              " [656, 430336, 282300416],\n",
              " [657, 431649, 283593393],\n",
              " [658, 432964, 284890312],\n",
              " [659, 434281, 286191179],\n",
              " [660, 435600, 287496000],\n",
              " [661, 436921, 288804781],\n",
              " [662, 438244, 290117528],\n",
              " [663, 439569, 291434247],\n",
              " [664, 440896, 292754944],\n",
              " [665, 442225, 294079625],\n",
              " [666, 443556, 295408296],\n",
              " [667, 444889, 296740963],\n",
              " [668, 446224, 298077632],\n",
              " [669, 447561, 299418309],\n",
              " [670, 448900, 300763000],\n",
              " [671, 450241, 302111711],\n",
              " [672, 451584, 303464448],\n",
              " [673, 452929, 304821217],\n",
              " [674, 454276, 306182024],\n",
              " [675, 455625, 307546875],\n",
              " [676, 456976, 308915776],\n",
              " [677, 458329, 310288733],\n",
              " [678, 459684, 311665752],\n",
              " [679, 461041, 313046839],\n",
              " [680, 462400, 314432000],\n",
              " [681, 463761, 315821241],\n",
              " [682, 465124, 317214568],\n",
              " [683, 466489, 318611987],\n",
              " [684, 467856, 320013504],\n",
              " [685, 469225, 321419125],\n",
              " [686, 470596, 322828856],\n",
              " [687, 471969, 324242703],\n",
              " [688, 473344, 325660672],\n",
              " [689, 474721, 327082769],\n",
              " [690, 476100, 328509000],\n",
              " [691, 477481, 329939371],\n",
              " [692, 478864, 331373888],\n",
              " [693, 480249, 332812557],\n",
              " [694, 481636, 334255384],\n",
              " [695, 483025, 335702375],\n",
              " [696, 484416, 337153536],\n",
              " [697, 485809, 338608873],\n",
              " [698, 487204, 340068392],\n",
              " [699, 488601, 341532099],\n",
              " [700, 490000, 343000000],\n",
              " [701, 491401, 344472101],\n",
              " [702, 492804, 345948408],\n",
              " [703, 494209, 347428927],\n",
              " [704, 495616, 348913664],\n",
              " [705, 497025, 350402625],\n",
              " [706, 498436, 351895816],\n",
              " [707, 499849, 353393243],\n",
              " [708, 501264, 354894912],\n",
              " [709, 502681, 356400829],\n",
              " [710, 504100, 357911000],\n",
              " [711, 505521, 359425431],\n",
              " [712, 506944, 360944128],\n",
              " [713, 508369, 362467097],\n",
              " [714, 509796, 363994344],\n",
              " [715, 511225, 365525875],\n",
              " [716, 512656, 367061696],\n",
              " [717, 514089, 368601813],\n",
              " [718, 515524, 370146232],\n",
              " [719, 516961, 371694959],\n",
              " [720, 518400, 373248000],\n",
              " [721, 519841, 374805361],\n",
              " [722, 521284, 376367048],\n",
              " [723, 522729, 377933067],\n",
              " [724, 524176, 379503424],\n",
              " [725, 525625, 381078125],\n",
              " [726, 527076, 382657176],\n",
              " [727, 528529, 384240583],\n",
              " [728, 529984, 385828352],\n",
              " [729, 531441, 387420489],\n",
              " [730, 532900, 389017000],\n",
              " [731, 534361, 390617891],\n",
              " [732, 535824, 392223168],\n",
              " [733, 537289, 393832837],\n",
              " [734, 538756, 395446904],\n",
              " [735, 540225, 397065375],\n",
              " [736, 541696, 398688256],\n",
              " [737, 543169, 400315553],\n",
              " [738, 544644, 401947272],\n",
              " [739, 546121, 403583419],\n",
              " [740, 547600, 405224000],\n",
              " [741, 549081, 406869021],\n",
              " [742, 550564, 408518488],\n",
              " [743, 552049, 410172407],\n",
              " [744, 553536, 411830784],\n",
              " [745, 555025, 413493625],\n",
              " [746, 556516, 415160936],\n",
              " [747, 558009, 416832723],\n",
              " [748, 559504, 418508992],\n",
              " [749, 561001, 420189749],\n",
              " [750, 562500, 421875000],\n",
              " [751, 564001, 423564751],\n",
              " [752, 565504, 425259008],\n",
              " [753, 567009, 426957777],\n",
              " [754, 568516, 428661064],\n",
              " [755, 570025, 430368875],\n",
              " [756, 571536, 432081216],\n",
              " [757, 573049, 433798093],\n",
              " [758, 574564, 435519512],\n",
              " [759, 576081, 437245479],\n",
              " [760, 577600, 438976000],\n",
              " [761, 579121, 440711081],\n",
              " [762, 580644, 442450728],\n",
              " [763, 582169, 444194947],\n",
              " [764, 583696, 445943744],\n",
              " [765, 585225, 447697125],\n",
              " [766, 586756, 449455096],\n",
              " [767, 588289, 451217663],\n",
              " [768, 589824, 452984832],\n",
              " [769, 591361, 454756609],\n",
              " [770, 592900, 456533000],\n",
              " [771, 594441, 458314011],\n",
              " [772, 595984, 460099648],\n",
              " [773, 597529, 461889917],\n",
              " [774, 599076, 463684824],\n",
              " [775, 600625, 465484375],\n",
              " [776, 602176, 467288576],\n",
              " [777, 603729, 469097433],\n",
              " [778, 605284, 470910952],\n",
              " [779, 606841, 472729139],\n",
              " [780, 608400, 474552000],\n",
              " [781, 609961, 476379541],\n",
              " [782, 611524, 478211768],\n",
              " [783, 613089, 480048687],\n",
              " [784, 614656, 481890304],\n",
              " [785, 616225, 483736625],\n",
              " [786, 617796, 485587656],\n",
              " [787, 619369, 487443403],\n",
              " [788, 620944, 489303872],\n",
              " [789, 622521, 491169069],\n",
              " [790, 624100, 493039000],\n",
              " [791, 625681, 494913671],\n",
              " [792, 627264, 496793088],\n",
              " [793, 628849, 498677257],\n",
              " [794, 630436, 500566184],\n",
              " [795, 632025, 502459875],\n",
              " [796, 633616, 504358336],\n",
              " [797, 635209, 506261573],\n",
              " [798, 636804, 508169592],\n",
              " [799, 638401, 510082399],\n",
              " [800, 640000, 512000000],\n",
              " [801, 641601, 513922401],\n",
              " [802, 643204, 515849608],\n",
              " [803, 644809, 517781627],\n",
              " [804, 646416, 519718464],\n",
              " [805, 648025, 521660125],\n",
              " [806, 649636, 523606616],\n",
              " [807, 651249, 525557943],\n",
              " [808, 652864, 527514112],\n",
              " [809, 654481, 529475129],\n",
              " [810, 656100, 531441000],\n",
              " [811, 657721, 533411731],\n",
              " [812, 659344, 535387328],\n",
              " [813, 660969, 537367797],\n",
              " [814, 662596, 539353144],\n",
              " [815, 664225, 541343375],\n",
              " [816, 665856, 543338496],\n",
              " [817, 667489, 545338513],\n",
              " [818, 669124, 547343432],\n",
              " [819, 670761, 549353259],\n",
              " [820, 672400, 551368000],\n",
              " [821, 674041, 553387661],\n",
              " [822, 675684, 555412248],\n",
              " [823, 677329, 557441767],\n",
              " [824, 678976, 559476224],\n",
              " [825, 680625, 561515625],\n",
              " [826, 682276, 563559976],\n",
              " [827, 683929, 565609283],\n",
              " [828, 685584, 567663552],\n",
              " [829, 687241, 569722789],\n",
              " [830, 688900, 571787000],\n",
              " [831, 690561, 573856191],\n",
              " [832, 692224, 575930368],\n",
              " [833, 693889, 578009537],\n",
              " [834, 695556, 580093704],\n",
              " [835, 697225, 582182875],\n",
              " [836, 698896, 584277056],\n",
              " [837, 700569, 586376253],\n",
              " [838, 702244, 588480472],\n",
              " [839, 703921, 590589719],\n",
              " [840, 705600, 592704000],\n",
              " [841, 707281, 594823321],\n",
              " [842, 708964, 596947688],\n",
              " [843, 710649, 599077107],\n",
              " [844, 712336, 601211584],\n",
              " [845, 714025, 603351125],\n",
              " [846, 715716, 605495736],\n",
              " [847, 717409, 607645423],\n",
              " [848, 719104, 609800192],\n",
              " [849, 720801, 611960049],\n",
              " [850, 722500, 614125000],\n",
              " [851, 724201, 616295051],\n",
              " [852, 725904, 618470208],\n",
              " [853, 727609, 620650477],\n",
              " [854, 729316, 622835864],\n",
              " [855, 731025, 625026375],\n",
              " [856, 732736, 627222016],\n",
              " [857, 734449, 629422793],\n",
              " [858, 736164, 631628712],\n",
              " [859, 737881, 633839779],\n",
              " [860, 739600, 636056000],\n",
              " [861, 741321, 638277381],\n",
              " [862, 743044, 640503928],\n",
              " [863, 744769, 642735647],\n",
              " [864, 746496, 644972544],\n",
              " [865, 748225, 647214625],\n",
              " [866, 749956, 649461896],\n",
              " [867, 751689, 651714363],\n",
              " [868, 753424, 653972032],\n",
              " [869, 755161, 656234909],\n",
              " [870, 756900, 658503000],\n",
              " [871, 758641, 660776311],\n",
              " [872, 760384, 663054848],\n",
              " [873, 762129, 665338617],\n",
              " [874, 763876, 667627624],\n",
              " [875, 765625, 669921875],\n",
              " [876, 767376, 672221376],\n",
              " [877, 769129, 674526133],\n",
              " [878, 770884, 676836152],\n",
              " [879, 772641, 679151439],\n",
              " [880, 774400, 681472000],\n",
              " [881, 776161, 683797841],\n",
              " [882, 777924, 686128968],\n",
              " [883, 779689, 688465387],\n",
              " [884, 781456, 690807104],\n",
              " [885, 783225, 693154125],\n",
              " [886, 784996, 695506456],\n",
              " [887, 786769, 697864103],\n",
              " [888, 788544, 700227072],\n",
              " [889, 790321, 702595369],\n",
              " [890, 792100, 704969000],\n",
              " [891, 793881, 707347971],\n",
              " [892, 795664, 709732288],\n",
              " [893, 797449, 712121957],\n",
              " [894, 799236, 714516984],\n",
              " [895, 801025, 716917375],\n",
              " [896, 802816, 719323136],\n",
              " [897, 804609, 721734273],\n",
              " [898, 806404, 724150792],\n",
              " [899, 808201, 726572699],\n",
              " [900, 810000, 729000000],\n",
              " [901, 811801, 731432701],\n",
              " [902, 813604, 733870808],\n",
              " [903, 815409, 736314327],\n",
              " [904, 817216, 738763264],\n",
              " [905, 819025, 741217625],\n",
              " [906, 820836, 743677416],\n",
              " [907, 822649, 746142643],\n",
              " [908, 824464, 748613312],\n",
              " [909, 826281, 751089429],\n",
              " [910, 828100, 753571000],\n",
              " [911, 829921, 756058031],\n",
              " [912, 831744, 758550528],\n",
              " [913, 833569, 761048497],\n",
              " [914, 835396, 763551944],\n",
              " [915, 837225, 766060875],\n",
              " [916, 839056, 768575296],\n",
              " [917, 840889, 771095213],\n",
              " [918, 842724, 773620632],\n",
              " [919, 844561, 776151559],\n",
              " [920, 846400, 778688000],\n",
              " [921, 848241, 781229961],\n",
              " [922, 850084, 783777448],\n",
              " [923, 851929, 786330467],\n",
              " [924, 853776, 788889024],\n",
              " [925, 855625, 791453125],\n",
              " [926, 857476, 794022776],\n",
              " [927, 859329, 796597983],\n",
              " [928, 861184, 799178752],\n",
              " [929, 863041, 801765089],\n",
              " [930, 864900, 804357000],\n",
              " [931, 866761, 806954491],\n",
              " [932, 868624, 809557568],\n",
              " [933, 870489, 812166237],\n",
              " [934, 872356, 814780504],\n",
              " [935, 874225, 817400375],\n",
              " [936, 876096, 820025856],\n",
              " [937, 877969, 822656953],\n",
              " [938, 879844, 825293672],\n",
              " [939, 881721, 827936019],\n",
              " [940, 883600, 830584000],\n",
              " [941, 885481, 833237621],\n",
              " [942, 887364, 835896888],\n",
              " [943, 889249, 838561807],\n",
              " [944, 891136, 841232384],\n",
              " [945, 893025, 843908625],\n",
              " [946, 894916, 846590536],\n",
              " [947, 896809, 849278123],\n",
              " [948, 898704, 851971392],\n",
              " [949, 900601, 854670349],\n",
              " [950, 902500, 857375000],\n",
              " [951, 904401, 860085351],\n",
              " [952, 906304, 862801408],\n",
              " [953, 908209, 865523177],\n",
              " [954, 910116, 868250664],\n",
              " [955, 912025, 870983875],\n",
              " [956, 913936, 873722816],\n",
              " [957, 915849, 876467493],\n",
              " [958, 917764, 879217912],\n",
              " [959, 919681, 881974079],\n",
              " [960, 921600, 884736000],\n",
              " [961, 923521, 887503681],\n",
              " [962, 925444, 890277128],\n",
              " [963, 927369, 893056347],\n",
              " [964, 929296, 895841344],\n",
              " [965, 931225, 898632125],\n",
              " [966, 933156, 901428696],\n",
              " [967, 935089, 904231063],\n",
              " [968, 937024, 907039232],\n",
              " [969, 938961, 909853209],\n",
              " [970, 940900, 912673000],\n",
              " [971, 942841, 915498611],\n",
              " [972, 944784, 918330048],\n",
              " [973, 946729, 921167317],\n",
              " [974, 948676, 924010424],\n",
              " [975, 950625, 926859375],\n",
              " [976, 952576, 929714176],\n",
              " [977, 954529, 932574833],\n",
              " [978, 956484, 935441352],\n",
              " [979, 958441, 938313739],\n",
              " [980, 960400, 941192000],\n",
              " [981, 962361, 944076141],\n",
              " [982, 964324, 946966168],\n",
              " [983, 966289, 949862087],\n",
              " [984, 968256, 952763904],\n",
              " [985, 970225, 955671625],\n",
              " [986, 972196, 958585256],\n",
              " [987, 974169, 961504803],\n",
              " [988, 976144, 964430272],\n",
              " [989, 978121, 967361669],\n",
              " [990, 980100, 970299000],\n",
              " [991, 982081, 973242271],\n",
              " [992, 984064, 976191488],\n",
              " [993, 986049, 979146657],\n",
              " [994, 988036, 982107784],\n",
              " [995, 990025, 985074875],\n",
              " [996, 992016, 988047936],\n",
              " [997, 994009, 991026973],\n",
              " [998, 996004, 994011992],\n",
              " [999, 998001, 997002999],\n",
              " ...]"
            ]
          },
          "metadata": {}
        }
      ],
      "execution_count": 35,
      "metadata": {
        "ExecuteTime": {
          "end_time": "2019-06-07T08:27:08.049781Z",
          "start_time": "2019-06-07T08:27:07.948604Z"
        },
        "slideshow": {
          "slide_type": "subslide"
        }
      }
    },
    {
      "cell_type": "code",
      "source": [
        "# 读取数据\n",
        "data = []\n",
        "with open('../data/data_write_to_file.txt','r') as f:\n",
        "    for line in f:\n",
        "        line = line.replace('\\n', '').split('\\t')\n",
        "        line = [int(i) for i in line]\n",
        "        data.append(line)\n",
        "data\n"
      ],
      "outputs": [
        {
          "output_type": "execute_result",
          "execution_count": 60,
          "data": {
            "text/plain": [
              "[[0, 0, 0],\n",
              " [1, 1, 1],\n",
              " [2, 4, 8],\n",
              " [3, 9, 27],\n",
              " [4, 16, 64],\n",
              " [5, 25, 125],\n",
              " [6, 36, 216],\n",
              " [7, 49, 343],\n",
              " [8, 64, 512],\n",
              " [9, 81, 729],\n",
              " [10, 100, 1000],\n",
              " [11, 121, 1331],\n",
              " [12, 144, 1728],\n",
              " [13, 169, 2197],\n",
              " [14, 196, 2744],\n",
              " [15, 225, 3375],\n",
              " [16, 256, 4096],\n",
              " [17, 289, 4913],\n",
              " [18, 324, 5832],\n",
              " [19, 361, 6859],\n",
              " [20, 400, 8000],\n",
              " [21, 441, 9261],\n",
              " [22, 484, 10648],\n",
              " [23, 529, 12167],\n",
              " [24, 576, 13824],\n",
              " [25, 625, 15625],\n",
              " [26, 676, 17576],\n",
              " [27, 729, 19683],\n",
              " [28, 784, 21952],\n",
              " [29, 841, 24389],\n",
              " [30, 900, 27000],\n",
              " [31, 961, 29791],\n",
              " [32, 1024, 32768],\n",
              " [33, 1089, 35937],\n",
              " [34, 1156, 39304],\n",
              " [35, 1225, 42875],\n",
              " [36, 1296, 46656],\n",
              " [37, 1369, 50653],\n",
              " [38, 1444, 54872],\n",
              " [39, 1521, 59319],\n",
              " [40, 1600, 64000],\n",
              " [41, 1681, 68921],\n",
              " [42, 1764, 74088],\n",
              " [43, 1849, 79507],\n",
              " [44, 1936, 85184],\n",
              " [45, 2025, 91125],\n",
              " [46, 2116, 97336],\n",
              " [47, 2209, 103823],\n",
              " [48, 2304, 110592],\n",
              " [49, 2401, 117649],\n",
              " [50, 2500, 125000],\n",
              " [51, 2601, 132651],\n",
              " [52, 2704, 140608],\n",
              " [53, 2809, 148877],\n",
              " [54, 2916, 157464],\n",
              " [55, 3025, 166375],\n",
              " [56, 3136, 175616],\n",
              " [57, 3249, 185193],\n",
              " [58, 3364, 195112],\n",
              " [59, 3481, 205379],\n",
              " [60, 3600, 216000],\n",
              " [61, 3721, 226981],\n",
              " [62, 3844, 238328],\n",
              " [63, 3969, 250047],\n",
              " [64, 4096, 262144],\n",
              " [65, 4225, 274625],\n",
              " [66, 4356, 287496],\n",
              " [67, 4489, 300763],\n",
              " [68, 4624, 314432],\n",
              " [69, 4761, 328509],\n",
              " [70, 4900, 343000],\n",
              " [71, 5041, 357911],\n",
              " [72, 5184, 373248],\n",
              " [73, 5329, 389017],\n",
              " [74, 5476, 405224],\n",
              " [75, 5625, 421875],\n",
              " [76, 5776, 438976],\n",
              " [77, 5929, 456533],\n",
              " [78, 6084, 474552],\n",
              " [79, 6241, 493039],\n",
              " [80, 6400, 512000],\n",
              " [81, 6561, 531441],\n",
              " [82, 6724, 551368],\n",
              " [83, 6889, 571787],\n",
              " [84, 7056, 592704],\n",
              " [85, 7225, 614125],\n",
              " [86, 7396, 636056],\n",
              " [87, 7569, 658503],\n",
              " [88, 7744, 681472],\n",
              " [89, 7921, 704969],\n",
              " [90, 8100, 729000],\n",
              " [91, 8281, 753571],\n",
              " [92, 8464, 778688],\n",
              " [93, 8649, 804357],\n",
              " [94, 8836, 830584],\n",
              " [95, 9025, 857375],\n",
              " [96, 9216, 884736],\n",
              " [97, 9409, 912673],\n",
              " [98, 9604, 941192],\n",
              " [99, 9801, 970299],\n",
              " [100, 10000, 1000000],\n",
              " [101, 10201, 1030301],\n",
              " [102, 10404, 1061208],\n",
              " [103, 10609, 1092727],\n",
              " [104, 10816, 1124864],\n",
              " [105, 11025, 1157625],\n",
              " [106, 11236, 1191016],\n",
              " [107, 11449, 1225043],\n",
              " [108, 11664, 1259712],\n",
              " [109, 11881, 1295029],\n",
              " [110, 12100, 1331000],\n",
              " [111, 12321, 1367631],\n",
              " [112, 12544, 1404928],\n",
              " [113, 12769, 1442897],\n",
              " [114, 12996, 1481544],\n",
              " [115, 13225, 1520875],\n",
              " [116, 13456, 1560896],\n",
              " [117, 13689, 1601613],\n",
              " [118, 13924, 1643032],\n",
              " [119, 14161, 1685159],\n",
              " [120, 14400, 1728000],\n",
              " [121, 14641, 1771561],\n",
              " [122, 14884, 1815848],\n",
              " [123, 15129, 1860867],\n",
              " [124, 15376, 1906624],\n",
              " [125, 15625, 1953125],\n",
              " [126, 15876, 2000376],\n",
              " [127, 16129, 2048383],\n",
              " [128, 16384, 2097152],\n",
              " [129, 16641, 2146689],\n",
              " [130, 16900, 2197000],\n",
              " [131, 17161, 2248091],\n",
              " [132, 17424, 2299968],\n",
              " [133, 17689, 2352637],\n",
              " [134, 17956, 2406104],\n",
              " [135, 18225, 2460375],\n",
              " [136, 18496, 2515456],\n",
              " [137, 18769, 2571353],\n",
              " [138, 19044, 2628072],\n",
              " [139, 19321, 2685619],\n",
              " [140, 19600, 2744000],\n",
              " [141, 19881, 2803221],\n",
              " [142, 20164, 2863288],\n",
              " [143, 20449, 2924207],\n",
              " [144, 20736, 2985984],\n",
              " [145, 21025, 3048625],\n",
              " [146, 21316, 3112136],\n",
              " [147, 21609, 3176523],\n",
              " [148, 21904, 3241792],\n",
              " [149, 22201, 3307949],\n",
              " [150, 22500, 3375000],\n",
              " [151, 22801, 3442951],\n",
              " [152, 23104, 3511808],\n",
              " [153, 23409, 3581577],\n",
              " [154, 23716, 3652264],\n",
              " [155, 24025, 3723875],\n",
              " [156, 24336, 3796416],\n",
              " [157, 24649, 3869893],\n",
              " [158, 24964, 3944312],\n",
              " [159, 25281, 4019679],\n",
              " [160, 25600, 4096000],\n",
              " [161, 25921, 4173281],\n",
              " [162, 26244, 4251528],\n",
              " [163, 26569, 4330747],\n",
              " [164, 26896, 4410944],\n",
              " [165, 27225, 4492125],\n",
              " [166, 27556, 4574296],\n",
              " [167, 27889, 4657463],\n",
              " [168, 28224, 4741632],\n",
              " [169, 28561, 4826809],\n",
              " [170, 28900, 4913000],\n",
              " [171, 29241, 5000211],\n",
              " [172, 29584, 5088448],\n",
              " [173, 29929, 5177717],\n",
              " [174, 30276, 5268024],\n",
              " [175, 30625, 5359375],\n",
              " [176, 30976, 5451776],\n",
              " [177, 31329, 5545233],\n",
              " [178, 31684, 5639752],\n",
              " [179, 32041, 5735339],\n",
              " [180, 32400, 5832000],\n",
              " [181, 32761, 5929741],\n",
              " [182, 33124, 6028568],\n",
              " [183, 33489, 6128487],\n",
              " [184, 33856, 6229504],\n",
              " [185, 34225, 6331625],\n",
              " [186, 34596, 6434856],\n",
              " [187, 34969, 6539203],\n",
              " [188, 35344, 6644672],\n",
              " [189, 35721, 6751269],\n",
              " [190, 36100, 6859000],\n",
              " [191, 36481, 6967871],\n",
              " [192, 36864, 7077888],\n",
              " [193, 37249, 7189057],\n",
              " [194, 37636, 7301384],\n",
              " [195, 38025, 7414875],\n",
              " [196, 38416, 7529536],\n",
              " [197, 38809, 7645373],\n",
              " [198, 39204, 7762392],\n",
              " [199, 39601, 7880599],\n",
              " [200, 40000, 8000000],\n",
              " [201, 40401, 8120601],\n",
              " [202, 40804, 8242408],\n",
              " [203, 41209, 8365427],\n",
              " [204, 41616, 8489664],\n",
              " [205, 42025, 8615125],\n",
              " [206, 42436, 8741816],\n",
              " [207, 42849, 8869743],\n",
              " [208, 43264, 8998912],\n",
              " [209, 43681, 9129329],\n",
              " [210, 44100, 9261000],\n",
              " [211, 44521, 9393931],\n",
              " [212, 44944, 9528128],\n",
              " [213, 45369, 9663597],\n",
              " [214, 45796, 9800344],\n",
              " [215, 46225, 9938375],\n",
              " [216, 46656, 10077696],\n",
              " [217, 47089, 10218313],\n",
              " [218, 47524, 10360232],\n",
              " [219, 47961, 10503459],\n",
              " [220, 48400, 10648000],\n",
              " [221, 48841, 10793861],\n",
              " [222, 49284, 10941048],\n",
              " [223, 49729, 11089567],\n",
              " [224, 50176, 11239424],\n",
              " [225, 50625, 11390625],\n",
              " [226, 51076, 11543176],\n",
              " [227, 51529, 11697083],\n",
              " [228, 51984, 11852352],\n",
              " [229, 52441, 12008989],\n",
              " [230, 52900, 12167000],\n",
              " [231, 53361, 12326391],\n",
              " [232, 53824, 12487168],\n",
              " [233, 54289, 12649337],\n",
              " [234, 54756, 12812904],\n",
              " [235, 55225, 12977875],\n",
              " [236, 55696, 13144256],\n",
              " [237, 56169, 13312053],\n",
              " [238, 56644, 13481272],\n",
              " [239, 57121, 13651919],\n",
              " [240, 57600, 13824000],\n",
              " [241, 58081, 13997521],\n",
              " [242, 58564, 14172488],\n",
              " [243, 59049, 14348907],\n",
              " [244, 59536, 14526784],\n",
              " [245, 60025, 14706125],\n",
              " [246, 60516, 14886936],\n",
              " [247, 61009, 15069223],\n",
              " [248, 61504, 15252992],\n",
              " [249, 62001, 15438249],\n",
              " [250, 62500, 15625000],\n",
              " [251, 63001, 15813251],\n",
              " [252, 63504, 16003008],\n",
              " [253, 64009, 16194277],\n",
              " [254, 64516, 16387064],\n",
              " [255, 65025, 16581375],\n",
              " [256, 65536, 16777216],\n",
              " [257, 66049, 16974593],\n",
              " [258, 66564, 17173512],\n",
              " [259, 67081, 17373979],\n",
              " [260, 67600, 17576000],\n",
              " [261, 68121, 17779581],\n",
              " [262, 68644, 17984728],\n",
              " [263, 69169, 18191447],\n",
              " [264, 69696, 18399744],\n",
              " [265, 70225, 18609625],\n",
              " [266, 70756, 18821096],\n",
              " [267, 71289, 19034163],\n",
              " [268, 71824, 19248832],\n",
              " [269, 72361, 19465109],\n",
              " [270, 72900, 19683000],\n",
              " [271, 73441, 19902511],\n",
              " [272, 73984, 20123648],\n",
              " [273, 74529, 20346417],\n",
              " [274, 75076, 20570824],\n",
              " [275, 75625, 20796875],\n",
              " [276, 76176, 21024576],\n",
              " [277, 76729, 21253933],\n",
              " [278, 77284, 21484952],\n",
              " [279, 77841, 21717639],\n",
              " [280, 78400, 21952000],\n",
              " [281, 78961, 22188041],\n",
              " [282, 79524, 22425768],\n",
              " [283, 80089, 22665187],\n",
              " [284, 80656, 22906304],\n",
              " [285, 81225, 23149125],\n",
              " [286, 81796, 23393656],\n",
              " [287, 82369, 23639903],\n",
              " [288, 82944, 23887872],\n",
              " [289, 83521, 24137569],\n",
              " [290, 84100, 24389000],\n",
              " [291, 84681, 24642171],\n",
              " [292, 85264, 24897088],\n",
              " [293, 85849, 25153757],\n",
              " [294, 86436, 25412184],\n",
              " [295, 87025, 25672375],\n",
              " [296, 87616, 25934336],\n",
              " [297, 88209, 26198073],\n",
              " [298, 88804, 26463592],\n",
              " [299, 89401, 26730899],\n",
              " [300, 90000, 27000000],\n",
              " [301, 90601, 27270901],\n",
              " [302, 91204, 27543608],\n",
              " [303, 91809, 27818127],\n",
              " [304, 92416, 28094464],\n",
              " [305, 93025, 28372625],\n",
              " [306, 93636, 28652616],\n",
              " [307, 94249, 28934443],\n",
              " [308, 94864, 29218112],\n",
              " [309, 95481, 29503629],\n",
              " [310, 96100, 29791000],\n",
              " [311, 96721, 30080231],\n",
              " [312, 97344, 30371328],\n",
              " [313, 97969, 30664297],\n",
              " [314, 98596, 30959144],\n",
              " [315, 99225, 31255875],\n",
              " [316, 99856, 31554496],\n",
              " [317, 100489, 31855013],\n",
              " [318, 101124, 32157432],\n",
              " [319, 101761, 32461759],\n",
              " [320, 102400, 32768000],\n",
              " [321, 103041, 33076161],\n",
              " [322, 103684, 33386248],\n",
              " [323, 104329, 33698267],\n",
              " [324, 104976, 34012224],\n",
              " [325, 105625, 34328125],\n",
              " [326, 106276, 34645976],\n",
              " [327, 106929, 34965783],\n",
              " [328, 107584, 35287552],\n",
              " [329, 108241, 35611289],\n",
              " [330, 108900, 35937000],\n",
              " [331, 109561, 36264691],\n",
              " [332, 110224, 36594368],\n",
              " [333, 110889, 36926037],\n",
              " [334, 111556, 37259704],\n",
              " [335, 112225, 37595375],\n",
              " [336, 112896, 37933056],\n",
              " [337, 113569, 38272753],\n",
              " [338, 114244, 38614472],\n",
              " [339, 114921, 38958219],\n",
              " [340, 115600, 39304000],\n",
              " [341, 116281, 39651821],\n",
              " [342, 116964, 40001688],\n",
              " [343, 117649, 40353607],\n",
              " [344, 118336, 40707584],\n",
              " [345, 119025, 41063625],\n",
              " [346, 119716, 41421736],\n",
              " [347, 120409, 41781923],\n",
              " [348, 121104, 42144192],\n",
              " [349, 121801, 42508549],\n",
              " [350, 122500, 42875000],\n",
              " [351, 123201, 43243551],\n",
              " [352, 123904, 43614208],\n",
              " [353, 124609, 43986977],\n",
              " [354, 125316, 44361864],\n",
              " [355, 126025, 44738875],\n",
              " [356, 126736, 45118016],\n",
              " [357, 127449, 45499293],\n",
              " [358, 128164, 45882712],\n",
              " [359, 128881, 46268279],\n",
              " [360, 129600, 46656000],\n",
              " [361, 130321, 47045881],\n",
              " [362, 131044, 47437928],\n",
              " [363, 131769, 47832147],\n",
              " [364, 132496, 48228544],\n",
              " [365, 133225, 48627125],\n",
              " [366, 133956, 49027896],\n",
              " [367, 134689, 49430863],\n",
              " [368, 135424, 49836032],\n",
              " [369, 136161, 50243409],\n",
              " [370, 136900, 50653000],\n",
              " [371, 137641, 51064811],\n",
              " [372, 138384, 51478848],\n",
              " [373, 139129, 51895117],\n",
              " [374, 139876, 52313624],\n",
              " [375, 140625, 52734375],\n",
              " [376, 141376, 53157376],\n",
              " [377, 142129, 53582633],\n",
              " [378, 142884, 54010152],\n",
              " [379, 143641, 54439939],\n",
              " [380, 144400, 54872000],\n",
              " [381, 145161, 55306341],\n",
              " [382, 145924, 55742968],\n",
              " [383, 146689, 56181887],\n",
              " [384, 147456, 56623104],\n",
              " [385, 148225, 57066625],\n",
              " [386, 148996, 57512456],\n",
              " [387, 149769, 57960603],\n",
              " [388, 150544, 58411072],\n",
              " [389, 151321, 58863869],\n",
              " [390, 152100, 59319000],\n",
              " [391, 152881, 59776471],\n",
              " [392, 153664, 60236288],\n",
              " [393, 154449, 60698457],\n",
              " [394, 155236, 61162984],\n",
              " [395, 156025, 61629875],\n",
              " [396, 156816, 62099136],\n",
              " [397, 157609, 62570773],\n",
              " [398, 158404, 63044792],\n",
              " [399, 159201, 63521199],\n",
              " [400, 160000, 64000000],\n",
              " [401, 160801, 64481201],\n",
              " [402, 161604, 64964808],\n",
              " [403, 162409, 65450827],\n",
              " [404, 163216, 65939264],\n",
              " [405, 164025, 66430125],\n",
              " [406, 164836, 66923416],\n",
              " [407, 165649, 67419143],\n",
              " [408, 166464, 67917312],\n",
              " [409, 167281, 68417929],\n",
              " [410, 168100, 68921000],\n",
              " [411, 168921, 69426531],\n",
              " [412, 169744, 69934528],\n",
              " [413, 170569, 70444997],\n",
              " [414, 171396, 70957944],\n",
              " [415, 172225, 71473375],\n",
              " [416, 173056, 71991296],\n",
              " [417, 173889, 72511713],\n",
              " [418, 174724, 73034632],\n",
              " [419, 175561, 73560059],\n",
              " [420, 176400, 74088000],\n",
              " [421, 177241, 74618461],\n",
              " [422, 178084, 75151448],\n",
              " [423, 178929, 75686967],\n",
              " [424, 179776, 76225024],\n",
              " [425, 180625, 76765625],\n",
              " [426, 181476, 77308776],\n",
              " [427, 182329, 77854483],\n",
              " [428, 183184, 78402752],\n",
              " [429, 184041, 78953589],\n",
              " [430, 184900, 79507000],\n",
              " [431, 185761, 80062991],\n",
              " [432, 186624, 80621568],\n",
              " [433, 187489, 81182737],\n",
              " [434, 188356, 81746504],\n",
              " [435, 189225, 82312875],\n",
              " [436, 190096, 82881856],\n",
              " [437, 190969, 83453453],\n",
              " [438, 191844, 84027672],\n",
              " [439, 192721, 84604519],\n",
              " [440, 193600, 85184000],\n",
              " [441, 194481, 85766121],\n",
              " [442, 195364, 86350888],\n",
              " [443, 196249, 86938307],\n",
              " [444, 197136, 87528384],\n",
              " [445, 198025, 88121125],\n",
              " [446, 198916, 88716536],\n",
              " [447, 199809, 89314623],\n",
              " [448, 200704, 89915392],\n",
              " [449, 201601, 90518849],\n",
              " [450, 202500, 91125000],\n",
              " [451, 203401, 91733851],\n",
              " [452, 204304, 92345408],\n",
              " [453, 205209, 92959677],\n",
              " [454, 206116, 93576664],\n",
              " [455, 207025, 94196375],\n",
              " [456, 207936, 94818816],\n",
              " [457, 208849, 95443993],\n",
              " [458, 209764, 96071912],\n",
              " [459, 210681, 96702579],\n",
              " [460, 211600, 97336000],\n",
              " [461, 212521, 97972181],\n",
              " [462, 213444, 98611128],\n",
              " [463, 214369, 99252847],\n",
              " [464, 215296, 99897344],\n",
              " [465, 216225, 100544625],\n",
              " [466, 217156, 101194696],\n",
              " [467, 218089, 101847563],\n",
              " [468, 219024, 102503232],\n",
              " [469, 219961, 103161709],\n",
              " [470, 220900, 103823000],\n",
              " [471, 221841, 104487111],\n",
              " [472, 222784, 105154048],\n",
              " [473, 223729, 105823817],\n",
              " [474, 224676, 106496424],\n",
              " [475, 225625, 107171875],\n",
              " [476, 226576, 107850176],\n",
              " [477, 227529, 108531333],\n",
              " [478, 228484, 109215352],\n",
              " [479, 229441, 109902239],\n",
              " [480, 230400, 110592000],\n",
              " [481, 231361, 111284641],\n",
              " [482, 232324, 111980168],\n",
              " [483, 233289, 112678587],\n",
              " [484, 234256, 113379904],\n",
              " [485, 235225, 114084125],\n",
              " [486, 236196, 114791256],\n",
              " [487, 237169, 115501303],\n",
              " [488, 238144, 116214272],\n",
              " [489, 239121, 116930169],\n",
              " [490, 240100, 117649000],\n",
              " [491, 241081, 118370771],\n",
              " [492, 242064, 119095488],\n",
              " [493, 243049, 119823157],\n",
              " [494, 244036, 120553784],\n",
              " [495, 245025, 121287375],\n",
              " [496, 246016, 122023936],\n",
              " [497, 247009, 122763473],\n",
              " [498, 248004, 123505992],\n",
              " [499, 249001, 124251499],\n",
              " [500, 250000, 125000000],\n",
              " [501, 251001, 125751501],\n",
              " [502, 252004, 126506008],\n",
              " [503, 253009, 127263527],\n",
              " [504, 254016, 128024064],\n",
              " [505, 255025, 128787625],\n",
              " [506, 256036, 129554216],\n",
              " [507, 257049, 130323843],\n",
              " [508, 258064, 131096512],\n",
              " [509, 259081, 131872229],\n",
              " [510, 260100, 132651000],\n",
              " [511, 261121, 133432831],\n",
              " [512, 262144, 134217728],\n",
              " [513, 263169, 135005697],\n",
              " [514, 264196, 135796744],\n",
              " [515, 265225, 136590875],\n",
              " [516, 266256, 137388096],\n",
              " [517, 267289, 138188413],\n",
              " [518, 268324, 138991832],\n",
              " [519, 269361, 139798359],\n",
              " [520, 270400, 140608000],\n",
              " [521, 271441, 141420761],\n",
              " [522, 272484, 142236648],\n",
              " [523, 273529, 143055667],\n",
              " [524, 274576, 143877824],\n",
              " [525, 275625, 144703125],\n",
              " [526, 276676, 145531576],\n",
              " [527, 277729, 146363183],\n",
              " [528, 278784, 147197952],\n",
              " [529, 279841, 148035889],\n",
              " [530, 280900, 148877000],\n",
              " [531, 281961, 149721291],\n",
              " [532, 283024, 150568768],\n",
              " [533, 284089, 151419437],\n",
              " [534, 285156, 152273304],\n",
              " [535, 286225, 153130375],\n",
              " [536, 287296, 153990656],\n",
              " [537, 288369, 154854153],\n",
              " [538, 289444, 155720872],\n",
              " [539, 290521, 156590819],\n",
              " [540, 291600, 157464000],\n",
              " [541, 292681, 158340421],\n",
              " [542, 293764, 159220088],\n",
              " [543, 294849, 160103007],\n",
              " [544, 295936, 160989184],\n",
              " [545, 297025, 161878625],\n",
              " [546, 298116, 162771336],\n",
              " [547, 299209, 163667323],\n",
              " [548, 300304, 164566592],\n",
              " [549, 301401, 165469149],\n",
              " [550, 302500, 166375000],\n",
              " [551, 303601, 167284151],\n",
              " [552, 304704, 168196608],\n",
              " [553, 305809, 169112377],\n",
              " [554, 306916, 170031464],\n",
              " [555, 308025, 170953875],\n",
              " [556, 309136, 171879616],\n",
              " [557, 310249, 172808693],\n",
              " [558, 311364, 173741112],\n",
              " [559, 312481, 174676879],\n",
              " [560, 313600, 175616000],\n",
              " [561, 314721, 176558481],\n",
              " [562, 315844, 177504328],\n",
              " [563, 316969, 178453547],\n",
              " [564, 318096, 179406144],\n",
              " [565, 319225, 180362125],\n",
              " [566, 320356, 181321496],\n",
              " [567, 321489, 182284263],\n",
              " [568, 322624, 183250432],\n",
              " [569, 323761, 184220009],\n",
              " [570, 324900, 185193000],\n",
              " [571, 326041, 186169411],\n",
              " [572, 327184, 187149248],\n",
              " [573, 328329, 188132517],\n",
              " [574, 329476, 189119224],\n",
              " [575, 330625, 190109375],\n",
              " [576, 331776, 191102976],\n",
              " [577, 332929, 192100033],\n",
              " [578, 334084, 193100552],\n",
              " [579, 335241, 194104539],\n",
              " [580, 336400, 195112000],\n",
              " [581, 337561, 196122941],\n",
              " [582, 338724, 197137368],\n",
              " [583, 339889, 198155287],\n",
              " [584, 341056, 199176704],\n",
              " [585, 342225, 200201625],\n",
              " [586, 343396, 201230056],\n",
              " [587, 344569, 202262003],\n",
              " [588, 345744, 203297472],\n",
              " [589, 346921, 204336469],\n",
              " [590, 348100, 205379000],\n",
              " [591, 349281, 206425071],\n",
              " [592, 350464, 207474688],\n",
              " [593, 351649, 208527857],\n",
              " [594, 352836, 209584584],\n",
              " [595, 354025, 210644875],\n",
              " [596, 355216, 211708736],\n",
              " [597, 356409, 212776173],\n",
              " [598, 357604, 213847192],\n",
              " [599, 358801, 214921799],\n",
              " [600, 360000, 216000000],\n",
              " [601, 361201, 217081801],\n",
              " [602, 362404, 218167208],\n",
              " [603, 363609, 219256227],\n",
              " [604, 364816, 220348864],\n",
              " [605, 366025, 221445125],\n",
              " [606, 367236, 222545016],\n",
              " [607, 368449, 223648543],\n",
              " [608, 369664, 224755712],\n",
              " [609, 370881, 225866529],\n",
              " [610, 372100, 226981000],\n",
              " [611, 373321, 228099131],\n",
              " [612, 374544, 229220928],\n",
              " [613, 375769, 230346397],\n",
              " [614, 376996, 231475544],\n",
              " [615, 378225, 232608375],\n",
              " [616, 379456, 233744896],\n",
              " [617, 380689, 234885113],\n",
              " [618, 381924, 236029032],\n",
              " [619, 383161, 237176659],\n",
              " [620, 384400, 238328000],\n",
              " [621, 385641, 239483061],\n",
              " [622, 386884, 240641848],\n",
              " [623, 388129, 241804367],\n",
              " [624, 389376, 242970624],\n",
              " [625, 390625, 244140625],\n",
              " [626, 391876, 245314376],\n",
              " [627, 393129, 246491883],\n",
              " [628, 394384, 247673152],\n",
              " [629, 395641, 248858189],\n",
              " [630, 396900, 250047000],\n",
              " [631, 398161, 251239591],\n",
              " [632, 399424, 252435968],\n",
              " [633, 400689, 253636137],\n",
              " [634, 401956, 254840104],\n",
              " [635, 403225, 256047875],\n",
              " [636, 404496, 257259456],\n",
              " [637, 405769, 258474853],\n",
              " [638, 407044, 259694072],\n",
              " [639, 408321, 260917119],\n",
              " [640, 409600, 262144000],\n",
              " [641, 410881, 263374721],\n",
              " [642, 412164, 264609288],\n",
              " [643, 413449, 265847707],\n",
              " [644, 414736, 267089984],\n",
              " [645, 416025, 268336125],\n",
              " [646, 417316, 269586136],\n",
              " [647, 418609, 270840023],\n",
              " [648, 419904, 272097792],\n",
              " [649, 421201, 273359449],\n",
              " [650, 422500, 274625000],\n",
              " [651, 423801, 275894451],\n",
              " [652, 425104, 277167808],\n",
              " [653, 426409, 278445077],\n",
              " [654, 427716, 279726264],\n",
              " [655, 429025, 281011375],\n",
              " [656, 430336, 282300416],\n",
              " [657, 431649, 283593393],\n",
              " [658, 432964, 284890312],\n",
              " [659, 434281, 286191179],\n",
              " [660, 435600, 287496000],\n",
              " [661, 436921, 288804781],\n",
              " [662, 438244, 290117528],\n",
              " [663, 439569, 291434247],\n",
              " [664, 440896, 292754944],\n",
              " [665, 442225, 294079625],\n",
              " [666, 443556, 295408296],\n",
              " [667, 444889, 296740963],\n",
              " [668, 446224, 298077632],\n",
              " [669, 447561, 299418309],\n",
              " [670, 448900, 300763000],\n",
              " [671, 450241, 302111711],\n",
              " [672, 451584, 303464448],\n",
              " [673, 452929, 304821217],\n",
              " [674, 454276, 306182024],\n",
              " [675, 455625, 307546875],\n",
              " [676, 456976, 308915776],\n",
              " [677, 458329, 310288733],\n",
              " [678, 459684, 311665752],\n",
              " [679, 461041, 313046839],\n",
              " [680, 462400, 314432000],\n",
              " [681, 463761, 315821241],\n",
              " [682, 465124, 317214568],\n",
              " [683, 466489, 318611987],\n",
              " [684, 467856, 320013504],\n",
              " [685, 469225, 321419125],\n",
              " [686, 470596, 322828856],\n",
              " [687, 471969, 324242703],\n",
              " [688, 473344, 325660672],\n",
              " [689, 474721, 327082769],\n",
              " [690, 476100, 328509000],\n",
              " [691, 477481, 329939371],\n",
              " [692, 478864, 331373888],\n",
              " [693, 480249, 332812557],\n",
              " [694, 481636, 334255384],\n",
              " [695, 483025, 335702375],\n",
              " [696, 484416, 337153536],\n",
              " [697, 485809, 338608873],\n",
              " [698, 487204, 340068392],\n",
              " [699, 488601, 341532099],\n",
              " [700, 490000, 343000000],\n",
              " [701, 491401, 344472101],\n",
              " [702, 492804, 345948408],\n",
              " [703, 494209, 347428927],\n",
              " [704, 495616, 348913664],\n",
              " [705, 497025, 350402625],\n",
              " [706, 498436, 351895816],\n",
              " [707, 499849, 353393243],\n",
              " [708, 501264, 354894912],\n",
              " [709, 502681, 356400829],\n",
              " [710, 504100, 357911000],\n",
              " [711, 505521, 359425431],\n",
              " [712, 506944, 360944128],\n",
              " [713, 508369, 362467097],\n",
              " [714, 509796, 363994344],\n",
              " [715, 511225, 365525875],\n",
              " [716, 512656, 367061696],\n",
              " [717, 514089, 368601813],\n",
              " [718, 515524, 370146232],\n",
              " [719, 516961, 371694959],\n",
              " [720, 518400, 373248000],\n",
              " [721, 519841, 374805361],\n",
              " [722, 521284, 376367048],\n",
              " [723, 522729, 377933067],\n",
              " [724, 524176, 379503424],\n",
              " [725, 525625, 381078125],\n",
              " [726, 527076, 382657176],\n",
              " [727, 528529, 384240583],\n",
              " [728, 529984, 385828352],\n",
              " [729, 531441, 387420489],\n",
              " [730, 532900, 389017000],\n",
              " [731, 534361, 390617891],\n",
              " [732, 535824, 392223168],\n",
              " [733, 537289, 393832837],\n",
              " [734, 538756, 395446904],\n",
              " [735, 540225, 397065375],\n",
              " [736, 541696, 398688256],\n",
              " [737, 543169, 400315553],\n",
              " [738, 544644, 401947272],\n",
              " [739, 546121, 403583419],\n",
              " [740, 547600, 405224000],\n",
              " [741, 549081, 406869021],\n",
              " [742, 550564, 408518488],\n",
              " [743, 552049, 410172407],\n",
              " [744, 553536, 411830784],\n",
              " [745, 555025, 413493625],\n",
              " [746, 556516, 415160936],\n",
              " [747, 558009, 416832723],\n",
              " [748, 559504, 418508992],\n",
              " [749, 561001, 420189749],\n",
              " [750, 562500, 421875000],\n",
              " [751, 564001, 423564751],\n",
              " [752, 565504, 425259008],\n",
              " [753, 567009, 426957777],\n",
              " [754, 568516, 428661064],\n",
              " [755, 570025, 430368875],\n",
              " [756, 571536, 432081216],\n",
              " [757, 573049, 433798093],\n",
              " [758, 574564, 435519512],\n",
              " [759, 576081, 437245479],\n",
              " [760, 577600, 438976000],\n",
              " [761, 579121, 440711081],\n",
              " [762, 580644, 442450728],\n",
              " [763, 582169, 444194947],\n",
              " [764, 583696, 445943744],\n",
              " [765, 585225, 447697125],\n",
              " [766, 586756, 449455096],\n",
              " [767, 588289, 451217663],\n",
              " [768, 589824, 452984832],\n",
              " [769, 591361, 454756609],\n",
              " [770, 592900, 456533000],\n",
              " [771, 594441, 458314011],\n",
              " [772, 595984, 460099648],\n",
              " [773, 597529, 461889917],\n",
              " [774, 599076, 463684824],\n",
              " [775, 600625, 465484375],\n",
              " [776, 602176, 467288576],\n",
              " [777, 603729, 469097433],\n",
              " [778, 605284, 470910952],\n",
              " [779, 606841, 472729139],\n",
              " [780, 608400, 474552000],\n",
              " [781, 609961, 476379541],\n",
              " [782, 611524, 478211768],\n",
              " [783, 613089, 480048687],\n",
              " [784, 614656, 481890304],\n",
              " [785, 616225, 483736625],\n",
              " [786, 617796, 485587656],\n",
              " [787, 619369, 487443403],\n",
              " [788, 620944, 489303872],\n",
              " [789, 622521, 491169069],\n",
              " [790, 624100, 493039000],\n",
              " [791, 625681, 494913671],\n",
              " [792, 627264, 496793088],\n",
              " [793, 628849, 498677257],\n",
              " [794, 630436, 500566184],\n",
              " [795, 632025, 502459875],\n",
              " [796, 633616, 504358336],\n",
              " [797, 635209, 506261573],\n",
              " [798, 636804, 508169592],\n",
              " [799, 638401, 510082399],\n",
              " [800, 640000, 512000000],\n",
              " [801, 641601, 513922401],\n",
              " [802, 643204, 515849608],\n",
              " [803, 644809, 517781627],\n",
              " [804, 646416, 519718464],\n",
              " [805, 648025, 521660125],\n",
              " [806, 649636, 523606616],\n",
              " [807, 651249, 525557943],\n",
              " [808, 652864, 527514112],\n",
              " [809, 654481, 529475129],\n",
              " [810, 656100, 531441000],\n",
              " [811, 657721, 533411731],\n",
              " [812, 659344, 535387328],\n",
              " [813, 660969, 537367797],\n",
              " [814, 662596, 539353144],\n",
              " [815, 664225, 541343375],\n",
              " [816, 665856, 543338496],\n",
              " [817, 667489, 545338513],\n",
              " [818, 669124, 547343432],\n",
              " [819, 670761, 549353259],\n",
              " [820, 672400, 551368000],\n",
              " [821, 674041, 553387661],\n",
              " [822, 675684, 555412248],\n",
              " [823, 677329, 557441767],\n",
              " [824, 678976, 559476224],\n",
              " [825, 680625, 561515625],\n",
              " [826, 682276, 563559976],\n",
              " [827, 683929, 565609283],\n",
              " [828, 685584, 567663552],\n",
              " [829, 687241, 569722789],\n",
              " [830, 688900, 571787000],\n",
              " [831, 690561, 573856191],\n",
              " [832, 692224, 575930368],\n",
              " [833, 693889, 578009537],\n",
              " [834, 695556, 580093704],\n",
              " [835, 697225, 582182875],\n",
              " [836, 698896, 584277056],\n",
              " [837, 700569, 586376253],\n",
              " [838, 702244, 588480472],\n",
              " [839, 703921, 590589719],\n",
              " [840, 705600, 592704000],\n",
              " [841, 707281, 594823321],\n",
              " [842, 708964, 596947688],\n",
              " [843, 710649, 599077107],\n",
              " [844, 712336, 601211584],\n",
              " [845, 714025, 603351125],\n",
              " [846, 715716, 605495736],\n",
              " [847, 717409, 607645423],\n",
              " [848, 719104, 609800192],\n",
              " [849, 720801, 611960049],\n",
              " [850, 722500, 614125000],\n",
              " [851, 724201, 616295051],\n",
              " [852, 725904, 618470208],\n",
              " [853, 727609, 620650477],\n",
              " [854, 729316, 622835864],\n",
              " [855, 731025, 625026375],\n",
              " [856, 732736, 627222016],\n",
              " [857, 734449, 629422793],\n",
              " [858, 736164, 631628712],\n",
              " [859, 737881, 633839779],\n",
              " [860, 739600, 636056000],\n",
              " [861, 741321, 638277381],\n",
              " [862, 743044, 640503928],\n",
              " [863, 744769, 642735647],\n",
              " [864, 746496, 644972544],\n",
              " [865, 748225, 647214625],\n",
              " [866, 749956, 649461896],\n",
              " [867, 751689, 651714363],\n",
              " [868, 753424, 653972032],\n",
              " [869, 755161, 656234909],\n",
              " [870, 756900, 658503000],\n",
              " [871, 758641, 660776311],\n",
              " [872, 760384, 663054848],\n",
              " [873, 762129, 665338617],\n",
              " [874, 763876, 667627624],\n",
              " [875, 765625, 669921875],\n",
              " [876, 767376, 672221376],\n",
              " [877, 769129, 674526133],\n",
              " [878, 770884, 676836152],\n",
              " [879, 772641, 679151439],\n",
              " [880, 774400, 681472000],\n",
              " [881, 776161, 683797841],\n",
              " [882, 777924, 686128968],\n",
              " [883, 779689, 688465387],\n",
              " [884, 781456, 690807104],\n",
              " [885, 783225, 693154125],\n",
              " [886, 784996, 695506456],\n",
              " [887, 786769, 697864103],\n",
              " [888, 788544, 700227072],\n",
              " [889, 790321, 702595369],\n",
              " [890, 792100, 704969000],\n",
              " [891, 793881, 707347971],\n",
              " [892, 795664, 709732288],\n",
              " [893, 797449, 712121957],\n",
              " [894, 799236, 714516984],\n",
              " [895, 801025, 716917375],\n",
              " [896, 802816, 719323136],\n",
              " [897, 804609, 721734273],\n",
              " [898, 806404, 724150792],\n",
              " [899, 808201, 726572699],\n",
              " [900, 810000, 729000000],\n",
              " [901, 811801, 731432701],\n",
              " [902, 813604, 733870808],\n",
              " [903, 815409, 736314327],\n",
              " [904, 817216, 738763264],\n",
              " [905, 819025, 741217625],\n",
              " [906, 820836, 743677416],\n",
              " [907, 822649, 746142643],\n",
              " [908, 824464, 748613312],\n",
              " [909, 826281, 751089429],\n",
              " [910, 828100, 753571000],\n",
              " [911, 829921, 756058031],\n",
              " [912, 831744, 758550528],\n",
              " [913, 833569, 761048497],\n",
              " [914, 835396, 763551944],\n",
              " [915, 837225, 766060875],\n",
              " [916, 839056, 768575296],\n",
              " [917, 840889, 771095213],\n",
              " [918, 842724, 773620632],\n",
              " [919, 844561, 776151559],\n",
              " [920, 846400, 778688000],\n",
              " [921, 848241, 781229961],\n",
              " [922, 850084, 783777448],\n",
              " [923, 851929, 786330467],\n",
              " [924, 853776, 788889024],\n",
              " [925, 855625, 791453125],\n",
              " [926, 857476, 794022776],\n",
              " [927, 859329, 796597983],\n",
              " [928, 861184, 799178752],\n",
              " [929, 863041, 801765089],\n",
              " [930, 864900, 804357000],\n",
              " [931, 866761, 806954491],\n",
              " [932, 868624, 809557568],\n",
              " [933, 870489, 812166237],\n",
              " [934, 872356, 814780504],\n",
              " [935, 874225, 817400375],\n",
              " [936, 876096, 820025856],\n",
              " [937, 877969, 822656953],\n",
              " [938, 879844, 825293672],\n",
              " [939, 881721, 827936019],\n",
              " [940, 883600, 830584000],\n",
              " [941, 885481, 833237621],\n",
              " [942, 887364, 835896888],\n",
              " [943, 889249, 838561807],\n",
              " [944, 891136, 841232384],\n",
              " [945, 893025, 843908625],\n",
              " [946, 894916, 846590536],\n",
              " [947, 896809, 849278123],\n",
              " [948, 898704, 851971392],\n",
              " [949, 900601, 854670349],\n",
              " [950, 902500, 857375000],\n",
              " [951, 904401, 860085351],\n",
              " [952, 906304, 862801408],\n",
              " [953, 908209, 865523177],\n",
              " [954, 910116, 868250664],\n",
              " [955, 912025, 870983875],\n",
              " [956, 913936, 873722816],\n",
              " [957, 915849, 876467493],\n",
              " [958, 917764, 879217912],\n",
              " [959, 919681, 881974079],\n",
              " [960, 921600, 884736000],\n",
              " [961, 923521, 887503681],\n",
              " [962, 925444, 890277128],\n",
              " [963, 927369, 893056347],\n",
              " [964, 929296, 895841344],\n",
              " [965, 931225, 898632125],\n",
              " [966, 933156, 901428696],\n",
              " [967, 935089, 904231063],\n",
              " [968, 937024, 907039232],\n",
              " [969, 938961, 909853209],\n",
              " [970, 940900, 912673000],\n",
              " [971, 942841, 915498611],\n",
              " [972, 944784, 918330048],\n",
              " [973, 946729, 921167317],\n",
              " [974, 948676, 924010424],\n",
              " [975, 950625, 926859375],\n",
              " [976, 952576, 929714176],\n",
              " [977, 954529, 932574833],\n",
              " [978, 956484, 935441352],\n",
              " [979, 958441, 938313739],\n",
              " [980, 960400, 941192000],\n",
              " [981, 962361, 944076141],\n",
              " [982, 964324, 946966168],\n",
              " [983, 966289, 949862087],\n",
              " [984, 968256, 952763904],\n",
              " [985, 970225, 955671625],\n",
              " [986, 972196, 958585256],\n",
              " [987, 974169, 961504803],\n",
              " [988, 976144, 964430272],\n",
              " [989, 978121, 967361669],\n",
              " [990, 980100, 970299000],\n",
              " [991, 982081, 973242271],\n",
              " [992, 984064, 976191488],\n",
              " [993, 986049, 979146657],\n",
              " [994, 988036, 982107784],\n",
              " [995, 990025, 985074875],\n",
              " [996, 992016, 988047936],\n",
              " [997, 994009, 991026973],\n",
              " [998, 996004, 994011992],\n",
              " [999, 998001, 997002999],\n",
              " ...]"
            ]
          },
          "metadata": {}
        }
      ],
      "execution_count": 60,
      "metadata": {
        "ExecuteTime": {
          "end_time": "2017-05-12T18:56:49.371074",
          "start_time": "2017-05-12T18:56:49.104626"
        },
        "slideshow": {
          "slide_type": "subslide"
        }
      }
    },
    {
      "cell_type": "code",
      "source": [
        "import pandas as pd"
      ],
      "outputs": [],
      "execution_count": 36,
      "metadata": {
        "ExecuteTime": {
          "end_time": "2019-06-07T08:27:42.063510Z",
          "start_time": "2019-06-07T08:27:42.060768Z"
        },
        "slideshow": {
          "slide_type": "slide"
        }
      }
    },
    {
      "cell_type": "code",
      "source": [
        "help(pd.read_csv)"
      ],
      "outputs": [
        {
          "output_type": "stream",
          "name": "stdout",
          "text": [
            "Help on function read_csv in module pandas.io.parsers:\n",
            "\n",
            "read_csv(filepath_or_buffer, sep=',', delimiter=None, header='infer', names=None, index_col=None, usecols=None, squeeze=False, prefix=None, mangle_dupe_cols=True, dtype=None, engine=None, converters=None, true_values=None, false_values=None, skipinitialspace=False, skiprows=None, skipfooter=None, nrows=None, na_values=None, keep_default_na=True, na_filter=True, verbose=False, skip_blank_lines=True, parse_dates=False, infer_datetime_format=False, keep_date_col=False, date_parser=None, dayfirst=False, iterator=False, chunksize=None, compression='infer', thousands=None, decimal='.', lineterminator=None, quotechar='\"', quoting=0, escapechar=None, comment=None, encoding=None, dialect=None, tupleize_cols=False, error_bad_lines=True, warn_bad_lines=True, skip_footer=0, doublequote=True, delim_whitespace=False, as_recarray=False, compact_ints=False, use_unsigned=False, low_memory=True, buffer_lines=None, memory_map=False, float_precision=None)\n",
            "    Read CSV (comma-separated) file into DataFrame\n",
            "    \n",
            "    Also supports optionally iterating or breaking of the file\n",
            "    into chunks.\n",
            "    \n",
            "    Additional help can be found in the `online docs for IO Tools\n",
            "    <http://pandas.pydata.org/pandas-docs/stable/io.html>`_.\n",
            "    \n",
            "    Parameters\n",
            "    ----------\n",
            "    filepath_or_buffer : str, pathlib.Path, py._path.local.LocalPath or any object with a read() method (such as a file handle or StringIO)\n",
            "        The string could be a URL. Valid URL schemes include http, ftp, s3, and\n",
            "        file. For file URLs, a host is expected. For instance, a local file could\n",
            "        be file ://localhost/path/to/table.csv\n",
            "    sep : str, default ','\n",
            "        Delimiter to use. If sep is None, will try to automatically determine\n",
            "        this. Regular expressions are accepted and will force use of the python\n",
            "        parsing engine and will ignore quotes in the data.\n",
            "    delimiter : str, default None\n",
            "        Alternative argument name for sep.\n",
            "    header : int or list of ints, default 'infer'\n",
            "        Row number(s) to use as the column names, and the start of the data.\n",
            "        Default behavior is as if set to 0 if no ``names`` passed, otherwise\n",
            "        ``None``. Explicitly pass ``header=0`` to be able to replace existing\n",
            "        names. The header can be a list of integers that specify row locations for\n",
            "        a multi-index on the columns e.g. [0,1,3]. Intervening rows that are not\n",
            "        specified will be skipped (e.g. 2 in this example is skipped). Note that\n",
            "        this parameter ignores commented lines and empty lines if\n",
            "        ``skip_blank_lines=True``, so header=0 denotes the first line of data\n",
            "        rather than the first line of the file.\n",
            "    names : array-like, default None\n",
            "        List of column names to use. If file contains no header row, then you\n",
            "        should explicitly pass header=None\n",
            "    index_col : int or sequence or False, default None\n",
            "        Column to use as the row labels of the DataFrame. If a sequence is given, a\n",
            "        MultiIndex is used. If you have a malformed file with delimiters at the end\n",
            "        of each line, you might consider index_col=False to force pandas to _not_\n",
            "        use the first column as the index (row names)\n",
            "    usecols : array-like, default None\n",
            "        Return a subset of the columns.\n",
            "        Results in much faster parsing time and lower memory usage.\n",
            "    squeeze : boolean, default False\n",
            "        If the parsed data only contains one column then return a Series\n",
            "    prefix : str, default None\n",
            "        Prefix to add to column numbers when no header, e.g. 'X' for X0, X1, ...\n",
            "    mangle_dupe_cols : boolean, default True\n",
            "        Duplicate columns will be specified as 'X.0'...'X.N', rather than 'X'...'X'\n",
            "    dtype : Type name or dict of column -> type, default None\n",
            "        Data type for data or columns. E.g. {'a': np.float64, 'b': np.int32}\n",
            "        (Unsupported with engine='python'). Use `str` or `object` to preserve and\n",
            "        not interpret dtype.\n",
            "    engine : {'c', 'python'}, optional\n",
            "        Parser engine to use. The C engine is faster while the python engine is\n",
            "        currently more feature-complete.\n",
            "    converters : dict, default None\n",
            "        Dict of functions for converting values in certain columns. Keys can either\n",
            "        be integers or column labels\n",
            "    true_values : list, default None\n",
            "        Values to consider as True\n",
            "    false_values : list, default None\n",
            "        Values to consider as False\n",
            "    skipinitialspace : boolean, default False\n",
            "        Skip spaces after delimiter.\n",
            "    skiprows : list-like or integer, default None\n",
            "        Line numbers to skip (0-indexed) or number of lines to skip (int)\n",
            "        at the start of the file\n",
            "    skipfooter : int, default 0\n",
            "        Number of lines at bottom of file to skip (Unsupported with engine='c')\n",
            "    nrows : int, default None\n",
            "        Number of rows of file to read. Useful for reading pieces of large files\n",
            "    na_values : str or list-like or dict, default None\n",
            "        Additional strings to recognize as NA/NaN. If dict passed, specific\n",
            "        per-column NA values.  By default the following values are interpreted as\n",
            "        NaN: `''`, `'#N/A'`, `'#N/A N/A'`, `'#NA'`, `'-1.#IND'`, `'-1.#QNAN'`, `'-NaN'`, `'-nan'`, `'1.#IND'`, `'1.#QNAN'`, `'N/A'`, `'NA'`, `'NULL'`, `'NaN'`, `'nan'`.\n",
            "    keep_default_na : bool, default True\n",
            "        If na_values are specified and keep_default_na is False the default NaN\n",
            "        values are overridden, otherwise they're appended to.\n",
            "    na_filter : boolean, default True\n",
            "        Detect missing value markers (empty strings and the value of na_values). In\n",
            "        data without any NAs, passing na_filter=False can improve the performance\n",
            "        of reading a large file\n",
            "    verbose : boolean, default False\n",
            "        Indicate number of NA values placed in non-numeric columns\n",
            "    skip_blank_lines : boolean, default True\n",
            "        If True, skip over blank lines rather than interpreting as NaN values\n",
            "    parse_dates : boolean or list of ints or names or list of lists or dict, default False\n",
            "    \n",
            "        * boolean. If True -> try parsing the index.\n",
            "        * list of ints or names. e.g. If [1, 2, 3] -> try parsing columns 1, 2, 3\n",
            "          each as a separate date column.\n",
            "        * list of lists. e.g.  If [[1, 3]] -> combine columns 1 and 3 and parse as\n",
            "            a single date column.\n",
            "        * dict, e.g. {'foo' : [1, 3]} -> parse columns 1, 3 as date and call result\n",
            "          'foo'\n",
            "    \n",
            "        Note: A fast-path exists for iso8601-formatted dates.\n",
            "    infer_datetime_format : boolean, default False\n",
            "        If True and parse_dates is enabled for a column, attempt to infer\n",
            "        the datetime format to speed up the processing\n",
            "    keep_date_col : boolean, default False\n",
            "        If True and parse_dates specifies combining multiple columns then\n",
            "        keep the original columns.\n",
            "    date_parser : function, default None\n",
            "        Function to use for converting a sequence of string columns to an array of\n",
            "        datetime instances. The default uses ``dateutil.parser.parser`` to do the\n",
            "        conversion. Pandas will try to call date_parser in three different ways,\n",
            "        advancing to the next if an exception occurs: 1) Pass one or more arrays\n",
            "        (as defined by parse_dates) as arguments; 2) concatenate (row-wise) the\n",
            "        string values from the columns defined by parse_dates into a single array\n",
            "        and pass that; and 3) call date_parser once for each row using one or more\n",
            "        strings (corresponding to the columns defined by parse_dates) as arguments.\n",
            "    dayfirst : boolean, default False\n",
            "        DD/MM format dates, international and European format\n",
            "    iterator : boolean, default False\n",
            "        Return TextFileReader object for iteration or getting chunks with\n",
            "        ``get_chunk()``.\n",
            "    chunksize : int, default None\n",
            "        Return TextFileReader object for iteration. `See IO Tools docs for more\n",
            "        information\n",
            "        <http://pandas.pydata.org/pandas-docs/stable/io.html#io-chunking>`_ on\n",
            "        ``iterator`` and ``chunksize``.\n",
            "    compression : {'infer', 'gzip', 'bz2', None}, default 'infer'\n",
            "        For on-the-fly decompression of on-disk data. If 'infer', then use gzip or\n",
            "        bz2 if filepath_or_buffer is a string ending in '.gz' or '.bz2',\n",
            "        respectively, and no decompression otherwise. Set to None for no\n",
            "        decompression.\n",
            "    thousands : str, default None\n",
            "        Thousands separator\n",
            "    decimal : str, default '.'\n",
            "        Character to recognize as decimal point (e.g. use ',' for European data).\n",
            "    lineterminator : str (length 1), default None\n",
            "        Character to break file into lines. Only valid with C parser.\n",
            "    quotechar : str (length 1), optional\n",
            "        The character used to denote the start and end of a quoted item. Quoted\n",
            "        items can include the delimiter and it will be ignored.\n",
            "    quoting : int or csv.QUOTE_* instance, default None\n",
            "        Control field quoting behavior per ``csv.QUOTE_*`` constants. Use one of\n",
            "        QUOTE_MINIMAL (0), QUOTE_ALL (1), QUOTE_NONNUMERIC (2) or QUOTE_NONE (3).\n",
            "        Default (None) results in QUOTE_MINIMAL behavior.\n",
            "    escapechar : str (length 1), default None\n",
            "        One-character string used to escape delimiter when quoting is QUOTE_NONE.\n",
            "    comment : str, default None\n",
            "        Indicates remainder of line should not be parsed. If found at the beginning\n",
            "        of a line, the line will be ignored altogether. This parameter must be a\n",
            "        single character. Like empty lines (as long as ``skip_blank_lines=True``),\n",
            "        fully commented lines are ignored by the parameter `header` but not by\n",
            "        `skiprows`. For example, if comment='#', parsing '#empty\\na,b,c\\n1,2,3'\n",
            "        with `header=0` will result in 'a,b,c' being\n",
            "        treated as the header.\n",
            "    encoding : str, default None\n",
            "        Encoding to use for UTF when reading/writing (ex. 'utf-8'). `List of Python\n",
            "        standard encodings\n",
            "        <https://docs.python.org/3/library/codecs.html#standard-encodings>`_\n",
            "    dialect : str or csv.Dialect instance, default None\n",
            "        If None defaults to Excel dialect. Ignored if sep longer than 1 char\n",
            "        See csv.Dialect documentation for more details\n",
            "    tupleize_cols : boolean, default False\n",
            "        Leave a list of tuples on columns as is (default is to convert to\n",
            "        a Multi Index on the columns)\n",
            "    error_bad_lines : boolean, default True\n",
            "        Lines with too many fields (e.g. a csv line with too many commas) will by\n",
            "        default cause an exception to be raised, and no DataFrame will be returned.\n",
            "        If False, then these \"bad lines\" will dropped from the DataFrame that is\n",
            "        returned. (Only valid with C parser)\n",
            "    warn_bad_lines : boolean, default True\n",
            "        If error_bad_lines is False, and warn_bad_lines is True, a warning for each\n",
            "        \"bad line\" will be output. (Only valid with C parser).\n",
            "    \n",
            "    Returns\n",
            "    -------\n",
            "    result : DataFrame or TextParser\n",
            "\n"
          ]
        }
      ],
      "execution_count": 4,
      "metadata": {
        "ExecuteTime": {
          "end_time": "2017-05-11T22:18:54.212496",
          "start_time": "2017-05-11T22:18:54.207441"
        },
        "slideshow": {
          "slide_type": "subslide"
        }
      }
    },
    {
      "cell_type": "code",
      "source": [
        "df = pd.read_csv('../data/data_write_to_file.txt', \n",
        "                 sep = '\\t', names = ['a', 'b', 'c'])\n",
        "df[-5:]"
      ],
      "outputs": [
        {
          "output_type": "execute_result",
          "execution_count": 37,
          "data": {
            "text/html": [
              "<div>\n",
              "<style scoped>\n",
              "    .dataframe tbody tr th:only-of-type {\n",
              "        vertical-align: middle;\n",
              "    }\n",
              "\n",
              "    .dataframe tbody tr th {\n",
              "        vertical-align: top;\n",
              "    }\n",
              "\n",
              "    .dataframe thead th {\n",
              "        text-align: right;\n",
              "    }\n",
              "</style>\n",
              "<table border=\"1\" class=\"dataframe\">\n",
              "  <thead>\n",
              "    <tr style=\"text-align: right;\">\n",
              "      <th></th>\n",
              "      <th>a</th>\n",
              "      <th>b</th>\n",
              "      <th>c</th>\n",
              "    </tr>\n",
              "  </thead>\n",
              "  <tbody>\n",
              "    <tr>\n",
              "      <th>9995</th>\n",
              "      <td>9995</td>\n",
              "      <td>99900025</td>\n",
              "      <td>998500749875</td>\n",
              "    </tr>\n",
              "    <tr>\n",
              "      <th>9996</th>\n",
              "      <td>9996</td>\n",
              "      <td>99920016</td>\n",
              "      <td>998800479936</td>\n",
              "    </tr>\n",
              "    <tr>\n",
              "      <th>9997</th>\n",
              "      <td>9997</td>\n",
              "      <td>99940009</td>\n",
              "      <td>999100269973</td>\n",
              "    </tr>\n",
              "    <tr>\n",
              "      <th>9998</th>\n",
              "      <td>9998</td>\n",
              "      <td>99960004</td>\n",
              "      <td>999400119992</td>\n",
              "    </tr>\n",
              "    <tr>\n",
              "      <th>9999</th>\n",
              "      <td>9999</td>\n",
              "      <td>99980001</td>\n",
              "      <td>999700029999</td>\n",
              "    </tr>\n",
              "  </tbody>\n",
              "</table>\n",
              "</div>"
            ],
            "text/plain": [
              "         a         b             c\n",
              "9995  9995  99900025  998500749875\n",
              "9996  9996  99920016  998800479936\n",
              "9997  9997  99940009  999100269973\n",
              "9998  9998  99960004  999400119992\n",
              "9999  9999  99980001  999700029999"
            ]
          },
          "metadata": {}
        }
      ],
      "execution_count": 37,
      "metadata": {
        "ExecuteTime": {
          "end_time": "2019-06-07T08:28:28.278718Z",
          "start_time": "2019-06-07T08:28:28.238048Z"
        },
        "slideshow": {
          "slide_type": "subslide"
        }
      }
    },
    {
      "cell_type": "markdown",
      "source": [
        "# 保存中间步骤产生的字典数据"
      ],
      "metadata": {
        "slideshow": {
          "slide_type": "slide"
        }
      }
    },
    {
      "cell_type": "code",
      "source": [
        "import json\n",
        "data_dict = {'a':1, 'b':2, 'c':3}\n",
        "with open('../data/save_dict.json', 'w') as f:\n",
        "    json.dump(data_dict, f)"
      ],
      "outputs": [],
      "execution_count": 68,
      "metadata": {
        "ExecuteTime": {
          "end_time": "2018-04-27T07:10:48.393428Z",
          "start_time": "2018-04-27T07:10:48.384846Z"
        },
        "slideshow": {
          "slide_type": "fragment"
        }
      }
    },
    {
      "cell_type": "code",
      "source": [
        "dd = json.load(open(\"../data/save_dict.json\"))\n",
        "dd"
      ],
      "outputs": [
        {
          "output_type": "execute_result",
          "execution_count": 38,
          "data": {
            "text/plain": [
              "{'a': 1, 'b': 2, 'c': 3}"
            ]
          },
          "metadata": {}
        }
      ],
      "execution_count": 38,
      "metadata": {
        "ExecuteTime": {
          "end_time": "2019-06-07T08:29:41.732255Z",
          "start_time": "2019-06-07T08:29:41.727053Z"
        },
        "slideshow": {
          "slide_type": "fragment"
        }
      }
    },
    {
      "cell_type": "markdown",
      "source": [
        "## 重新读入json"
      ],
      "metadata": {
        "slideshow": {
          "slide_type": "fragment"
        }
      }
    },
    {
      "cell_type": "markdown",
      "source": [
        "# 保存中间步骤产生的列表数据"
      ],
      "metadata": {
        "slideshow": {
          "slide_type": "slide"
        }
      }
    },
    {
      "cell_type": "code",
      "source": [
        "data_list = list(range(10))\n",
        "with open('../data/save_list.json', 'w') as f:\n",
        "    json.dump(data_list, f)"
      ],
      "outputs": [],
      "execution_count": 71,
      "metadata": {
        "ExecuteTime": {
          "end_time": "2018-04-27T07:11:56.415515Z",
          "start_time": "2018-04-27T07:11:56.411564Z"
        },
        "slideshow": {
          "slide_type": "fragment"
        }
      }
    },
    {
      "cell_type": "code",
      "source": [
        "dl = json.load(open(\"../data/save_list.json\"))\n",
        "dl"
      ],
      "outputs": [
        {
          "output_type": "execute_result",
          "execution_count": 72,
          "data": {
            "text/plain": [
              "[0, 1, 2, 3, 4, 5, 6, 7, 8, 9]"
            ]
          },
          "metadata": {}
        }
      ],
      "execution_count": 72,
      "metadata": {
        "ExecuteTime": {
          "end_time": "2018-04-27T07:12:32.842754Z",
          "start_time": "2018-04-27T07:12:32.837820Z"
        },
        "slideshow": {
          "slide_type": "fragment"
        }
      }
    },
    {
      "cell_type": "markdown",
      "source": [
        "# 使用matplotlib绘图"
      ],
      "metadata": {
        "slideshow": {
          "slide_type": "slide"
        }
      }
    },
    {
      "cell_type": "code",
      "source": [
        "%matplotlib inline\n",
        "\n",
        "import matplotlib.pyplot as plt\n",
        "x = range(1, 100)\n",
        "y = [i**-3 for i in x]\n",
        "plt.plot(x, y, 'b-s')\n",
        "plt.ylabel('$p(k)$', fontsize = 20)\n",
        "plt.xlabel('$k$', fontsize = 20)\n",
        "plt.xscale('log')\n",
        "plt.yscale('log')\n",
        "plt.title('Degree Distribution')\n",
        "plt.show()"
      ],
      "outputs": [
        {
          "output_type": "display_data",
          "data": {
            "image/png": "[encoded data removed]",
            "text/plain": [
              "<Figure size 432x288 with 1 Axes>"
            ]
          },
          "metadata": {}
        }
      ],
      "execution_count": 41,
      "metadata": {
        "ExecuteTime": {
          "end_time": "2019-06-07T08:31:51.190898Z",
          "start_time": "2019-06-07T08:31:50.419496Z"
        },
        "slideshow": {
          "slide_type": "subslide"
        }
      }
    },
    {
      "cell_type": "code",
      "source": [
        "import numpy as np\n",
        "# red dashes, blue squares and green triangles\n",
        "t = np.arange(0., 5., 0.2)\n",
        "plt.plot(t, t, 'r--')\n",
        "plt.plot(t, t**2, 'bs')\n",
        "plt.plot(t, t**3, 'g^')\n",
        "plt.show()"
      ],
      "outputs": [
        {
          "output_type": "display_data",
          "data": {
            "image/png": "[encoded data removed]",
            "text/plain": [
              "<Figure size 432x288 with 1 Axes>"
            ]
          },
          "metadata": {}
        }
      ],
      "execution_count": 42,
      "metadata": {
        "ExecuteTime": {
          "end_time": "2019-06-07T08:32:20.805797Z",
          "start_time": "2019-06-07T08:32:20.592198Z"
        },
        "slideshow": {
          "slide_type": "subslide"
        }
      }
    },
    {
      "cell_type": "code",
      "source": [
        "# red dashes, blue squares and green triangles\n",
        "t = np.arange(0., 5., 0.2)\n",
        "plt.plot(t, t**2, 'b-s', label = '1')\n",
        "plt.plot(t, t**2.5, 'r-o', label = '2')\n",
        "plt.plot(t, t**3, 'g-^', label = '3')\n",
        "plt.annotate(r'$\\alpha = 3$', xy=(3.5, 40), xytext=(2, 80),\n",
        "            arrowprops=dict(facecolor='black', shrink=0.05),\n",
        "            fontsize = 20)\n",
        "plt.ylabel('$f(t)$', fontsize = 20)\n",
        "plt.xlabel('$t$', fontsize = 20)\n",
        "plt.legend(loc=2,numpoints=1,fontsize=10)\n",
        "plt.show()\n",
        "# plt.savefig('/Users/chengjun/GitHub/cjc/figure/save_figure.png',\n",
        "#             dpi = 300, bbox_inches=\"tight\",transparent = True)\n"
      ],
      "outputs": [
        {
          "output_type": "display_data",
          "data": {
            "image/png": "[encoded data removed]",
            "text/plain": [
              "<Figure size 432x288 with 1 Axes>"
            ]
          },
          "metadata": {}
        }
      ],
      "execution_count": 43,
      "metadata": {
        "ExecuteTime": {
          "end_time": "2019-06-07T08:33:26.540992Z",
          "start_time": "2019-06-07T08:33:26.292284Z"
        },
        "slideshow": {
          "slide_type": "subslide"
        }
      }
    },
    {
      "cell_type": "code",
      "source": [
        "import matplotlib.pyplot as plt\n",
        "import seaborn as sns\n",
        "plt.figure(figsize=(5,5))\n",
        "sns.set(style=\"whitegrid\")"
      ],
      "outputs": [],
      "execution_count": null,
      "metadata": {}
    },
    {
      "cell_type": "code",
      "source": [
        "plt.figure(1)\n",
        "plt.subplot(221)\n",
        "plt.plot(t, t, 'r--')\n",
        "plt.text(2, 0.8*np.max(t), r'$\\alpha = 1$', fontsize = 20)\n",
        "plt.subplot(222)\n",
        "plt.plot(t, t**2, 'bs')\n",
        "plt.text(2, 0.8*np.max(t**2), r'$\\alpha = 2$', fontsize = 20)\n",
        "plt.subplot(223)\n",
        "plt.plot(t, t**3, 'g^')\n",
        "plt.text(2, 0.8*np.max(t**3), r'$\\alpha = 3$', fontsize = 20)\n",
        "plt.subplot(224)\n",
        "plt.plot(t, t**4, 'r-o')\n",
        "plt.text(2, 0.8*np.max(t**4), r'$\\alpha = 4$', fontsize = 20)\n",
        "plt.show()"
      ],
      "outputs": [
        {
          "output_type": "display_data",
          "data": {
            "image/png": "[encoded data removed]",
            "text/plain": [
              "<Figure size 432x288 with 4 Axes>"
            ]
          },
          "metadata": {}
        }
      ],
      "execution_count": 44,
      "metadata": {
        "ExecuteTime": {
          "end_time": "2019-06-07T08:34:00.646076Z",
          "start_time": "2019-06-07T08:34:00.215086Z"
        },
        "slideshow": {
          "slide_type": "subslide"
        }
      }
    },
    {
      "cell_type": "code",
      "source": [
        "def f(t):\n",
        "    return np.exp(-t) * np.cos(2*np.pi*t)\n",
        "\n",
        "t1 = np.arange(0.0, 5.0, 0.1)\n",
        "t2 = np.arange(0.0, 5.0, 0.02)"
      ],
      "outputs": [],
      "execution_count": 4,
      "metadata": {
        "collapsed": true,
        "slideshow": {
          "slide_type": "subslide"
        }
      }
    },
    {
      "cell_type": "code",
      "source": [
        "plt.figure(1)\n",
        "plt.subplot(211)\n",
        "plt.plot(t1, f(t1), 'bo')\n",
        "plt.plot(t2, f(t2), 'k')\n",
        "\n",
        "plt.subplot(212)\n",
        "plt.plot(t2, np.cos(2*np.pi*t2), 'r--')\n",
        "plt.show()"
      ],
      "outputs": [
        {
          "output_type": "display_data",
          "data": {
            "image/png": "[encoded data removed]",
            "text/plain": [
              "<matplotlib.figure.Figure at 0x108cbdd50>"
            ]
          },
          "metadata": {}
        }
      ],
      "execution_count": 5,
      "metadata": {
        "slideshow": {
          "slide_type": "subslide"
        }
      }
    },
    {
      "cell_type": "code",
      "source": [
        "import matplotlib.gridspec as gridspec\n",
        "import numpy as np\n",
        "\n",
        "t = np.arange(0., 5., 0.2)\n",
        "\n",
        "gs = gridspec.GridSpec(3, 3)\n",
        "ax1 = plt.subplot(gs[0, :])\n",
        "plt.plot(t, t**2, 'b-s')\n",
        "ax2 = plt.subplot(gs[1,:-1])\n",
        "plt.plot(t, t**2, 'g-s')\n",
        "ax3 = plt.subplot(gs[1:, -1])\n",
        "plt.plot(t, t**2, 'r-o')\n",
        "ax4 = plt.subplot(gs[-1,0])\n",
        "plt.plot(t, t**2, 'g-^')\n",
        "ax5 = plt.subplot(gs[-1,1])\n",
        "plt.plot(t, t**2, 'b-<')\n",
        "plt.tight_layout()"
      ],
      "outputs": [
        {
          "output_type": "display_data",
          "data": {
            "image/png": "[encoded data removed]",
            "text/plain": [
              "<matplotlib.figure.Figure at 0x10a2fa890>"
            ]
          },
          "metadata": {}
        }
      ],
      "execution_count": 4,
      "metadata": {
        "ExecuteTime": {
          "end_time": "2017-05-13T09:23:13.850060",
          "start_time": "2017-05-13T09:23:13.255032"
        },
        "slideshow": {
          "slide_type": "subslide"
        }
      }
    },
    {
      "cell_type": "code",
      "source": [
        "\n",
        "def OLSRegressPlot(x,y,col,xlab,ylab):\n",
        "    xx = sm.add_constant(x, prepend=True)\n",
        "    res = sm.OLS(y,xx).fit()\n",
        "    constant, beta = res.params\n",
        "    r2 = res.rsquared\n",
        "    lab = r'$\\beta = %.2f, \\,R^2 = %.2f$' %(beta,r2)\n",
        "    plt.scatter(x,y,s=60,facecolors='none', edgecolors=col)\n",
        "    plt.plot(x,constant + x*beta,\"red\",label=lab)\n",
        "    plt.legend(loc = 'upper left',fontsize=16)\n",
        "    plt.xlabel(xlab,fontsize=26)\n",
        "    plt.ylabel(ylab,fontsize=26)"
      ],
      "outputs": [],
      "execution_count": 45,
      "metadata": {
        "ExecuteTime": {
          "end_time": "2019-06-07T08:35:14.708956Z",
          "start_time": "2019-06-07T08:35:14.695191Z"
        },
        "code_folding": [
          1
        ],
        "slideshow": {
          "slide_type": "subslide"
        }
      }
    },
    {
      "cell_type": "code",
      "source": [
        "x = np.random.randn(50)\n",
        "y = np.random.randn(50) + 3*x\n",
        "pearsonr(x, y)\n",
        "fig = plt.figure(figsize=(10, 4),facecolor='white')\n",
        "OLSRegressPlot(x,y,'RoyalBlue',r'$x$',r'$y$')\n",
        "plt.show()\n"
      ],
      "outputs": [
        {
          "output_type": "display_data",
          "data": {
            "image/png": "[encoded data removed]",
            "text/plain": [
              "<Figure size 720x288 with 1 Axes>"
            ]
          },
          "metadata": {}
        }
      ],
      "execution_count": 46,
      "metadata": {
        "ExecuteTime": {
          "end_time": "2019-06-07T08:35:29.415424Z",
          "start_time": "2019-06-07T08:35:29.157757Z"
        }
      }
    },
    {
      "cell_type": "code",
      "source": [
        "fig = plt.figure(figsize=(7, 4),facecolor='white')\n",
        "data = norm.rvs(10.0, 2.5, size=5000)\n",
        "mu, std = norm.fit(data)\n",
        "plt.hist(data, bins=25, normed=True, alpha=0.6, color='g')\n",
        "xmin, xmax = plt.xlim()\n",
        "x = np.linspace(xmin, xmax, 100)\n",
        "p = norm.pdf(x, mu, std)\n",
        "plt.plot(x, p, 'r', linewidth=2)\n",
        "title = r\"$\\mu = %.2f, \\,  \\sigma = %.2f$\" % (mu, std)\n",
        "plt.title(title,size=16)\n",
        "plt.show()"
      ],
      "outputs": [
        {
          "output_type": "display_data",
          "data": {
            "image/png": "[encoded data removed]",
            "text/plain": [
              "<matplotlib.figure.Figure at 0x114197590>"
            ]
          },
          "metadata": {}
        }
      ],
      "execution_count": 206,
      "metadata": {
        "slideshow": {
          "slide_type": "subslide"
        }
      }
    },
    {
      "cell_type": "code",
      "source": [
        "import pandas as pd\n",
        "df = pd.read_csv('../data/data_write_to_file.txt', sep = '\\t', names = ['a', 'b', 'c'])\n",
        "df[:5]"
      ],
      "outputs": [
        {
          "output_type": "execute_result",
          "execution_count": 47,
          "data": {
            "text/html": [
              "<div>\n",
              "<style scoped>\n",
              "    .dataframe tbody tr th:only-of-type {\n",
              "        vertical-align: middle;\n",
              "    }\n",
              "\n",
              "    .dataframe tbody tr th {\n",
              "        vertical-align: top;\n",
              "    }\n",
              "\n",
              "    .dataframe thead th {\n",
              "        text-align: right;\n",
              "    }\n",
              "</style>\n",
              "<table border=\"1\" class=\"dataframe\">\n",
              "  <thead>\n",
              "    <tr style=\"text-align: right;\">\n",
              "      <th></th>\n",
              "      <th>a</th>\n",
              "      <th>b</th>\n",
              "      <th>c</th>\n",
              "    </tr>\n",
              "  </thead>\n",
              "  <tbody>\n",
              "    <tr>\n",
              "      <th>0</th>\n",
              "      <td>0</td>\n",
              "      <td>0</td>\n",
              "      <td>0</td>\n",
              "    </tr>\n",
              "    <tr>\n",
              "      <th>1</th>\n",
              "      <td>1</td>\n",
              "      <td>1</td>\n",
              "      <td>1</td>\n",
              "    </tr>\n",
              "    <tr>\n",
              "      <th>2</th>\n",
              "      <td>2</td>\n",
              "      <td>4</td>\n",
              "      <td>8</td>\n",
              "    </tr>\n",
              "    <tr>\n",
              "      <th>3</th>\n",
              "      <td>3</td>\n",
              "      <td>9</td>\n",
              "      <td>27</td>\n",
              "    </tr>\n",
              "    <tr>\n",
              "      <th>4</th>\n",
              "      <td>4</td>\n",
              "      <td>16</td>\n",
              "      <td>64</td>\n",
              "    </tr>\n",
              "  </tbody>\n",
              "</table>\n",
              "</div>"
            ],
            "text/plain": [
              "   a   b   c\n",
              "0  0   0   0\n",
              "1  1   1   1\n",
              "2  2   4   8\n",
              "3  3   9  27\n",
              "4  4  16  64"
            ]
          },
          "metadata": {}
        }
      ],
      "execution_count": 47,
      "metadata": {
        "ExecuteTime": {
          "end_time": "2019-06-07T08:36:49.566655Z",
          "start_time": "2019-06-07T08:36:49.550926Z"
        },
        "slideshow": {
          "slide_type": "slide"
        }
      }
    },
    {
      "cell_type": "code",
      "source": [
        "df.plot.line()\n",
        "plt.yscale('log')\n",
        "plt.ylabel('$values$', fontsize = 20)\n",
        "plt.xlabel('$index$', fontsize = 20)\n",
        "plt.show()"
      ],
      "outputs": [
        {
          "output_type": "display_data",
          "data": {
            "image/png": "[encoded data removed]",
            "text/plain": [
              "<matplotlib.figure.Figure at 0x11a3fc048>"
            ]
          },
          "metadata": {}
        }
      ],
      "execution_count": 7,
      "metadata": {
        "ExecuteTime": {
          "end_time": "2017-05-11T22:21:09.150592",
          "start_time": "2017-05-11T22:21:08.103623"
        },
        "slideshow": {
          "slide_type": "subslide"
        }
      }
    },
    {
      "cell_type": "code",
      "source": [
        "df.plot.scatter(x='a', y='b')\n",
        "plt.show()"
      ],
      "outputs": [
        {
          "output_type": "display_data",
          "data": {
            "image/png": "[encoded data removed]",
            "text/plain": [
              "<matplotlib.figure.Figure at 0x118312150>"
            ]
          },
          "metadata": {}
        }
      ],
      "execution_count": 27,
      "metadata": {
        "ExecuteTime": {
          "end_time": "2017-05-11T22:32:42.105831",
          "start_time": "2017-05-11T22:32:41.789998"
        },
        "slideshow": {
          "slide_type": "subslide"
        }
      }
    },
    {
      "cell_type": "code",
      "source": [
        "df.plot.hexbin(x='a', y='b', gridsize=25)\n",
        "plt.show()"
      ],
      "outputs": [
        {
          "output_type": "display_data",
          "data": {
            "image/png": "[encoded data removed]",
            "text/plain": [
              "<matplotlib.figure.Figure at 0x1136cc310>"
            ]
          },
          "metadata": {}
        }
      ],
      "execution_count": 18,
      "metadata": {
        "ExecuteTime": {
          "end_time": "2017-05-11T22:26:59.893837",
          "start_time": "2017-05-11T22:26:59.528857"
        },
        "slideshow": {
          "slide_type": "subslide"
        }
      }
    },
    {
      "cell_type": "code",
      "source": [
        "df['a'].plot.kde()\n",
        "plt.show()"
      ],
      "outputs": [
        {
          "output_type": "display_data",
          "data": {
            "image/png": "[encoded data removed]",
            "text/plain": [
              "<matplotlib.figure.Figure at 0x1138f4350>"
            ]
          },
          "metadata": {}
        }
      ],
      "execution_count": 22,
      "metadata": {
        "ExecuteTime": {
          "end_time": "2017-05-11T22:28:39.025521",
          "start_time": "2017-05-11T22:28:38.630099"
        },
        "slideshow": {
          "slide_type": "subslide"
        }
      }
    },
    {
      "cell_type": "code",
      "source": [
        "bp = df.boxplot()\n",
        "plt.yscale('log')\n",
        "plt.show()"
      ],
      "outputs": [
        {
          "output_type": "stream",
          "name": "stderr",
          "text": [
            "/Users/chengjun/anaconda/lib/python2.7/site-packages/ipykernel/__main__.py:1: FutureWarning: \n",
            "The default value for 'return_type' will change to 'axes' in a future release.\n",
            " To use the future behavior now, set return_type='axes'.\n",
            " To keep the previous behavior and silence this warning, set return_type='dict'.\n",
            "  if __name__ == '__main__':\n"
          ]
        },
        {
          "output_type": "display_data",
          "data": {
            "image/png": "[encoded data removed]",
            "text/plain": [
              "<matplotlib.figure.Figure at 0x113a708d0>"
            ]
          },
          "metadata": {}
        }
      ],
      "execution_count": 32,
      "metadata": {
        "ExecuteTime": {
          "end_time": "2017-05-11T22:37:06.791001",
          "start_time": "2017-05-11T22:37:06.226303"
        },
        "slideshow": {
          "slide_type": "subslide"
        }
      }
    },
    {
      "cell_type": "code",
      "source": [
        "df['c'].diff().hist()\n",
        "plt.show()"
      ],
      "outputs": [
        {
          "output_type": "display_data",
          "data": {
            "image/png": "[encoded data removed]",
            "text/plain": [
              "<matplotlib.figure.Figure at 0x11a0b9890>"
            ]
          },
          "metadata": {}
        }
      ],
      "execution_count": 41,
      "metadata": {
        "ExecuteTime": {
          "end_time": "2017-05-11T22:39:16.120016",
          "start_time": "2017-05-11T22:39:15.913844"
        },
        "slideshow": {
          "slide_type": "subslide"
        }
      }
    },
    {
      "cell_type": "code",
      "source": [
        "df.plot.hist(stacked=True, bins=20)\n",
        "# plt.yscale('log')\n",
        "plt.show()"
      ],
      "outputs": [
        {
          "output_type": "display_data",
          "data": {
            "image/png": "[encoded data removed]",
            "text/plain": [
              "<matplotlib.figure.Figure at 0x11905c310>"
            ]
          },
          "metadata": {}
        }
      ],
      "execution_count": 45,
      "metadata": {
        "ExecuteTime": {
          "end_time": "2017-05-11T22:40:14.418943",
          "start_time": "2017-05-11T22:40:14.037032"
        },
        "slideshow": {
          "slide_type": "subslide"
        }
      }
    },
    {
      "cell_type": "markdown",
      "source": [
        "> To be a programmer is to develop a carefully managed relationship with error. There's no getting around it. You either make your accommodations with failure, or the work will become intolerable.\n",
        "\n",
        "Ellen Ullman  （an American computer programmer and author）\n",
        "\n",
        "<a href=\"http://www.azquotes.com/quote/1385379\" title=\"Ellen Ullman quote\"><img src=\"http://www.azquotes.com/picture-quotes/quote-to-be-a-programmer-is-to-develop-a-carefully-managed-relationship-with-error-there-s-ellen-ullman-138-53-79.jpg\" alt=\"To be a programmer is to develop a carefully managed relationship with error. There's no getting around it. You either make your accommodations with failure, or the work will become intolerable. - Ellen Ullman\"></a>"
      ],
      "metadata": {
        "slideshow": {
          "slide_type": "slide"
        }
      }
    },
    {
      "cell_type": "markdown",
      "source": [
        "# This is the end.\n",
        "> Thank you for your attention."
      ],
      "metadata": {
        "slideshow": {
          "slide_type": "slide"
        }
      }
    }
  ],
  "metadata": {
    "celltoolbar": "Slideshow",
    "kernelspec": {
      "name": "python3",
      "language": "python",
      "display_name": "Python 3"
    },
    "language_info": {
      "name": "python",
      "version": "3.7.3",
      "mimetype": "text/x-python",
      "codemirror_mode": {
        "name": "ipython",
        "version": 3
      },
      "pygments_lexer": "ipython3",
      "nbconvert_exporter": "python",
      "file_extension": ".py"
    },
    "latex_envs": {
      "report_style_numbering": false,
      "hotkeys": {
        "equation": "Ctrl-E",
        "itemize": "Ctrl-I"
      },
      "LaTeX_envs_menu_present": true,
      "autocomplete": true,
      "autoclose": false,
      "eqNumInitial": 0,
      "bibliofile": "biblio.bib",
      "latex_user_defs": false,
      "current_citInitial": 1,
      "eqLabelWithNumbers": true,
      "labels_anchors": false,
      "cite_by": "apalike",
      "user_envs_cfg": false
    },
    "toc": {
      "toc_position": {
        "height": "48px",
        "left": "1263px",
        "top": "0px",
        "width": "159px"
      },
      "skip_h1_title": false,
      "number_sections": false,
      "title_cell": "Table of Contents",
      "toc_window_display": true,
      "base_numbering": 1,
      "toc_section_display": false,
      "title_sidebar": "Contents",
      "toc_cell": false,
      "nav_menu": {},
      "sideBar": false
    },
    "toc_position": {
      "height": "339px",
      "left": "1245.99px",
      "right": "20px",
      "top": "120px",
      "width": "196px"
    },
    "kernel_info": {
      "name": "python3"
    },
    "nteract": {
      "version": "0.15.0"
    }
  },
  "nbformat": 4,
  "nbformat_minor": 1
}