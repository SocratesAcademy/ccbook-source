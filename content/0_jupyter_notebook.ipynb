{
 "cells": [
  {
   "cell_type": "markdown",
   "metadata": {
    "slideshow": {
     "slide_type": "slide"
    }
   },
   "source": [
    "# The Jupyter Notebook \n",
    "\n",
    "It is a **```web application```** that allows you to create and share documents that contain \n",
    "- live code\n",
    "- equations\n",
    "- visualizations\n",
    "- explanatory text\n",
    "\n"
   ]
  },
  {
   "cell_type": "markdown",
   "metadata": {},
   "source": [
    "## Publish on Github Pages\n",
    "\n",
    "1. Confirm that your book's HTML is built. You should see a collection of HTML files/folders in the **_site** folder.\n",
    "2. Install the ghp-import tool. This is a command-line tool for quickly pushing some built HTML to a GitHub-pages branch.\n",
    "\n",
    "```\n",
    "pip install ghp-import\n",
    "```\n",
    "\n",
    "3. Use ghp-import to push your book's HTML onto the gh-pages branch of your repository.\n",
    "\n",
    "```\n",
    "\n",
    "ghp-import -n -p -f _site\n",
    "```\n",
    "\n",
    "https://jupyterbook.org/guide/publish/github-pages.html\n"
   ]
  },
  {
   "cell_type": "markdown",
   "metadata": {
    "slideshow": {
     "slide_type": "subslide"
    },
    "toc": true
   },
   "source": [
    "<h1>Table of Contents<span class=\"tocSkip\"></span></h1>\n",
    "<div class=\"toc\"><ul class=\"toc-item\"><li><span><a href=\"#The-Jupyter-Notebook\" data-toc-modified-id=\"The-Jupyter-Notebook-1\">The Jupyter Notebook</a></span><ul class=\"toc-item\"><li><span><a href=\"#Publish-on-Github-Pages\" data-toc-modified-id=\"Publish-on-Github-Pages-1.1\">Publish on Github Pages</a></span></li></ul></li><li><span><a href=\"#引用\" data-toc-modified-id=\"引用-2\">引用</a></span></li><li><span><a href=\"#一级标题\" data-toc-modified-id=\"一级标题-3\">一级标题</a></span><ul class=\"toc-item\"><li><span><a href=\"#二级标题\" data-toc-modified-id=\"二级标题-3.1\">二级标题</a></span></li></ul></li><li><span><a href=\"#搜狗输入法表情和符号\" data-toc-modified-id=\"搜狗输入法表情和符号-4\">搜狗输入法表情和符号</a></span></li><li><span><a href=\"#运行C代码\" data-toc-modified-id=\"运行C代码-5\">运行C代码</a></span></li><li><span><a href=\"#Jupyter-魔术命令\" data-toc-modified-id=\"Jupyter-魔术命令-6\">Jupyter 魔术命令</a></span></li><li><span><a href=\"#References\" data-toc-modified-id=\"References-7\">References</a></span></li></ul></div>"
   ]
  },
  {
   "cell_type": "code",
   "execution_count": 3,
   "metadata": {
    "ExecuteTime": {
     "end_time": "2019-06-07T06:20:48.965852Z",
     "start_time": "2019-06-07T06:20:48.961831Z"
    },
    "slideshow": {
     "slide_type": "slide"
    }
   },
   "outputs": [
    {
     "name": "stdout",
     "output_type": "stream",
     "text": [
      "hello world! \n",
      " I am Cheng-Jun Wang.\n"
     ]
    }
   ],
   "source": [
    "# my first python script\n",
    "print(\"hello world! \\n I am Cheng-Jun Wang.\")"
   ]
  },
  {
   "cell_type": "markdown",
   "metadata": {
    "ExecuteTime": {
     "end_time": "2016-10-21T19:12:33.661328",
     "start_time": "2016-10-21T19:12:33.656067"
    },
    "slideshow": {
     "slide_type": "subslide"
    }
   },
   "source": [
    "Uses include: \n",
    "- data cleaning and transformation, \n",
    "- numerical simulation, \n",
    "- statistical modeling, \n",
    "- machine learning \n",
    "- and much more.\n"
   ]
  },
  {
   "cell_type": "code",
   "execution_count": 7,
   "metadata": {
    "ExecuteTime": {
     "end_time": "2018-04-19T10:28:58.352412Z",
     "start_time": "2018-04-19T10:28:58.348441Z"
    },
    "slideshow": {
     "slide_type": "slide"
    }
   },
   "outputs": [
    {
     "name": "stdout",
     "output_type": "stream",
     "text": [
      "hello world\n"
     ]
    }
   ],
   "source": [
    "print('hello world')"
   ]
  },
  {
   "cell_type": "code",
   "execution_count": 8,
   "metadata": {
    "ExecuteTime": {
     "end_time": "2018-04-19T10:28:58.839512Z",
     "start_time": "2018-04-19T10:28:58.828146Z"
    },
    "slideshow": {
     "slide_type": "slide"
    }
   },
   "outputs": [
    {
     "data": {
      "text/plain": [
       "2"
      ]
     },
     "execution_count": 8,
     "metadata": {},
     "output_type": "execute_result"
    }
   ],
   "source": [
    "1 + 1"
   ]
  },
  {
   "cell_type": "markdown",
   "metadata": {
    "slideshow": {
     "slide_type": "slide"
    }
   },
   "source": [
    "$E = MC^2$"
   ]
  },
  {
   "cell_type": "markdown",
   "metadata": {
    "ExecuteTime": {
     "end_time": "2016-10-24T22:38:25.581356",
     "start_time": "2016-10-24T22:38:25.576650"
    },
    "slideshow": {
     "slide_type": "subslide"
    }
   },
   "source": [
    "\\begin{align}\n",
    "\\dot{x} & = \\sigma(y-x) \\\\\n",
    "\\dot{y} & = \\rho x - y - xz \\\\\n",
    "\\dot{z} & = -\\beta z + xy\n",
    "\\end{align}"
   ]
  },
  {
   "cell_type": "markdown",
   "metadata": {
    "slideshow": {
     "slide_type": "slide"
    }
   },
   "source": [
    "# 引用\n",
    "\n",
    "Because jupyter-book is built on top of Jekyll, we can use the excellent `jekyll-scholar` plugin to include citations and a bibliography with your book.\n",
    "\n",
    "Note: It only works if you're building your book HTML locally and hosting the HTML files online somewhere. \n",
    "\n",
    "\n",
    "\n",
    "\n",
    "{% cite holdgraf_evidence_2014 %}\n",
    "\n",
    "For example, this text: {% cite holdgraf_evidence_2014 %} generates this citation:\n",
    "\n",
    "\n",
    "https://jupyterbook.org/features/citations.html\n"
   ]
  },
  {
   "cell_type": "markdown",
   "metadata": {
    "slideshow": {
     "slide_type": "slide"
    }
   },
   "source": [
    "# 一级标题\n",
    "## 二级标题\n",
    "[复旦大学](http://www.fdu.edu.cn)是一个*非常棒*的大学！\n",
    "\n",
    "1. point 1\n",
    "1. point 2\n",
    "1. point 3"
   ]
  },
  {
   "cell_type": "markdown",
   "metadata": {
    "tags": [
     "blockquote"
    ]
   },
   "source": [
    "> Here's an example of an epigraph quote. Note that in this case, the quote itself is a bit larger and italicized. You probably shouldn't make this too long so that they don't stand out too much. - Jo the Jovyan"
   ]
  },
  {
   "cell_type": "markdown",
   "metadata": {
    "ExecuteTime": {
     "end_time": "2019-10-12T01:15:39.993593Z",
     "start_time": "2019-10-12T01:15:39.989621Z"
    },
    "slideshow": {
     "slide_type": "slide"
    },
    "tags": [
     "popout"
    ]
   },
   "source": [
    "\n",
    "For example, here's some popout content! It was created by adding the popout tag to a cell in the notebook. Jupyter Book automatically converts these cells into helpful side content.\n",
    "\n",
    "To enable the cell tag editor, go click View -> Cell Toolbar -> Tags. This will enable the tags UI. Here's what the menu looks like."
   ]
  },
  {
   "cell_type": "markdown",
   "metadata": {
    "ExecuteTime": {
     "end_time": "2019-10-11T17:20:03.906713Z",
     "start_time": "2019-10-11T17:20:03.900878Z"
    },
    "slideshow": {
     "slide_type": "slide"
    }
   },
   "source": [
    "# 搜狗输入法表情和符号\n",
    "\n",
    "- ∫ ∑ ※ ➕➖✖️➗ ❎ √ ×\n",
    "- 😪😠😡😎☺️😁📚🌲\n",
    "- 👌👍👎👂👃👀✋❌💰🌂\n",
    "- 0️⃣1️⃣2️⃣3️⃣4️⃣5️⃣6️⃣7️⃣8️⃣9️⃣②🔟 \n",
    "- 🐶🐱🐔🐷🐖🐴🐎🐂🐑🐯🐧🐺🐒🐵🐻🐦🐲\n",
    "- 💻 🌈🌎☁️❄️🏃♀👩👱✨\n",
    "- 🆚🔥🌹✈️🌉🎄\n",
    "\n",
    "(✿◡‿◡)害羞 ⁄(⁄ ⁄•⁄ω⁄•⁄ ⁄)⁄ d=====(￣▽￣*)b厉害 \n",
    "\n",
    "我是我，不一样花火。～(￣▽￣～)(～￣▽￣)～ 矜持 "
   ]
  },
  {
   "cell_type": "code",
   "execution_count": 6,
   "metadata": {
    "ExecuteTime": {
     "end_time": "2019-10-12T01:31:23.527827Z",
     "start_time": "2019-10-12T01:31:22.155233Z"
    }
   },
   "outputs": [
    {
     "data": {
      "image/png": "[encoded data removed]",
      "text/plain": [
       "<Figure size 432x288 with 1 Axes>"
      ]
     },
     "metadata": {
      "needs_background": "light"
     },
     "output_type": "display_data"
    }
   ],
   "source": [
    "%matplotlib inline\n",
    "import matplotlib.pyplot as plt\n",
    "\n",
    "xi = [1, 2, 3, 4, 5]\n",
    "y = [3, 5, 9, 13, 16]\n",
    "\n",
    "plt.plot(xi, y, 'g-s')\n",
    "plt.xlabel('$x_i$', fontsize = 20)\n",
    "plt.ylabel('$y$', fontsize = 20)\n",
    "plt.title('$Scatter\\,Plot$', fontsize = 20)\n",
    "plt.show()"
   ]
  },
  {
   "cell_type": "code",
   "execution_count": 4,
   "metadata": {
    "ExecuteTime": {
     "end_time": "2019-06-07T06:24:15.707902Z",
     "start_time": "2019-06-07T06:24:14.609041Z"
    },
    "slideshow": {
     "slide_type": "slide"
    },
    "tags": [
     "popout",
     "hide_input"
    ]
   },
   "outputs": [
    {
     "data": {
      "image/png": "[encoded data removed]",
      "text/plain": [
       "<Figure size 432x288 with 1 Axes>"
      ]
     },
     "metadata": {},
     "output_type": "display_data"
    }
   ],
   "source": [
    "%matplotlib inline\n",
    "import matplotlib.pyplot as plt\n",
    "\n",
    "xi = [1, 2, 3, 4, 5]\n",
    "y = [3, 5, 9, 13, 16]\n",
    "\n",
    "plt.plot(xi, y, 'g-s')\n",
    "plt.xlabel('$x_i$', fontsize = 20)\n",
    "plt.ylabel('$y$', fontsize = 20)\n",
    "plt.title('$Scatter\\,Plot$', fontsize = 20)\n",
    "plt.show()"
   ]
  },
  {
   "cell_type": "markdown",
   "metadata": {
    "slideshow": {
     "slide_type": "slide"
    }
   },
   "source": [
    "# 运行C代码\n",
    "\n",
    "C functions are typically split into header files (.h) where things are declared but not defined, and implementation files (.c) where they are defined. http://people.duke.edu/~ccc14/sta-663/CrashCourseInC.html#a-tutorial-example-coding-a-fibonacci-function-in-c"
   ]
  },
  {
   "cell_type": "code",
   "execution_count": 5,
   "metadata": {
    "ExecuteTime": {
     "end_time": "2019-06-07T06:26:11.397052Z",
     "start_time": "2019-06-07T06:26:11.391964Z"
    },
    "slideshow": {
     "slide_type": "subslide"
    }
   },
   "outputs": [
    {
     "name": "stdout",
     "output_type": "stream",
     "text": [
      "Overwriting hello.c\n"
     ]
    }
   ],
   "source": [
    "%%file hello.c\n",
    "#include <stdio.h>\n",
    "\n",
    "int main() {\n",
    "    printf(\"Hello, world!\");\n",
    "}"
   ]
  },
  {
   "cell_type": "code",
   "execution_count": 6,
   "metadata": {
    "ExecuteTime": {
     "end_time": "2019-06-07T06:26:29.912376Z",
     "start_time": "2019-06-07T06:26:29.789505Z"
    },
    "slideshow": {
     "slide_type": "subslide"
    }
   },
   "outputs": [
    {
     "name": "stdout",
     "output_type": "stream",
     "text": [
      "xcrun: error: invalid active developer path (/Library/Developer/CommandLineTools), missing xcrun at: /Library/Developer/CommandLineTools/usr/bin/xcrun\r\n"
     ]
    }
   ],
   "source": [
    "! gcc hello.c -o hello # 编译"
   ]
  },
  {
   "cell_type": "code",
   "execution_count": 3,
   "metadata": {
    "ExecuteTime": {
     "end_time": "2018-04-27T05:54:12.626044Z",
     "start_time": "2018-04-27T05:54:12.511042Z"
    },
    "slideshow": {
     "slide_type": "fragment"
    }
   },
   "outputs": [
    {
     "name": "stdout",
     "output_type": "stream",
     "text": [
      "Hello, world!"
     ]
    }
   ],
   "source": [
    "! ./hello # 执行"
   ]
  },
  {
   "cell_type": "markdown",
   "metadata": {
    "slideshow": {
     "slide_type": "slide"
    }
   },
   "source": [
    "# Jupyter 魔术命令 "
   ]
  },
  {
   "cell_type": "code",
   "execution_count": 14,
   "metadata": {
    "ExecuteTime": {
     "end_time": "2018-04-19T10:29:30.618186Z",
     "start_time": "2018-04-19T10:29:30.612065Z"
    },
    "slideshow": {
     "slide_type": "subslide"
    }
   },
   "outputs": [
    {
     "data": {
      "application/json": {
       "cell": {
        "!": "OSMagics",
        "HTML": "Other",
        "SVG": "Other",
        "bash": "Other",
        "capture": "ExecutionMagics",
        "debug": "ExecutionMagics",
        "file": "Other",
        "html": "DisplayMagics",
        "javascript": "DisplayMagics",
        "js": "DisplayMagics",
        "latex": "DisplayMagics",
        "markdown": "DisplayMagics",
        "perl": "Other",
        "prun": "ExecutionMagics",
        "pypy": "Other",
        "python": "Other",
        "python2": "Other",
        "python3": "Other",
        "ruby": "Other",
        "script": "ScriptMagics",
        "sh": "Other",
        "svg": "DisplayMagics",
        "sx": "OSMagics",
        "system": "OSMagics",
        "time": "ExecutionMagics",
        "timeit": "ExecutionMagics",
        "writefile": "OSMagics"
       },
       "line": {
        "alias": "OSMagics",
        "alias_magic": "BasicMagics",
        "autocall": "AutoMagics",
        "automagic": "AutoMagics",
        "autosave": "KernelMagics",
        "bookmark": "OSMagics",
        "cat": "Other",
        "cd": "OSMagics",
        "clear": "KernelMagics",
        "colors": "BasicMagics",
        "config": "ConfigMagics",
        "connect_info": "KernelMagics",
        "cp": "Other",
        "debug": "ExecutionMagics",
        "dhist": "OSMagics",
        "dirs": "OSMagics",
        "doctest_mode": "BasicMagics",
        "ed": "Other",
        "edit": "KernelMagics",
        "env": "OSMagics",
        "gui": "BasicMagics",
        "hist": "Other",
        "history": "HistoryMagics",
        "killbgscripts": "ScriptMagics",
        "ldir": "Other",
        "less": "KernelMagics",
        "lf": "Other",
        "lk": "Other",
        "ll": "Other",
        "load": "CodeMagics",
        "load_ext": "ExtensionMagics",
        "loadpy": "CodeMagics",
        "logoff": "LoggingMagics",
        "logon": "LoggingMagics",
        "logstart": "LoggingMagics",
        "logstate": "LoggingMagics",
        "logstop": "LoggingMagics",
        "ls": "Other",
        "lsmagic": "BasicMagics",
        "lx": "Other",
        "macro": "ExecutionMagics",
        "magic": "BasicMagics",
        "man": "KernelMagics",
        "matplotlib": "PylabMagics",
        "mkdir": "Other",
        "more": "KernelMagics",
        "mv": "Other",
        "notebook": "BasicMagics",
        "page": "BasicMagics",
        "pastebin": "CodeMagics",
        "pdb": "ExecutionMagics",
        "pdef": "NamespaceMagics",
        "pdoc": "NamespaceMagics",
        "pfile": "NamespaceMagics",
        "pinfo": "NamespaceMagics",
        "pinfo2": "NamespaceMagics",
        "pip": "BasicMagics",
        "popd": "OSMagics",
        "pprint": "BasicMagics",
        "precision": "BasicMagics",
        "profile": "BasicMagics",
        "prun": "ExecutionMagics",
        "psearch": "NamespaceMagics",
        "psource": "NamespaceMagics",
        "pushd": "OSMagics",
        "pwd": "OSMagics",
        "pycat": "OSMagics",
        "pylab": "PylabMagics",
        "qtconsole": "KernelMagics",
        "quickref": "BasicMagics",
        "recall": "HistoryMagics",
        "rehashx": "OSMagics",
        "reload_ext": "ExtensionMagics",
        "rep": "Other",
        "rerun": "HistoryMagics",
        "reset": "NamespaceMagics",
        "reset_selective": "NamespaceMagics",
        "rm": "Other",
        "rmdir": "Other",
        "run": "ExecutionMagics",
        "save": "CodeMagics",
        "sc": "OSMagics",
        "set_env": "OSMagics",
        "store": "StoreMagics",
        "sx": "OSMagics",
        "system": "OSMagics",
        "tb": "ExecutionMagics",
        "time": "ExecutionMagics",
        "timeit": "ExecutionMagics",
        "unalias": "OSMagics",
        "unload_ext": "ExtensionMagics",
        "who": "NamespaceMagics",
        "who_ls": "NamespaceMagics",
        "whos": "NamespaceMagics",
        "xdel": "NamespaceMagics",
        "xmode": "BasicMagics"
       }
      },
      "text/plain": [
       "Available line magics:\n",
       "%alias  %alias_magic  %autocall  %automagic  %autosave  %bookmark  %cat  %cd  %clear  %colors  %config  %connect_info  %cp  %debug  %dhist  %dirs  %doctest_mode  %ed  %edit  %env  %gui  %hist  %history  %killbgscripts  %ldir  %less  %lf  %lk  %ll  %load  %load_ext  %loadpy  %logoff  %logon  %logstart  %logstate  %logstop  %ls  %lsmagic  %lx  %macro  %magic  %man  %matplotlib  %mkdir  %more  %mv  %notebook  %page  %pastebin  %pdb  %pdef  %pdoc  %pfile  %pinfo  %pinfo2  %popd  %pprint  %precision  %profile  %prun  %psearch  %psource  %pushd  %pwd  %pycat  %pylab  %qtconsole  %quickref  %recall  %rehashx  %reload_ext  %rep  %rerun  %reset  %reset_selective  %rm  %rmdir  %run  %save  %sc  %set_env  %store  %sx  %system  %tb  %time  %timeit  %unalias  %unload_ext  %who  %who_ls  %whos  %xdel  %xmode\n",
       "\n",
       "Available cell magics:\n",
       "%%!  %%HTML  %%SVG  %%bash  %%capture  %%debug  %%file  %%html  %%javascript  %%js  %%latex  %%markdown  %%perl  %%prun  %%pypy  %%python  %%python2  %%python3  %%ruby  %%script  %%sh  %%svg  %%sx  %%system  %%time  %%timeit  %%writefile\n",
       "\n",
       "Automagic is ON, % prefix IS NOT needed for line magics."
      ]
     },
     "execution_count": 14,
     "metadata": {},
     "output_type": "execute_result"
    }
   ],
   "source": [
    "%lsmagic "
   ]
  },
  {
   "cell_type": "markdown",
   "metadata": {
    "slideshow": {
     "slide_type": "subslide"
    }
   },
   "source": [
    ">  pip install version_information"
   ]
  },
  {
   "cell_type": "code",
   "execution_count": 8,
   "metadata": {
    "ExecuteTime": {
     "end_time": "2019-06-07T06:28:42.462467Z",
     "start_time": "2019-06-07T06:28:39.036474Z"
    },
    "slideshow": {
     "slide_type": "subslide"
    }
   },
   "outputs": [
    {
     "name": "stdout",
     "output_type": "stream",
     "text": [
      "Requirement already satisfied: version_information in /Users/datalab/Applications/anaconda/lib/python3.5/site-packages (1.0.3)\n",
      "\u001b[33mYou are using pip version 19.0.3, however version 19.1.1 is available.\n",
      "You should consider upgrading via the 'pip install --upgrade pip' command.\u001b[0m\n"
     ]
    }
   ],
   "source": [
    "!pip install version_information"
   ]
  },
  {
   "cell_type": "code",
   "execution_count": 9,
   "metadata": {
    "ExecuteTime": {
     "end_time": "2019-06-07T06:29:42.785175Z",
     "start_time": "2019-06-07T06:29:41.429103Z"
    },
    "slideshow": {
     "slide_type": "subslide"
    }
   },
   "outputs": [
    {
     "data": {
      "application/json": {
       "Software versions": [
        {
         "module": "Python",
         "version": "3.5.4 64bit [GCC 4.2.1 Compatible Clang 4.0.1 (tags/RELEASE_401/final)]"
        },
        {
         "module": "IPython",
         "version": "6.2.1"
        },
        {
         "module": "OS",
         "version": "Darwin 18.6.0 x86_64 i386 64bit"
        },
        {
         "module": "numpy",
         "version": "1.16.3"
        },
        {
         "module": "matplotlib",
         "version": "3.0.1"
        },
        {
         "module": "pandas",
         "version": "0.23.4"
        },
        {
         "module": "scipy",
         "version": "1.1.0"
        },
        {
         "module": "statsmodels",
         "version": "0.9.0"
        }
       ]
      },
      "text/html": [
       "<table><tr><th>Software</th><th>Version</th></tr><tr><td>Python</td><td>3.5.4 64bit [GCC 4.2.1 Compatible Clang 4.0.1 (tags/RELEASE_401/final)]</td></tr><tr><td>IPython</td><td>6.2.1</td></tr><tr><td>OS</td><td>Darwin 18.6.0 x86_64 i386 64bit</td></tr><tr><td>numpy</td><td>1.16.3</td></tr><tr><td>matplotlib</td><td>3.0.1</td></tr><tr><td>pandas</td><td>0.23.4</td></tr><tr><td>scipy</td><td>1.1.0</td></tr><tr><td>statsmodels</td><td>0.9.0</td></tr><tr><td colspan='2'>Fri Jun 07 14:29:42 2019 CST</td></tr></table>"
      ],
      "text/latex": [
       "\\begin{tabular}{|l|l|}\\hline\n",
       "{\\bf Software} & {\\bf Version} \\\\ \\hline\\hline\n",
       "Python & 3.5.4 64bit [GCC 4.2.1 Compatible Clang 4.0.1 (tags/RELEASE\\_401/final)] \\\\ \\hline\n",
       "IPython & 6.2.1 \\\\ \\hline\n",
       "OS & Darwin 18.6.0 x86\\_64 i386 64bit \\\\ \\hline\n",
       "numpy & 1.16.3 \\\\ \\hline\n",
       "matplotlib & 3.0.1 \\\\ \\hline\n",
       "pandas & 0.23.4 \\\\ \\hline\n",
       "scipy & 1.1.0 \\\\ \\hline\n",
       "statsmodels & 0.9.0 \\\\ \\hline\n",
       "\\hline \\multicolumn{2}{|l|}{Fri Jun 07 14:29:42 2019 CST} \\\\ \\hline\n",
       "\\end{tabular}\n"
      ],
      "text/plain": [
       "Software versions\n",
       "Python 3.5.4 64bit [GCC 4.2.1 Compatible Clang 4.0.1 (tags/RELEASE_401/final)]\n",
       "IPython 6.2.1\n",
       "OS Darwin 18.6.0 x86_64 i386 64bit\n",
       "numpy 1.16.3\n",
       "matplotlib 3.0.1\n",
       "pandas 0.23.4\n",
       "scipy 1.1.0\n",
       "statsmodels 0.9.0\n",
       "Fri Jun 07 14:29:42 2019 CST"
      ]
     },
     "execution_count": 9,
     "metadata": {},
     "output_type": "execute_result"
    }
   ],
   "source": [
    "# install version_information in the terminal first.\n",
    "%reload_ext version_information\n",
    "%version_information numpy, matplotlib, pandas, scipy, statsmodels"
   ]
  },
  {
   "cell_type": "markdown",
   "metadata": {
    "slideshow": {
     "slide_type": "slide"
    }
   },
   "source": [
    "# References\n",
    "\n",
    "{% bibliography %}\n",
    "\n",
    "\n"
   ]
  },
  {
   "cell_type": "code",
   "execution_count": null,
   "metadata": {},
   "outputs": [],
   "source": []
  }
 ],
 "metadata": {
  "celltoolbar": "Tags",
  "kernelspec": {
   "display_name": "Python 3",
   "language": "python",
   "name": "python3"
  },
  "language_info": {
   "codemirror_mode": {
    "name": "ipython",
    "version": 3
   },
   "file_extension": ".py",
   "mimetype": "text/x-python",
   "name": "python",
   "nbconvert_exporter": "python",
   "pygments_lexer": "ipython3",
   "version": "3.7.3"
  },
  "latex_envs": {
   "LaTeX_envs_menu_present": true,
   "autoclose": false,
   "autocomplete": true,
   "bibliofile": "references.bib",
   "cite_by": "number",
   "current_citInitial": 1,
   "eqLabelWithNumbers": true,
   "eqNumInitial": 0,
   "hotkeys": {
    "equation": "Ctrl-E",
    "itemize": "Ctrl-I"
   },
   "labels_anchors": false,
   "latex_user_defs": false,
   "report_style_numbering": false,
   "user_envs_cfg": false
  },
  "toc": {
   "base_numbering": 1,
   "nav_menu": {},
   "number_sections": false,
   "sideBar": false,
   "skip_h1_title": false,
   "title_cell": "Table of Contents",
   "title_sidebar": "Contents",
   "toc_cell": true,
   "toc_position": {
    "height": "138px",
    "left": "1262.97px",
    "top": "112.778px",
    "width": "213px"
   },
   "toc_section_display": true,
   "toc_window_display": false
  }
 },
 "nbformat": 4,
 "nbformat_minor": 1
}
